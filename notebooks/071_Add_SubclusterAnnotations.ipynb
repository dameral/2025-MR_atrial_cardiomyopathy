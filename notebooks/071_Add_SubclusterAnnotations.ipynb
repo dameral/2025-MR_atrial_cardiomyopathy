{
 "cells": [
  {
   "cell_type": "markdown",
   "id": "6de49d5e-d725-45f6-92e1-6831e18d8891",
   "metadata": {},
   "source": [
    "# Load libraries and Themes"
   ]
  },
  {
   "cell_type": "code",
   "execution_count": 1,
   "id": "35d7dba7-aec1-4e24-9702-d0eb6d41a8e3",
   "metadata": {
    "tags": []
   },
   "outputs": [],
   "source": [
    "suppressPackageStartupMessages({\n",
    "    suppressWarnings({\n",
    "        library(Seurat)\n",
    "        library(ggplot2)\n",
    "        library(tidyverse)\n",
    "        library(SeuratDisk)\n",
    "       })})"
   ]
  },
  {
   "cell_type": "code",
   "execution_count": null,
   "id": "39ea3e8b-4e9f-4694-a0dc-58f4c95dd9af",
   "metadata": {},
   "outputs": [],
   "source": [
    "#Color Palettes\n",
    "\n",
    "palette.doublets <- c(\n",
    "    \"#197278\",#turqu\n",
    "    \"#C1C1C1\"#grey\n",
    ")\n",
    "\n",
    "palette.2 <- c(\n",
    "    \"#990902\",\n",
    "    \"#0303a3\"\n",
    ")\n",
    "\n",
    "palette.4 <- DiscretePalette(4, palette = \"stepped\", shuffle = TRUE)\n",
    "\n",
    "palette.12 <- DiscretePalette(12, palette = \"stepped\", shuffle = TRUE)\n",
    "\n",
    "palette.15 <- DiscretePalette(12, palette = \"stepped\", shuffle = TRUE)\n",
    "\n",
    "palette <- c(\n",
    "    \"#990902\",#CM_0\n",
    "    \"#0303a3\",#EC-end\n",
    "    \"#ebe6c7\",#FB\n",
    "    \"#077a01\",#MΦ-M2\n",
    "    \"#05b1eb\",#EC-cap\n",
    "    \"#660202\",#PER\n",
    "    \"#4b048a\",#MESO\n",
    "    \"#7d0701\",#CM_1\n",
    "    \"#0FB602\",#TC\n",
    "    \"#0324fc\",#EC-lym\n",
    "    \"#FFD100\",#SC\n",
    "    \"#d90f04\",#CM_2\n",
    "    \"#aad902\"#BC\n",
    ")\n",
    "   \n",
    "palette.treatment <- c(\n",
    "    \"#AF0000\",#ALDO\n",
    "    \"#C1C1C1\"#CTRL\n",
    ")"
   ]
  },
  {
   "cell_type": "code",
   "execution_count": null,
   "id": "594f95d6-1f38-411c-aed5-ad8b70d5a04f",
   "metadata": {},
   "outputs": [],
   "source": [
    "umap_theme <- theme(\n",
    "  axis.line=element_blank(),\n",
    "  axis.text.x=element_blank(),\n",
    "  axis.text.y=element_blank(),\n",
    "  axis.ticks=element_blank(),\n",
    "  axis.title.x=element_blank(),\n",
    "  axis.title.y=element_blank(),\n",
    "  panel.background=element_blank(),\n",
    "  panel.border=element_blank(),\n",
    "  panel.grid.major=element_blank(),\n",
    "  panel.grid.minor=element_blank()\n",
    ")\n",
    "\n",
    "vln_theme_1 <- theme(\n",
    "  axis.text.x = element_blank(),\n",
    "  axis.text.y = element_blank(),\n",
    "  panel.background = element_blank(),\n",
    "  axis.title.x = element_blank(),\n",
    "  axis.title.y = element_blank(),\n",
    "  panel.border = element_blank(),\n",
    "  panel.grid.major = element_blank(),\n",
    "  panel.grid.minor = element_blank(),\n",
    "  text = element_text(size = 25)\n",
    ")\n",
    "\n",
    "vln_theme_2 <- theme(\n",
    "  panel.background = element_blank(),\n",
    "  axis.title.x = element_blank(),\n",
    "  axis.title.y = element_blank(),\n",
    "  panel.border = element_blank(),\n",
    "  panel.grid.major = element_blank(),\n",
    "  panel.grid.minor = element_blank(),\n",
    "  text = element_text(size = 25)\n",
    ")"
   ]
  },
  {
   "cell_type": "code",
   "execution_count": null,
   "id": "45ca9734-58b0-4757-af0e-54f362634e87",
   "metadata": {},
   "outputs": [],
   "source": [
    "setwd(\"/media/daten/dmeral/scseq_analysis/2024_LA_CTRL_ALDO\")"
   ]
  },
  {
   "cell_type": "code",
   "execution_count": null,
   "id": "131d2400-c09a-43cb-a9a1-bdd51f6338a8",
   "metadata": {},
   "outputs": [],
   "source": [
    "set.seed(1234)"
   ]
  },
  {
   "cell_type": "markdown",
   "id": "ff0b69ce-fd57-4466-9a63-08e107ab702c",
   "metadata": {},
   "source": [
    "# Add Subcluster annotations to original file"
   ]
  },
  {
   "cell_type": "code",
   "execution_count": null,
   "id": "4c5dd502-239e-4284-a041-5e787e6f7d0f",
   "metadata": {
    "tags": []
   },
   "outputs": [],
   "source": [
    "obj_rename <- LoadH5Seurat(\"seurat_objects/obj_seu_merge_harmony_sgl_addmodule_downsample_rename.h5seurat\")"
   ]
  },
  {
   "cell_type": "code",
   "execution_count": null,
   "id": "c687d46f-a38e-4fe1-a3a8-d0b8e40f59b8",
   "metadata": {},
   "outputs": [],
   "source": [
    "CM <- LoadH5Seurat(\"subcluster/Subcluster_CM_full.h5seurat\")"
   ]
  },
  {
   "cell_type": "code",
   "execution_count": null,
   "id": "3c1ac193-604e-466b-9568-d0b4d9c4a43e",
   "metadata": {},
   "outputs": [],
   "source": [
    "seurat_objects <- list(CM)"
   ]
  },
  {
   "cell_type": "code",
   "execution_count": null,
   "id": "a72ed497-5d40-4e72-a86c-2191b9a6807b",
   "metadata": {},
   "outputs": [],
   "source": [
    "set_cell_type_sub <- function(seurat_objects) {\n",
    "  for (obj in seurat_objects) {\n",
    "    obj@meta.data$cell_type_sub <- Idents(obj)\n",
    "  }\n",
    "}\n",
    "\n",
    "set_cell_type_sub(seurat_objects)"
   ]
  },
  {
   "cell_type": "code",
   "execution_count": null,
   "id": "1c575432-3b56-420a-b781-5495b5d4d815",
   "metadata": {},
   "outputs": [],
   "source": [
    "unique(obj_rename@meta.data$cell_type)"
   ]
  },
  {
   "cell_type": "code",
   "execution_count": null,
   "id": "0c4d2d66-8854-4f11-983c-ac2be94f26b8",
   "metadata": {},
   "outputs": [],
   "source": [
    "object_wo_subcluster <- subset(x = obj_rename, subset = cell_type %in% c(\"MΦ\", \"FB\", \"TC\", \"PER\", \"EC-end\", \"BC\", \"EC-cap\", \"MESO\", \"EC-lym\", \"SC\"))"
   ]
  },
  {
   "cell_type": "code",
   "execution_count": null,
   "id": "1ec76125-041b-478e-9af7-3289ce6eaf70",
   "metadata": {},
   "outputs": [],
   "source": [
    "# Create empty cell_type_sub_num column in obj_rename_viableclusters\n",
    "obj_rename$cell_type_sub <- NA"
   ]
  },
  {
   "cell_type": "code",
   "execution_count": null,
   "id": "7bacf177-3b14-4e21-b571-afaf2dc77c3a",
   "metadata": {},
   "outputs": [],
   "source": [
    "# Extract meta.data\n",
    "original_metadata <- obj_rename@meta.data\n",
    "\n",
    "wo_subcluster_metadata <- object_wo_subcluster@meta.data\n",
    "CM_metadata <- CM@meta.data"
   ]
  },
  {
   "cell_type": "code",
   "execution_count": null,
   "id": "663f8252-4d3a-464c-b46e-3cf7165cd979",
   "metadata": {},
   "outputs": [],
   "source": [
    "# Reset rownames to a column in all data frames\n",
    "original_metadata$barcode <- rownames(original_metadata)\n",
    "\n",
    "wo_subcluster_metadata$barcode <- rownames(wo_subcluster_metadata)\n",
    "CM_metadata$barcode <- rownames(CM_metadata)"
   ]
  },
  {
   "cell_type": "code",
   "execution_count": null,
   "id": "e7544b5c-bc0b-4852-88c0-113c49aff5bb",
   "metadata": {},
   "outputs": [],
   "source": [
    "# Subset to barcode and cell_type_sub columns\n",
    "original_metadata <- original_metadata[c(\"barcode\", \"cell_type_sub\")]\n",
    "\n",
    "wo_subcluster_metadata <- wo_subcluster_metadata[c(\"barcode\", \"cell_type\")]\n",
    "CM_metadata <- CM_metadata[c(\"barcode\", \"cell_type_sub\")]"
   ]
  },
  {
   "cell_type": "code",
   "execution_count": null,
   "id": "427de924-26ba-4dfa-a6e8-dbc0b677858c",
   "metadata": {},
   "outputs": [],
   "source": [
    "# Merge df\n",
    "merged_df <- merge(original_metadata, wo_subcluster_metadata, by = \"barcode\", all.x = TRUE)\n",
    "merged_df <- merge(merged_df, CM_metadata, by = \"barcode\", all.x = TRUE)"
   ]
  },
  {
   "cell_type": "code",
   "execution_count": null,
   "id": "d2712830-6655-4f20-b920-c203d6c6fd7b",
   "metadata": {},
   "outputs": [],
   "source": [
    "names(merged_df) <- c(\"barcode\", \"original\", \"wo_subcluster\", \"CM\")"
   ]
  },
  {
   "cell_type": "code",
   "execution_count": null,
   "id": "0c9e8115-d8e9-4cc9-91b2-4ec367413fff",
   "metadata": {},
   "outputs": [],
   "source": [
    "merged_df$merged_column <- coalesce(merged_df$wo_subcluster, merged_df$CM)"
   ]
  },
  {
   "cell_type": "code",
   "execution_count": null,
   "id": "f3b9cf00-83f1-43f4-8ee5-08aef6aab92a",
   "metadata": {},
   "outputs": [],
   "source": [
    "cell_type_sub_df <- merged_df[c(\"barcode\", \"merged_column\")]"
   ]
  },
  {
   "cell_type": "code",
   "execution_count": null,
   "id": "6ef9452f-6c71-4cd4-a65f-6a2a527425a2",
   "metadata": {},
   "outputs": [],
   "source": [
    "cell_type_sub_df <- cell_type_sub_df[match(original_metadata$barcode, cell_type_sub_df$barcode), ]"
   ]
  },
  {
   "cell_type": "code",
   "execution_count": null,
   "id": "3aa9d42e-37d5-4d28-bbc4-dc1efb3bf278",
   "metadata": {},
   "outputs": [],
   "source": [
    "cell_type_sub_df <- cell_type_sub_df[c(\"merged_column\")]"
   ]
  },
  {
   "cell_type": "code",
   "execution_count": null,
   "id": "ffe7e8a2-16b0-4eb5-88d2-c2214d21c598",
   "metadata": {},
   "outputs": [],
   "source": [
    "cell_type_sub_df <- unlist(cell_type_sub_df, use.names = FALSE)"
   ]
  },
  {
   "cell_type": "code",
   "execution_count": null,
   "id": "7bd1cbf1-203a-468c-b85b-b2e00facade2",
   "metadata": {
    "scrolled": true
   },
   "outputs": [],
   "source": [
    "obj_rename$cell_type_sub <- cell_type_sub_df"
   ]
  },
  {
   "cell_type": "code",
   "execution_count": null,
   "id": "e72c2740-f59b-4b0f-84fd-114ac57ff208",
   "metadata": {
    "scrolled": true
   },
   "outputs": [],
   "source": [
    "head(obj_rename@meta.data)"
   ]
  },
  {
   "cell_type": "code",
   "execution_count": null,
   "id": "d241f40d-cdf5-4e89-b811-60df820a2984",
   "metadata": {},
   "outputs": [],
   "source": [
    "# Remove cells not correctly assigned due to random subsampling (n=4)\n",
    "\n",
    "barcodes_to_remove <- c(rownames(obj_rename@meta.data[is.na(obj_rename@meta.data$cell_type_sub), ]))\n",
    "barcodes_to_remove\n",
    "\n",
    "# Subset the Seurat object to exclude the specified barcodes by directly using rownames\n",
    "obj_rename <- obj_rename[, !rownames(obj_rename@meta.data) %in% barcodes_to_remove]"
   ]
  },
  {
   "cell_type": "code",
   "execution_count": null,
   "id": "835f4a1f-0de3-43fb-927a-ac7ef3d4ff76",
   "metadata": {},
   "outputs": [],
   "source": [
    "any(rownames(obj_rename) %in% barcodes_to_remove)"
   ]
  },
  {
   "cell_type": "code",
   "execution_count": null,
   "id": "d5dd7c0b-d073-4200-81c9-1e2287037477",
   "metadata": {},
   "outputs": [],
   "source": [
    "# Create a contingency table for cell_type_sub and treatment\n",
    "tab <- table(obj_rename@meta.data$cell_type_sub, obj_rename@meta.data$treatment)\n",
    "\n",
    "# View the table\n",
    "tab"
   ]
  },
  {
   "cell_type": "code",
   "execution_count": null,
   "id": "2b1e1307-ce2b-47f1-9f69-0ceae685e673",
   "metadata": {},
   "outputs": [],
   "source": [
    "suppressWarnings(print(DimPlot(obj_rename, group.by = \"cell_type_sub\")))\n",
    "suppressWarnings(print(DimPlot(obj_rename, group.by = \"cell_type\")))"
   ]
  },
  {
   "cell_type": "code",
   "execution_count": null,
   "id": "016cda58-fd66-430e-b6ab-1d702b80e580",
   "metadata": {
    "scrolled": true
   },
   "outputs": [],
   "source": [
    "SaveH5Seurat(obj_rename, \"seurat_objects/obj_rename_withsubcluster\")"
   ]
  },
  {
   "cell_type": "code",
   "execution_count": 2,
   "id": "6ed10974-ef9c-4e1a-ae06-c788fe577cc2",
   "metadata": {},
   "outputs": [
    {
     "data": {
      "text/plain": [
       "R version 4.3.3 (2024-02-29)\n",
       "Platform: x86_64-conda-linux-gnu (64-bit)\n",
       "Running under: Ubuntu 24.04.1 LTS\n",
       "\n",
       "Matrix products: default\n",
       "BLAS/LAPACK: /media/daten/dmeral/micromamba/envs/scrna_dm/lib/libopenblasp-r0.3.27.so;  LAPACK version 3.12.0\n",
       "\n",
       "locale:\n",
       " [1] LC_CTYPE=C.UTF-8       LC_NUMERIC=C           LC_TIME=C.UTF-8       \n",
       " [4] LC_COLLATE=C.UTF-8     LC_MONETARY=C.UTF-8    LC_MESSAGES=C.UTF-8   \n",
       " [7] LC_PAPER=C.UTF-8       LC_NAME=C              LC_ADDRESS=C          \n",
       "[10] LC_TELEPHONE=C         LC_MEASUREMENT=C.UTF-8 LC_IDENTIFICATION=C   \n",
       "\n",
       "time zone: Etc/UTC\n",
       "tzcode source: system (glibc)\n",
       "\n",
       "attached base packages:\n",
       "[1] stats     graphics  grDevices utils     datasets  methods   base     \n",
       "\n",
       "other attached packages:\n",
       " [1] SeuratDisk_0.0.0.9021 lubridate_1.9.4       forcats_1.0.0        \n",
       " [4] stringr_1.5.1         dplyr_1.1.4           purrr_1.0.2          \n",
       " [7] readr_2.1.5           tidyr_1.3.1           tibble_3.2.1         \n",
       "[10] tidyverse_2.0.0       ggplot2_3.5.1         Seurat_5.1.0         \n",
       "[13] SeuratObject_5.0.2    sp_2.1-4             \n",
       "\n",
       "loaded via a namespace (and not attached):\n",
       "  [1] RColorBrewer_1.1-3     jsonlite_1.8.9         magrittr_2.0.3        \n",
       "  [4] spatstat.utils_3.1-1   farver_2.1.2           vctrs_0.6.5           \n",
       "  [7] ROCR_1.0-11            spatstat.explore_3.3-3 base64enc_0.1-3       \n",
       " [10] htmltools_0.5.8.1      sctransform_0.4.1.9001 parallelly_1.40.1     \n",
       " [13] KernSmooth_2.23-24     htmlwidgets_1.6.4      ica_1.0-3             \n",
       " [16] plyr_1.8.9             plotly_4.10.4          zoo_1.8-12            \n",
       " [19] uuid_1.2-1             igraph_2.1.2           mime_0.12             \n",
       " [22] lifecycle_1.0.4        pkgconfig_2.0.3        Matrix_1.6-5          \n",
       " [25] R6_2.5.1               fastmap_1.2.0          fitdistrplus_1.2-1    \n",
       " [28] future_1.34.0          shiny_1.9.1            digest_0.6.37         \n",
       " [31] colorspace_2.1-1       patchwork_1.3.0        tensor_1.5            \n",
       " [34] RSpectra_0.16-2        irlba_2.3.5.1          progressr_0.15.1      \n",
       " [37] fansi_1.0.6            spatstat.sparse_3.1-0  timechange_0.3.0      \n",
       " [40] httr_1.4.7             polyclip_1.10-7        abind_1.4-8           \n",
       " [43] compiler_4.3.3         bit64_4.5.2            withr_3.0.2           \n",
       " [46] fastDummies_1.7.4      MASS_7.3-60.0.1        tools_4.3.3           \n",
       " [49] lmtest_0.9-40          httpuv_1.6.15          future.apply_1.11.3   \n",
       " [52] goftest_1.2-3          glue_1.8.0             nlme_3.1-166          \n",
       " [55] promises_1.3.2         grid_4.3.3             pbdZMQ_0.3-13         \n",
       " [58] Rtsne_0.17             cluster_2.1.7          reshape2_1.4.4        \n",
       " [61] generics_0.1.3         hdf5r_1.3.11           gtable_0.3.6          \n",
       " [64] spatstat.data_3.1-4    tzdb_0.4.0             data.table_1.16.4     \n",
       " [67] hms_1.1.3              utf8_1.2.4             spatstat.geom_3.3-4   \n",
       " [70] RcppAnnoy_0.0.22       ggrepel_0.9.6          RANN_2.6.2            \n",
       " [73] pillar_1.9.0           spam_2.11-0            IRdisplay_1.1         \n",
       " [76] RcppHNSW_0.6.0         later_1.4.1            splines_4.3.3         \n",
       " [79] lattice_0.22-6         bit_4.5.0.1            survival_3.7-0        \n",
       " [82] deldir_2.0-4           tidyselect_1.2.1       miniUI_0.1.1.1        \n",
       " [85] pbapply_1.7-2          gridExtra_2.3          scattermore_1.2       \n",
       " [88] matrixStats_1.4.1      stringi_1.8.4          lazyeval_0.2.2        \n",
       " [91] evaluate_1.0.1         codetools_0.2-20       cli_3.6.3             \n",
       " [94] uwot_0.2.2             IRkernel_1.3.2         xtable_1.8-4          \n",
       " [97] reticulate_1.40.0      repr_1.1.7             munsell_0.5.1         \n",
       "[100] Rcpp_1.0.13-1          globals_0.16.3         spatstat.random_3.3-2 \n",
       "[103] png_0.1-8              spatstat.univar_3.1-1  parallel_4.3.3        \n",
       "[106] dotCall64_1.2          listenv_0.9.1          viridisLite_0.4.2     \n",
       "[109] scales_1.3.0           ggridges_0.5.6         leiden_0.4.3.1        \n",
       "[112] crayon_1.5.3           rlang_1.1.4            cowplot_1.1.3         "
      ]
     },
     "metadata": {},
     "output_type": "display_data"
    }
   ],
   "source": [
    "sessionInfo()"
   ]
  }
 ],
 "metadata": {
  "kernelspec": {
   "display_name": "scrna_dm",
   "language": "R",
   "name": "scrna_dm"
  },
  "language_info": {
   "codemirror_mode": "r",
   "file_extension": ".r",
   "mimetype": "text/x-r-source",
   "name": "R",
   "pygments_lexer": "r",
   "version": "4.3.3"
  }
 },
 "nbformat": 4,
 "nbformat_minor": 5
}
