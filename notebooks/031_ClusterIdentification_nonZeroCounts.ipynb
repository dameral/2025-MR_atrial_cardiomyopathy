{
 "cells": [
  {
   "cell_type": "markdown",
   "id": "6de49d5e-d725-45f6-92e1-6831e18d8891",
   "metadata": {},
   "source": [
    "# Load libraries and Themes"
   ]
  },
  {
   "cell_type": "code",
   "execution_count": 1,
   "id": "35d7dba7-aec1-4e24-9702-d0eb6d41a8e3",
   "metadata": {
    "tags": []
   },
   "outputs": [],
   "source": [
    "suppressPackageStartupMessages({\n",
    "    suppressWarnings({\n",
    "        library(Seurat)\n",
    "        library(ggplot2)\n",
    "        library(tidyverse)\n",
    "        library(SeuratDisk)\n",
    "        library(SingleCellExperiment)\n",
    "        library(DESeq2)\n",
    "        library(dplyr)\n",
    "        library(EnhancedVolcano)\n",
    "        library(Rsamtools)\n",
    "        library(svglite)\n",
    "        library(viridis)\n",
    "        library(harmony)\n",
    "        library(patchwork)\n",
    "        library(ggpubr)\n",
    "        library(pals)\n",
    "            })})"
   ]
  },
  {
   "cell_type": "code",
   "execution_count": null,
   "id": "39ea3e8b-4e9f-4694-a0dc-58f4c95dd9af",
   "metadata": {},
   "outputs": [],
   "source": [
    "#Color Palettes\n",
    "\n",
    "palette.doublets <- c(\n",
    "    '#197278',#turqu\n",
    "    '#C1C1C1'#grey\n",
    ")\n",
    "\n",
    "palette.16 <- DiscretePalette(16, palette = \"stepped\", shuffle = TRUE)\n",
    "\n",
    "palette.2 <- c(\n",
    "    \"#990902\",\n",
    "    \"#0303a3\"\n",
    ")\n",
    "\n",
    "palette.4 <- DiscretePalette(4, palette = \"stepped\", shuffle = TRUE)\n",
    "\n",
    "palette.12 <- DiscretePalette(12, palette = \"stepped\", shuffle = TRUE)\n",
    "\n",
    "palette.15 <- DiscretePalette(12, palette = \"stepped\", shuffle = TRUE)\n",
    "\n",
    "palette <- c(\n",
    "    \"#990902\",#CM_0\n",
    "    \"#0303a3\",#EC-end\n",
    "    \"#ebe6c7\",#FB\n",
    "    \"#077a01\",#MΦ-M2\n",
    "    \"#05b1eb\",#EC-cap\n",
    "    \"#660202\",#PER\n",
    "    \"#4b048a\",#MESO\n",
    "    \"#7d0701\",#CM_1\n",
    "    \"#0FB602\",#TC\n",
    "    \"#0324fc\",#EC-lym\n",
    "    \"#FFD100\",#SC\n",
    "    \"#d90f04\",#CM_2\n",
    "    \"#aad902\"#BC\n",
    ")\n",
    "\n",
    "palette.dbl <- c(\n",
    "    \"#990902\",#CM_0\n",
    "    \"#0303a3\",#EC-end\n",
    "    \"#ebe6c7\",#FB\n",
    "    \"#077a01\",#MΦ-M2\n",
    "    \"#05b1eb\",#EC-cap\n",
    "    \"#660202\",#PER\n",
    "    \"#4b048a\",#MESO\n",
    "    \"#000000\",#dbl\n",
    "    \"#7d0701\",#CM_1\n",
    "    \"#0FB602\",#TC\n",
    "    \"#0324fc\",#EC-lym\n",
    "    \"#FFD100\",#SC\n",
    "    \"#d90f04\",#CM_2\n",
    "    \"#aad902\"#BC\n",
    ")\n",
    "\n",
    "palette.ex <- c(\n",
    "    \"#bababa\",#BC\n",
    "    \"#bababa\",#CM_0\n",
    "    \"#bababa\",#CM_1\n",
    "    \"#bababa\",#CM_2\n",
    "    \"#bababa\",#CM_3\n",
    "    \"#bababa\",#Cyc\n",
    "    \"#bababa\",#EC-cap\n",
    "    \"#000000\",#ex\n",
    "    \"#bababa\",#FB\n",
    "    \"#bababa\",#MESO\n",
    "    \"#bababa\",#MP_0\n",
    "    \"#bababa\",#MP_1\n",
    "    \"#bababa\",#NEU\n",
    "    \"#bababa\"#PER\n",
    ")\n",
    "    \n",
    "palette.treatment <- c(\n",
    "    '#AF0000',#ALDO\n",
    "    '#C1C1C1'#CTRL\n",
    ")"
   ]
  },
  {
   "cell_type": "code",
   "execution_count": null,
   "id": "594f95d6-1f38-411c-aed5-ad8b70d5a04f",
   "metadata": {},
   "outputs": [],
   "source": [
    "umap_theme <- theme(\n",
    "  axis.line=element_blank(),\n",
    "  axis.text.x=element_blank(),\n",
    "  axis.text.y=element_blank(),\n",
    "  axis.ticks=element_blank(),\n",
    "  axis.title.x=element_blank(),\n",
    "  axis.title.y=element_blank(),\n",
    "  panel.background=element_blank(),\n",
    "  panel.border=element_blank(),\n",
    "  panel.grid.major=element_blank(),\n",
    "  panel.grid.minor=element_blank()\n",
    ")\n",
    "\n",
    "vln_theme_1 <- theme(\n",
    "  axis.text.x = element_blank(),\n",
    "  axis.text.y = element_blank(),\n",
    "  panel.background = element_blank(),\n",
    "  axis.title.x = element_blank(),\n",
    "  axis.title.y = element_blank(),\n",
    "  panel.border = element_blank(),\n",
    "  panel.grid.major = element_blank(),\n",
    "  panel.grid.minor = element_blank(),\n",
    "  text = element_text(size = 25)\n",
    ")\n",
    "\n",
    "vln_theme_2 <- theme(\n",
    "  panel.background = element_blank(),\n",
    "  axis.title.x = element_blank(),\n",
    "  axis.title.y = element_blank(),\n",
    "  panel.border = element_blank(),\n",
    "  panel.grid.major = element_blank(),\n",
    "  panel.grid.minor = element_blank(),\n",
    "  text = element_text(size = 25)\n",
    ")"
   ]
  },
  {
   "cell_type": "code",
   "execution_count": null,
   "id": "4c5dd502-239e-4284-a041-5e787e6f7d0f",
   "metadata": {
    "tags": []
   },
   "outputs": [],
   "source": [
    "setwd(\"/media/daten/dmeral/scseq_analysis/2024_LA_CTRL_ALDO\")"
   ]
  },
  {
   "cell_type": "code",
   "execution_count": null,
   "id": "c62ec305-3d87-45f4-b528-826bd9e4675f",
   "metadata": {},
   "outputs": [],
   "source": [
    "set.seed(1234)"
   ]
  },
  {
   "cell_type": "markdown",
   "id": "cb7dd5ca-fc19-46cb-9eac-7179148453cb",
   "metadata": {},
   "source": [
    "# Identify viable clusters and cell types"
   ]
  },
  {
   "cell_type": "code",
   "execution_count": null,
   "id": "7e2999d8-7a60-4145-a635-a12306919f0c",
   "metadata": {
    "tags": []
   },
   "outputs": [],
   "source": [
    "obj_harmony_addmodule <- LoadH5Seurat(\"seurat_objects/obj_seu_merge_harmony_sgl_addmodule.h5seurat\")"
   ]
  },
  {
   "cell_type": "markdown",
   "id": "ba022559-1355-435c-8353-6a7c0b7c8bbb",
   "metadata": {},
   "source": [
    "## Cellnumbers per cluster and sample (counts replicates individualy) and subset to equal cell numbers after filtering"
   ]
  },
  {
   "cell_type": "code",
   "execution_count": null,
   "id": "c6ad6ac6-701e-4be7-83a3-a7b868410150",
   "metadata": {},
   "outputs": [],
   "source": [
    "obj_harmony_addmodule@meta.data"
   ]
  },
  {
   "cell_type": "code",
   "execution_count": null,
   "id": "57d4f019-1180-4522-9ab2-0c8c7202aaa8",
   "metadata": {},
   "outputs": [],
   "source": [
    "#genes, cells\n",
    "dim(obj_harmony_addmodule)\n",
    "\n",
    "summary(colSums(obj_harmony_addmodule))"
   ]
  },
  {
   "cell_type": "code",
   "execution_count": null,
   "id": "ff201481-8e9a-4f7c-b76c-d1b955c88c14",
   "metadata": {},
   "outputs": [],
   "source": [
    "number <- table(obj_harmony_addmodule@meta.data$sample_id, \n",
    "                          obj_harmony_addmodule@meta.data$seurat_clusters)\n",
    "write.csv(number, file = \"cellnumbers/number_perCluster_sample_id_sgl.csv\")\n",
    "\n",
    "number <- table(obj_harmony_addmodule@meta.data$treatment, \n",
    "                          obj_harmony_addmodule@meta.data$seurat_clusters)\n",
    "write.csv(number, file = \"cellnumbers/number_perCluster_Teatment_sgl.csv\")"
   ]
  },
  {
   "cell_type": "code",
   "execution_count": null,
   "id": "5682c9c5-4699-4b40-bb49-dd1a0902e65e",
   "metadata": {},
   "outputs": [],
   "source": [
    "obj_harmony_addmodule_subset <- subset(obj_harmony_addmodule, seurat_clusters %in% c(6, 13) == FALSE)"
   ]
  },
  {
   "cell_type": "code",
   "execution_count": null,
   "id": "e81b3924-3885-4bb8-8976-b60849629ffc",
   "metadata": {},
   "outputs": [],
   "source": [
    "tab <- table(obj_harmony_addmodule_subset@meta.data$sample_id)\n",
    "print(tab)"
   ]
  },
  {
   "cell_type": "code",
   "execution_count": null,
   "id": "fabc0fe2-7a1a-468f-af22-2bc946a952aa",
   "metadata": {},
   "outputs": [],
   "source": [
    "# Downsample to even cell numbers\n",
    "downsampled_list <- list()\n",
    "\n",
    "# Get unique sample IDs\n",
    "sample_ids <- unique(obj_harmony_addmodule_subset@meta.data$sample_id)\n",
    "\n",
    "# Loop through each sample ID\n",
    "for (sample_id in sample_ids) {\n",
    "  # Subset the object for the current sample_id\n",
    "  subset_obj <- subset(obj_harmony_addmodule_subset, subset = sample_id == !!sample_id)\n",
    "\n",
    "  # Downsample to a maximum of 7789 cells\n",
    "  if (ncol(subset_obj) > 7789) {\n",
    "    # Randomly select 7789 cells\n",
    "    cell_indices <- sample(colnames(subset_obj), 7789)\n",
    "    subset_obj <- subset(subset_obj, cells = cell_indices)\n",
    "  }\n",
    "  \n",
    "  # Store the downsampled object in the list\n",
    "  downsampled_list[[sample_id]] <- subset_obj\n",
    "}\n",
    "\n",
    "# Combine all downsampled objects back into one Seurat object\n",
    "obj_harmony_addmodule_subset_down <- merge(downsampled_list[[1]], y = downsampled_list[-1])\n",
    "\n",
    "# Check the counts of cells per sample_id\n",
    "tab <- table(obj_harmony_addmodule_subset_down@meta.data$sample_id)\n",
    "print(tab) "
   ]
  },
  {
   "cell_type": "code",
   "execution_count": null,
   "id": "ff400886-ce89-448c-bdd8-2e6747cd5e4b",
   "metadata": {},
   "outputs": [],
   "source": [
    "number <- table(obj_harmony_addmodule_subset_down@meta.data$sample_id, \n",
    "                          obj_harmony_addmodule_subset_down@meta.data$seurat_clusters)\n",
    "write.csv(number, file = \"cellnumbers/number_perCluster_sample_id_sgl_evencellnumbers.csv\")\n",
    "\n",
    "number <- table(obj_harmony_addmodule_subset_down@meta.data$treatment, \n",
    "                          obj_harmony_addmodule_subset_down@meta.data$seurat_clusters)\n",
    "write.csv(number, file = \"cellnumbers/number_perCluster_Teatment_sgl_evencellnumbers.csv\")"
   ]
  },
  {
   "cell_type": "code",
   "execution_count": null,
   "id": "a142c18b-7084-4f3c-8b6f-fc96e13326e7",
   "metadata": {},
   "outputs": [],
   "source": [
    "obj <- NormalizeData(obj_harmony_addmodule_subset_down, verbose = FALSE)\n",
    "obj <- FindVariableFeatures(obj, verbose = FALSE)\n",
    "obj <- ScaleData(obj, verbose = FALSE)\n",
    "obj <- RunPCA(obj, assay = \"RNA\", npcs = 35, verbose = FALSE)"
   ]
  },
  {
   "cell_type": "code",
   "execution_count": null,
   "id": "023e1ece-b122-4cb6-8b92-c373b9a23db5",
   "metadata": {},
   "outputs": [],
   "source": [
    "# integrate \"sex\"\n",
    "obj$sex <- as.factor(obj$sex)\n",
    "\n",
    "obj <- obj %>%\n",
    "  RunHarmony(group.by.vars = c(\"sex\"), plot_convergence = TRUE, assay.use = \"RNA\", verbose = FALSE)"
   ]
  },
  {
   "cell_type": "code",
   "execution_count": null,
   "id": "11afcef5-1f4f-45b4-b1ce-88745a2b0dc3",
   "metadata": {},
   "outputs": [],
   "source": [
    "#Run UMAP\n",
    "obj <- obj %>%\n",
    "  RunUMAP(reduction = \"harmony\", dims = 1:35, verbose = FALSE) %>%\n",
    "  FindNeighbors(reduction = \"harmony\", dims = 1:35, verbose = FALSE) %>%\n",
    "  FindClusters(resolution = 0.25)\n",
    "\n",
    "SaveH5Seurat(obj, \"seurat_objects/obj_seu_merge_harmony_sgl_addmodule_downsample\")"
   ]
  },
  {
   "cell_type": "code",
   "execution_count": null,
   "id": "d96b0a48-8d75-4bb1-a702-09c46022f9ef",
   "metadata": {},
   "outputs": [],
   "source": [
    "options(repr.plot.width = 5, repr.plot.height = 4, repr.plot.res = 300)\n",
    "\n",
    "DimPlot(obj, reduction = \"umap\", label = TRUE, label.size = 5, shuffle = TRUE, group.by = \"seurat_clusters\", cols = palette.16) + umap_theme + NoLegend() + theme(text = element_text(size = 10))\n",
    "DimPlot(obj, reduction = \"umap\", label = FALSE, label.size = 5, shuffle = TRUE, group.by = \"treatment\", cols = palette.treatment) + umap_theme + theme(text = element_text(size = 10))"
   ]
  },
  {
   "cell_type": "markdown",
   "id": "40afc039-d19f-42da-ac91-9dbf34f4b7d2",
   "metadata": {},
   "source": [
    "## FindAllMarkers"
   ]
  },
  {
   "cell_type": "code",
   "execution_count": null,
   "id": "d39bb85a-87af-4644-a437-a185fe58502c",
   "metadata": {
    "scrolled": true,
    "tags": []
   },
   "outputs": [],
   "source": [
    "all.markers <- FindAllMarkers(obj, only.pos = TRUE, min.pct = 0.50, logfc.threshold = 0.58, test.use = \"wilcox\")\n",
    "all.markers %>%\n",
    "  group_by(\"seurat_clusters\") %>%\n",
    "  slice_max(n = 50, order_by = avg_log2FC)\n",
    "\n",
    "write.csv(all.markers, file = \"DEGs/all.markers_wilcox_downsaple.csv\")"
   ]
  },
  {
   "cell_type": "markdown",
   "id": "74e3d143-9f65-4439-a44c-d39a59303b83",
   "metadata": {
    "tags": []
   },
   "source": [
    "## Plots of markers"
   ]
  },
  {
   "cell_type": "code",
   "execution_count": null,
   "id": "a2eb36e4-cfb3-48f5-933f-9d1aef6b9113",
   "metadata": {},
   "outputs": [],
   "source": [
    "stress_markers <- list(\n",
    "    \"stress\" = c(\"Ctgf\", \"Nppb\", \"Nppa\")\n",
    "    )"
   ]
  },
  {
   "cell_type": "code",
   "execution_count": null,
   "id": "7659c940-1c3f-49ea-ac54-7175216727c4",
   "metadata": {},
   "outputs": [],
   "source": [
    "options(repr.plot.width = 15, repr.plot.height = 4, repr.plot.res = 300)\n",
    "\n",
    "DOT_stress_markers <- DotPlot(\n",
    "  obj,\n",
    "  features = unlist(stress_markers, use.names = FALSE)) +\n",
    "  geom_point(aes(size = pct.exp), shape = 21, colour = \"black\", stroke = 0.5) +  \n",
    "  guides(\n",
    "    size = guide_legend(override.aes = list(shape = 21, colour = \"black\", fill = \"white\")), \n",
    "    colour = guide_colorbar(frame.colour = \"black\", ticks.colour = \"black\")  \n",
    "  ) +\n",
    "  theme(axis.text.x = element_text(angle = 90, hjust = 1)) +\n",
    "  theme(panel.border = element_rect(color = \"black\", linewidth = 0.5)) +\n",
    "  scale_colour_distiller(palette = \"OrRd\", direction = 0) +\n",
    "  scale_y_discrete(limits = rev)\n",
    "\n",
    "ggsave(\"Plots/DOT_stress_markers.svg\", width = 9, height = 10, units = \"cm\", dpi = 300)\n",
    "\n",
    "DOT_stress_markers"
   ]
  },
  {
   "cell_type": "code",
   "execution_count": null,
   "id": "ba643417-20fb-4978-b019-c50fc086e7bf",
   "metadata": {},
   "outputs": [],
   "source": [
    "myeloid_markers <- list(\n",
    "  \"Monocytes\" = c(\"Ccr2\", \"Cd14\", \"Fcgr3\"),\n",
    "  \"Macrophages\" = c(\"Cd68\", \"Itgam\", \"Adgre1\"),\n",
    "  \"Dendritic Cells\" = c(\"Flt3\", \"Clec10a\", \"Fcer1a\"),\n",
    "  \"Neutrophils\" = c(\"Cxcr1\", \"Cxcr2\", \"Lcn2\"),\n",
    "  \"Eosinophils\" = c(\"Epx\", \"Prg2\", \"Il5ra\"),\n",
    "  \"Basophils\" = c(\"Il4\", \"Mcpt8\", \"Ms4a2\"), \n",
    "  \"Mast Cells\" = c(\"Kit\", \"Mcpt1\", \"Mcpt4\"),\n",
    "  \"Microglia\" = c(\"Cx3cr1\", \"Tmem119\", \"P2ry12\"),\n",
    "  \"Cycling\" = c(\"Mki67\", \"Top2a\", \"Pcna\")\n",
    ")"
   ]
  },
  {
   "cell_type": "code",
   "execution_count": null,
   "id": "9a9bf080-1722-4fb3-b8d8-b953c0482dfc",
   "metadata": {},
   "outputs": [],
   "source": [
    "options(repr.plot.width = 15, repr.plot.height = 4, repr.plot.res = 300)\n",
    "\n",
    "DOT_myeloid_markers <- DotPlot(\n",
    "  obj,\n",
    "  features = unlist(myeloid_markers, use.names = FALSE)) + \n",
    "  geom_point(aes(size = pct.exp), shape = 21, colour = \"black\", stroke = 0.5) +  \n",
    "  guides(\n",
    "    size = guide_legend(override.aes = list(shape = 21, colour = \"black\", fill = \"white\")),  \n",
    "    colour = guide_colorbar(frame.colour = \"black\", ticks.colour = \"black\")  \n",
    "  ) +\n",
    "  theme(axis.text.x = element_text(angle = 90, hjust = 1)) +\n",
    "  theme(panel.border = element_rect(color = \"black\", linewidth = 0.5)) +\n",
    "  scale_colour_distiller(palette = \"OrRd\", direction = 0) +\n",
    "  scale_y_discrete(limits = rev)\n",
    "\n",
    "num_features <- length(unlist(myeloid_markers, use.names = FALSE)) \n",
    "vline_positions <- seq(3.5, num_features, by = 3)\n",
    "\n",
    "DOT_myeloid_markers <- DOT_myeloid_markers + \n",
    "  geom_vline(xintercept = vline_positions, color = \"black\", linetype = \"solid\", size = 0.5)\n",
    "\n",
    "ggsave(\"Plots/DOT_myeloid_markers.svg\", width = 20, height = 11, units = \"cm\", dpi = 300)\n",
    "\n",
    "DOT_myeloid_markers"
   ]
  },
  {
   "cell_type": "code",
   "execution_count": null,
   "id": "98a6125e-4150-41af-811b-fa08a6c67817",
   "metadata": {},
   "outputs": [],
   "source": [
    "canonical_markers <- list(\n",
    "    \"Endothelial Cell\" = c(\"Cdh5\", \"Pecam1\", \"Npr3\", \"Kdr\", \"Vwf\"),\n",
    "    \"Cardiomyocyte\" = c(\"Myh6\", \"Pln\", \"Atp2a2\", \"Ryr2\", \"Kcnj3\"),\n",
    "    \"Fibroblast\" = c(\"Col1a1\", \"Col3a1\", \"Dcn\", \"Pdgfra\", \"Lamc1\"),\n",
    "    \"Macrophage\" = c(\"Lyz2\", \"Maf\", \"F13a1\", \"Arhgap15\", \"Runx1\"),\n",
    "    \"T-Cell\" = c(\"Lat\", \"Skap1\", \"Cd247\", \"Il7r\", \"Grap2\"),\n",
    "    \"B-Cell\" = c(\"Cd79b\", \"H2-Ob\", \"Bank1\", \"Cd55\", \"Pax5\"),\n",
    "    \"Smooth Muscle Cell\" = c(\"Acta2\", \"Myh11\", \"Lmod1\", \"Sema5a\", \"Kcnma1\"),\n",
    "    \"DC-like Cell\" = c(\"Plbd1\", \"Ccr2\", \"Naaa\", \"Ear2\", \"H2afy\"),\n",
    "    \"Granulocyte\" = c(\"S100a8\", \"Csf3r\", \"Lmnb1\", \"Hp\", \"Hdc\"),\n",
    "    \"NK Cell\" = c(\"Ccl5\", \"Nkg7\", \"Ctsw\", \"Gzma\", \"Cd27\"),\n",
    "    \"Pericyte\" = c(\"Kcnj8\", \"Vtn\", \"Colec11\", \"Pdgfrb\", \"Abcc9\"),\n",
    "    \"Schwann Cell\" = c(\"Nrxn1\", \"Nrn1\", \"Plp1\", \"Cnp\", \"Cd59a\"))"
   ]
  },
  {
   "cell_type": "code",
   "execution_count": null,
   "id": "17e2a34f-be87-4058-85e3-8628b9c6374c",
   "metadata": {},
   "outputs": [],
   "source": [
    "options(repr.plot.width = 15, repr.plot.height = 4, repr.plot.res = 300)\n",
    "\n",
    "DOT_canonical_markers <- DotPlot(\n",
    "  obj,\n",
    "  features = unlist(canonical_markers, use.names = FALSE)) + \n",
    "  geom_point(aes(size = pct.exp), shape = 21, colour = \"black\", stroke = 0.5) +\n",
    "  guides(\n",
    "    size = guide_legend(override.aes = list(shape = 21, colour = \"black\", fill = \"white\")),\n",
    "    colour = guide_colorbar(frame.colour = \"black\", ticks.colour = \"black\")  \n",
    "  ) +\n",
    "  theme(axis.text.x = element_text(angle = 90, hjust = 1)) +\n",
    "  theme(panel.border = element_rect(color = \"black\", linewidth = 0.5)) +\n",
    "  scale_colour_distiller(palette = \"OrRd\", direction = 0) +\n",
    "  scale_y_discrete(limits = rev)\n",
    "\n",
    "num_features <- length(unlist(canonical_markers, use.names = FALSE)) \n",
    "vline_positions <- seq(5.5, num_features, by = 5)\n",
    "\n",
    "DOT_canonical_markers <- DOT_canonical_markers + \n",
    "  geom_vline(xintercept = vline_positions, color = \"black\", linetype = \"solid\", size = 0.5)\n",
    "\n",
    "ggsave(\"Plots/DOT_canonical_markers.svg\", width = 38, height = 11, units = \"cm\", dpi = 300)\n",
    "\n",
    "DOT_canonical_markers"
   ]
  },
  {
   "cell_type": "code",
   "execution_count": null,
   "id": "6e6fc2a3-fa6f-4b46-8754-2f62ed598a3b",
   "metadata": {},
   "outputs": [],
   "source": [
    "Top5_markers <- list(\n",
    "    \"0\" = c(\"Kcnj3\", \"Erbb4\", \"Ryr2\", \"Rbm20\", \"Chrm2\"),\n",
    "    \"1\" = c(\"Npr3\", \"Tmem2\", \"Chrm3\", \"Cgnl1\", \"Wdr17\"),\n",
    "    \"2\" = c(\"Ebf2\", \"Pcdh9\", \"Abca8a\", \"Lsamp\", \"Gsn\"),\n",
    "    \"3\" = c(\"F13a1\", \"Arhgap15\", \"Dock2\", \"Mrc1\", \"Runx1\"),\n",
    "    \"4\" = c(\"Myo10\", \"Fabp4\", \"Ccdc85a\", \"Ablim3\", \"Meox2\"),\n",
    "    \"5\" = c(\"Notch3\", \"Trpc3\", \"Rgs5\", \"Ano1\", \"Abcc9\"),\n",
    "    \"6\" = c(\"Muc16\", \"Pcdh15\", \"Wt1\", \"Dpp4\", \"Sema3d\"),\n",
    "    \"7\" = c(\"Slc9a9\", \"Prkcb\", \"Ptprc\", \"Mctp1\", \"Dock8\"),\n",
    "    \"8\" = c(\"Acer2\", \"Htra3\", \"C1qtnf7\", \"Tnxb\", \"Col15a1\"),\n",
    "    \"9\" = c(\"Cryab\", \"Myl7\", \"Mb\", \"Csrp3\", \"Fabp3\"),\n",
    "    \"10\" = c(\"Dock10\", \"Iqgap2\", \"Diaph3\", \"Ikzf1\", \"Ankrd44\"),\n",
    "    \"11\" = c(\"Mmrn1\", \"Reln\", \"Flt4\", \"Pard6g\", \"Prox1\"),\n",
    "    \"12\" = c(\"Csmd1\", \"Slc35f1\", \"Cadm2\", \"Cdh19\", \"Chl1\"),\n",
    "    \"13\" = c(\"Nppa\", \"Myh6\", \"Ttn\", \"Tnnt2\", \"Fgf12\"),\n",
    "    \"14\" = c(\"Pax5\", \"Bank1\", \"Ikzf3\", \"Ighm\", \"Btla\"))"
   ]
  },
  {
   "cell_type": "code",
   "execution_count": null,
   "id": "f82c4156-a996-4488-b712-2976b3474367",
   "metadata": {},
   "outputs": [],
   "source": [
    "# Check for duplicates in \"Top5_markers\" \n",
    "marker_df <- data.frame(\n",
    "  Group = rep(names(Top5_markers), times = sapply(Top5_markers, length)),\n",
    "  Marker = unlist(Top5_markers)\n",
    ")\n",
    "\n",
    "duplicated_markers <- marker_df$Marker[duplicated(marker_df$Marker)]\n",
    "\n",
    "duplicated_info <- marker_df[marker_df$Marker %in% duplicated_markers, ]\n",
    "\n",
    "print(duplicated_info)"
   ]
  },
  {
   "cell_type": "code",
   "execution_count": null,
   "id": "ad83c20e-84f1-4296-89f2-29131911a8f5",
   "metadata": {},
   "outputs": [],
   "source": [
    "options(repr.plot.width = 15, repr.plot.height = 4, repr.plot.res = 300)\n",
    "\n",
    "DOT_Top5_markers <- DotPlot(\n",
    "  obj,\n",
    "  features = unlist(Top5_markers, use.names = FALSE)) + \n",
    "  geom_point(aes(size = pct.exp), shape = 21, colour = \"black\", stroke = 0.5) +  \n",
    "  guides(\n",
    "    size = guide_legend(override.aes = list(shape = 21, colour = \"black\", fill = \"white\")),  \n",
    "    colour = guide_colorbar(frame.colour = \"black\", ticks.colour = \"black\")  \n",
    "  ) +\n",
    "  theme(axis.text.x = element_text(angle = 90, hjust = 1)) +\n",
    "  theme(panel.border = element_rect(color = \"black\", linewidth = 0.5)) +\n",
    "  scale_colour_distiller(palette = \"OrRd\", direction = 0) +\n",
    "  #scale_colour_viridis_c(option = \"D\", direction = 1) +  \n",
    "  scale_y_discrete(limits = rev)\n",
    "\n",
    "num_features <- length(unlist(Top5_markers, use.names = FALSE)) \n",
    "vline_positions <- seq(5.5, num_features, by = 5)\n",
    "\n",
    "DOT_Top5_markers <- DOT_Top5_markers + \n",
    "  geom_vline(xintercept = vline_positions, color = \"black\", linetype = \"solid\", size = 0.5)\n",
    "\n",
    "ggsave(\"Plots/DOT_Top5_markers.svg\", width = 45, height = 11, units = \"cm\", dpi = 300)\n",
    "\n",
    "DOT_Top5_markers"
   ]
  },
  {
   "cell_type": "code",
   "execution_count": null,
   "id": "d04b1f73-1d17-4477-a15a-37229f21c4b1",
   "metadata": {
    "scrolled": true
   },
   "outputs": [],
   "source": [
    "options(repr.plot.width = 10, repr.plot.height = 30, repr.plot.res = 300)\n",
    "\n",
    "# Generate your feature plots as a list\n",
    "UMAP_grid_canonical_marker <- FeaturePlot(\n",
    "  obj,\n",
    "  features = unlist(Top5_markers),\n",
    "  combine = FALSE,  \n",
    "  cols = viridis(256),\n",
    "  max.cutoff = \"q98\", ncol = 5\n",
    ")\n",
    "\n",
    "# Customize each plot with your theme and settings\n",
    "for (i in 1:75) {\n",
    "  UMAP_grid_canonical_marker[[i]] <- UMAP_grid_canonical_marker[[i]] + \n",
    "    umap_theme + \n",
    "    NoLegend() + \n",
    "    theme(text = element_text(size = 15))\n",
    "}\n",
    "\n",
    "# Combine all plots into a grid using patchwork's wrap_plots()\n",
    "combined_plot <- wrap_plots(UMAP_grid_canonical_marker, ncol = 5)\n",
    "\n",
    "# Save the combined plot\n",
    "ggsave(\"Plots/UMAP_grid_canonical_marker.svg\", plot = combined_plot, width = 25, height = 75, units = \"cm\", dpi = 200)\n",
    "\n",
    "# Display the combined plot\n",
    "combined_plot"
   ]
  },
  {
   "cell_type": "code",
   "execution_count": null,
   "id": "69369b61-140d-45ca-b758-4be1e013c172",
   "metadata": {},
   "outputs": [],
   "source": [
    "options(repr.plot.width = 5, repr.plot.height = 4, repr.plot.res = 300)\n",
    "\n",
    "DimPlot(obj, reduction = \"umap\", label = TRUE, label.size = 5, group.by = \"seurat_clusters\", cols = palette.15) + umap_theme + NoLegend() + theme(text = element_text(size = 10))"
   ]
  },
  {
   "cell_type": "code",
   "execution_count": null,
   "id": "1df223aa-8f1f-4d45-ae13-7afa29ef55d3",
   "metadata": {},
   "outputs": [],
   "source": [
    "# Top10 markers for EC subtypes from Carmeliet Lab\n",
    "Top10EC_markers <- list(\n",
    "\"artery\" <- c(\"Fbln5\", \"Stmn2\", \"8430408G22Rik\", \"Glul\", \"Fos\", \"Id1\", \"Hey1\", \"Sox17\", \"Gadd45g\", \"Btg2\"),\n",
    "\"capillary arterial\" <- c(\"Cxcl12\", \"Rbp7\", \"Mgll\", \"Ly6c1\", \"Aqp7\", \"Btnl9\", \"Pdgfd\", \"Sema7a\", \"Clec2d\", \"Unc5b\"),\n",
    "\"capillary\" <- c(\"Ssh2\", \"Endou\", \"Fam57b\", \"Kifc3\", \"Ntf3\", \"Tmem182\", \"Fam212b\", \"4430402I18Rik\", \"Coro2b\", \"Fam117b\"),\n",
    "\"capillary venous\" <- c(\"Vcam1\", \"Ier3\", \"Pltp\", \"Pi16\", \"Fmo2\", \"Fmo1\", \"Calcrl\", \"Emp1\", \"AU021092\", \"Bsg\"),\n",
    "\"large vein\" <- c(\"Emp2\", \"Mgp\", \"Cfh\", \"Apoe\", \"Cpe\", \"Cytl1\", \"Bgn\", \"Plvap\", \"Dcn\", \"Ctsh\"),\n",
    "\"interferon\" <- c(\"Rgcc\", \"Lpl\", \"Isg15\", \"Car4\", \"Ifit3\", \"Rtp4\", \"Ifi203\", \"Rsad2\", \"Tcf15\", \"Ifit1\"),\n",
    "\"angiogenic\" <- c(\"Tmsb10\", \"Ift122\", \"Sparc\", \"Cldn5\", \"Col4a2\", \"Apln\", \"Vim\", \"Igfbp7\", \"Vwa1\", \"Mest\"),\n",
    "\"lymphatic\" <- c(\"Ccl21a\", \"Mmrn1\", \"Fgl2\", \"Prss23\", \"Thy1\", \"Igfbp5\", \"Fth1\", \"Lyve1\", \"Prelp\", \"Prox1\"))"
   ]
  },
  {
   "cell_type": "code",
   "execution_count": null,
   "id": "7e3befea-037c-4b6b-849d-3de3e3693168",
   "metadata": {},
   "outputs": [],
   "source": [
    "options(repr.plot.width = 15, repr.plot.height = 5, repr.plot.res = 300)\n",
    "\n",
    "DOT_Top10EC_markers <- DotPlot(\n",
    "  obj,\n",
    "  features = unlist(Top10EC_markers, use.names = FALSE)\n",
    ") + \n",
    "  geom_point(aes(size = pct.exp), shape = 21, colour = \"black\", stroke = 0.5) +  \n",
    "  guides(\n",
    "    size = guide_legend(override.aes = list(shape = 21, colour = \"black\", fill = \"white\")),  \n",
    "    colour = guide_colorbar(frame.colour = \"black\", ticks.colour = \"black\")  \n",
    "  ) +\n",
    "  theme(axis.text.x = element_text(angle = 90, hjust = 1)) +\n",
    "  theme(panel.border = element_rect(color = \"black\", linewidth = 0.5)) +\n",
    "  scale_colour_distiller(palette = \"OrRd\", direction = 0) +\n",
    "  scale_y_discrete(limits = rev)\n",
    "\n",
    "num_features <- length(unlist(Top10EC_markers, use.names = FALSE)) \n",
    "vline_positions <- seq(10.5, num_features, by = 10)\n",
    "\n",
    "DOT_Top10EC_markers <- DOT_Top10EC_markers + \n",
    "  geom_vline(xintercept = vline_positions, color = \"black\", linetype = \"solid\", size = 0.5)\n",
    "\n",
    "ggsave(\"Plots/DOT_Top10EC_markers_Carmeliet.svg\", width = 48, height = 13, units = \"cm\", dpi = 300)\n",
    "\n",
    "# Print the plot\n",
    "print(DOT_Top10EC_markers)"
   ]
  },
  {
   "cell_type": "code",
   "execution_count": null,
   "id": "b585f3ec-5471-4460-909d-35094bbf69aa",
   "metadata": {},
   "outputs": [],
   "source": [
    "MΦ_markers <- list(\n",
    "  \"M1 (pro-inflammatory)\" = c(\"Cd80\", \"Cd86\", \"Nos2\", \"Tnf\", \"Il6\", \"Il12b\", \"Cxcl9\", \"Ccl2\"),\n",
    "  \"M2 (anti-inflammatory)\" = c(\"Cd163\", \"Mrc1\", \"Arg1\", \"Il10\", \"Tgfb1\", \"Mmp9\", \"Vegfa\", \"Retnla\"))"
   ]
  },
  {
   "cell_type": "code",
   "execution_count": null,
   "id": "13f40e65-c9da-4e5f-8c42-fb859ef01623",
   "metadata": {},
   "outputs": [],
   "source": [
    "options(repr.plot.width = 15, repr.plot.height = 5, repr.plot.res = 300)\n",
    "\n",
    "DOT_MΦ_markers <- DotPlot(\n",
    "  obj,\n",
    "  features = unlist(MΦ_markers, use.names = FALSE)\n",
    ") + \n",
    "  geom_point(aes(size = pct.exp), shape = 21, colour = \"black\", stroke = 0.5) +  \n",
    "  guides(\n",
    "    size = guide_legend(override.aes = list(shape = 21, colour = \"black\", fill = \"white\")),  \n",
    "    colour = guide_colorbar(frame.colour = \"black\", ticks.colour = \"black\")  \n",
    "  ) +\n",
    "  theme(axis.text.x = element_text(angle = 90, hjust = 1)) +\n",
    "  theme(panel.border = element_rect(color = \"black\", linewidth = 0.5)) +\n",
    "  scale_colour_distiller(palette = \"OrRd\", direction = 0) +\n",
    "  scale_y_discrete(limits = rev)\n",
    "\n",
    "num_features <- length(unlist(MΦ_markers, use.names = FALSE)) \n",
    "vline_positions <- seq(8.5, num_features, by = 8)\n",
    "\n",
    "DOT_MΦ_markers <- DOT_MΦ_markers + \n",
    "  geom_vline(xintercept = vline_positions, color = \"black\", linetype = \"solid\", size = 0.5)\n",
    "\n",
    "#ggsave(\"Plots/DOT_MΦ_markers.svg\", width = 48, height = 13, units = \"cm\", dpi = 300)\n",
    "\n",
    "# Print the plot\n",
    "print(DOT_MΦ_markers)"
   ]
  },
  {
   "cell_type": "markdown",
   "id": "0f1be47f-ab49-45d1-aa35-9eedf83143d1",
   "metadata": {},
   "source": [
    "## Rename Cluster annotations"
   ]
  },
  {
   "cell_type": "code",
   "execution_count": null,
   "id": "9e555d3d-064a-4373-a053-75e324d0d98b",
   "metadata": {
    "scrolled": true
   },
   "outputs": [],
   "source": [
    "obj <- LoadH5Seurat(\"seurat_objects/obj_seu_merge_harmony_sgl_addmodule_downsample.h5seurat\")"
   ]
  },
  {
   "cell_type": "code",
   "execution_count": null,
   "id": "7138f301-e004-4b84-814e-c58fe5ef3559",
   "metadata": {},
   "outputs": [],
   "source": [
    "cluster_annotations <- list(\n",
    "    \"0\" = \"CM_0\",\n",
    "    \"1\" = \"EC-end\",\n",
    "    \"2\" = \"FB\",\n",
    "    \"3\" = \"MΦ\",\n",
    "    \"4\" = \"EC-cap\",\n",
    "    \"5\" = \"PER\",\n",
    "    \"6\" = \"MESO\",\n",
    "    \"7\" = \"dbl\",\n",
    "    \"8\" = \"dbl\",\n",
    "    \"9\" = \"CM_1\",\n",
    "    \"10\" = \"TC\",\n",
    "    \"11\" = \"EC-lym\",\n",
    "    \"12\" = \"SC\",\n",
    "    \"13\" = \"CM_2\",\n",
    "    \"14\" = \"BC\"\n",
    ")"
   ]
  },
  {
   "cell_type": "markdown",
   "id": "00f46f61-ccff-4fcc-a11b-6808c70debfe",
   "metadata": {},
   "source": [
    "Cannot merge two objects with different Idents properly. Celltype is stored in seperate meta.data column"
   ]
  },
  {
   "cell_type": "code",
   "execution_count": null,
   "id": "6d947f83-894d-4109-b341-04e2b1e219d6",
   "metadata": {
    "tags": []
   },
   "outputs": [],
   "source": [
    "cluster_annotations <- unlist(cluster_annotations, use.names = FALSE)\n",
    "\n",
    "obj@meta.data$Ident_numerical <- Idents(obj)\n",
    "names(cluster_annotations) <- levels(obj)\n",
    "obj <- RenameIdents(obj, cluster_annotations)\n",
    "obj@meta.data$cell_type <- Idents(obj)\n",
    "Idents(obj) <- obj@meta.data$\"Ident_numerical\"\n",
    "\n",
    "SaveH5Seurat(obj, \"seurat_objects/obj_seu_merge_harmony_sgl_addmodule_downsample_rename_dbl\")"
   ]
  },
  {
   "cell_type": "code",
   "execution_count": null,
   "id": "5ee722a1-03d2-4eb7-88e1-057f4247dcff",
   "metadata": {},
   "outputs": [],
   "source": [
    "obj\n",
    "sort(unique(Idents(obj)))\n",
    "sort(unique(obj@meta.data$cell_type))"
   ]
  },
  {
   "cell_type": "code",
   "execution_count": null,
   "id": "926f8635-721d-48f1-87aa-5bc808b5456b",
   "metadata": {},
   "outputs": [],
   "source": [
    "#cellnumbers after rename\n",
    "number <- table(obj@meta.data$sample_id, \n",
    "                          obj@meta.data$seurat_clusters)\n",
    "write.csv(number, file = \"cellnumbers/number_perCluster_sample_id_sgl_evencellnumbers_rename.csv\")\n",
    "\n",
    "number <- table(obj@meta.data$treatment, \n",
    "                          obj@meta.data$seurat_clusters)\n",
    "write.csv(number, file = \"cellnumbers/number_perCluster_Teatment_sgl_evencellnumbers_rename.csv\")"
   ]
  },
  {
   "cell_type": "markdown",
   "id": "81ad051c-850c-4f0f-a02f-d63f264c8bdb",
   "metadata": {},
   "source": [
    "## Visualize QC and UMAP"
   ]
  },
  {
   "cell_type": "code",
   "execution_count": null,
   "id": "dd12d7f9-27f6-4725-a377-937a66bbce93",
   "metadata": {
    "scrolled": true
   },
   "outputs": [],
   "source": [
    "options(repr.plot.width = 20, repr.plot.height = 10, repr.plot.res = 300)\n",
    "\n",
    "VlnPlot_QC <- VlnPlot(obj, group.by = \"cell_type\", \n",
    "                      features = c(\"nCount_RNA\", \"nFeature_RNA\", \"percent.mt\", \"scDblFinder.weighted\"),\n",
    "                      pt.size = 0, raster = TRUE, ncol = 2, cols = palette.dbl)\n",
    "\n",
    "plots <- lapply(1:4, function(i) {\n",
    "  if (i == 4) {\n",
    "    VlnPlot_QC[[i]] + theme(\n",
    "      axis.text.x = element_text(size = 15),  \n",
    "      axis.text.y = element_text(size = 15),  \n",
    "      axis.ticks.x = element_line(),   \n",
    "      axis.title.x = element_blank(),\n",
    "      plot.title = element_text(size = 15)  \n",
    "    )\n",
    "  } else {\n",
    "    VlnPlot_QC[[i]] + theme(\n",
    "      axis.text.x = element_blank(), \n",
    "      axis.text.y = element_text(size = 15),  \n",
    "      axis.ticks.x = element_blank(), \n",
    "      axis.title.x = element_blank(),\n",
    "      plot.title = element_text(size = 15)  \n",
    "    )\n",
    "  }\n",
    "})\n",
    "\n",
    "combined_plot <- wrap_plots(plots, ncol = 2)\n",
    "\n",
    "ggsave(\"Plots/VlnPlot_QC_withdblcluster.svg\", combined_plot, units = \"cm\", dpi = 300, width = 30, height = 20)\n",
    "\n",
    "suppressWarnings(print(combined_plot))"
   ]
  },
  {
   "cell_type": "markdown",
   "id": "0a349416-1f86-44bc-bb82-44bdae2dafc6",
   "metadata": {},
   "source": [
    "## Remove left-over doublet clusters"
   ]
  },
  {
   "cell_type": "code",
   "execution_count": null,
   "id": "473e450d-d0ac-42b9-809a-ffaaa42f62b0",
   "metadata": {},
   "outputs": [],
   "source": [
    "obj_subset <- subset(obj, subset = cell_type %in% c(\"dbl\"), invert = TRUE)"
   ]
  },
  {
   "cell_type": "code",
   "execution_count": null,
   "id": "b21e3f42-09c2-4360-899a-05ade9cd3808",
   "metadata": {
    "scrolled": true
   },
   "outputs": [],
   "source": [
    "SaveH5Seurat(obj_subset, \"seurat_objects/obj_seu_merge_harmony_sgl_addmodule_downsample_rename\")"
   ]
  },
  {
   "cell_type": "code",
   "execution_count": null,
   "id": "c47cd353-0b58-4e94-b4b2-76a031c43eb8",
   "metadata": {},
   "outputs": [],
   "source": [
    "#Final cellnumbers\n",
    "number <- table(obj_subset@meta.data$sample_id, \n",
    "                          obj_subset@meta.data$seurat_clusters)\n",
    "write.csv(number, file = \"cellnumbers/number_perCluster_sample_id_final.csv\")\n",
    "\n",
    "number <- table(obj_subset@meta.data$treatment, \n",
    "                          obj_subset@meta.data$seurat_clusters)\n",
    "write.csv(number, file = \"cellnumbers/number_perCluster_Teatment_final.csv\")"
   ]
  },
  {
   "cell_type": "code",
   "execution_count": null,
   "id": "28c2b441-4863-4a5d-a77a-54baf697a00a",
   "metadata": {},
   "outputs": [],
   "source": [
    "options(repr.plot.width = 20, repr.plot.height = 10, repr.plot.res = 300)\n",
    "\n",
    "VlnPlot_QC <- VlnPlot(obj_subset, group.by = \"cell_type\", \n",
    "                      features = c(\"nCount_RNA\", \"nFeature_RNA\", \"percent.mt\", \"scDblFinder.weighted\"),\n",
    "                      pt.size = 0, raster = TRUE, ncol = 2, cols = palette)\n",
    "\n",
    "plots <- lapply(1:4, function(i) {\n",
    "  if (i == 4) {\n",
    "    VlnPlot_QC[[i]] + theme(\n",
    "      axis.text.x = element_text(size = 15),  \n",
    "      axis.text.y = element_text(size = 15),  \n",
    "      axis.ticks.x = element_line(),   \n",
    "      axis.title.x = element_blank(),\n",
    "      plot.title = element_text(size = 15)  \n",
    "    )\n",
    "  } else {\n",
    "    VlnPlot_QC[[i]] + theme(\n",
    "      axis.text.x = element_blank(), \n",
    "      axis.text.y = element_text(size = 15),  \n",
    "      axis.ticks.x = element_blank(), \n",
    "      axis.title.x = element_blank(),\n",
    "      plot.title = element_text(size = 15)  \n",
    "    )\n",
    "  }\n",
    "})\n",
    "\n",
    "combined_plot <- wrap_plots(plots, ncol = 2)\n",
    "\n",
    "ggsave(\"Plots/VlnPlot_QC.svg\", combined_plot, units = \"cm\", dpi = 300, width = 30, height = 20)\n",
    "\n",
    "suppressWarnings(print(combined_plot))"
   ]
  },
  {
   "cell_type": "code",
   "execution_count": null,
   "id": "47581c22-f9b5-432b-83ab-4e9f2ccb1890",
   "metadata": {},
   "outputs": [],
   "source": [
    "options(repr.plot.width = 3, repr.plot.height = 2, repr.plot.res = 300)\n",
    "\n",
    "UMAP_rename_seurat_clusters <- DimPlot(obj_subset, group.by = \"seurat_clusters\", label = TRUE, shuffle = TRUE, cols = palette.23) +\n",
    "  umap_theme + ggtitle(\"UMAP seurat clusters\") + theme(text = element_text(size = 15)) & NoLegend()\n",
    "\n",
    "UMAP_rename_cell_type <- DimPlot(obj_subset, group.by = \"cell_type\", label = TRUE, shuffle = TRUE, cols = palette) +\n",
    "  umap_theme + ggtitle(\"UMAP cell types\") + theme(text = element_text(size = 15)) & NoLegend()\n",
    "\n",
    "UMAP_rename_treatment <- DimPlot(obj_subset, label = FALSE, group.by = \"treatment\", shuffle = TRUE, cols = palette.treatment) +\n",
    "  umap_theme + ggtitle(\"UMAP treatment\") + theme(text = element_text(size = 15)) & NoLegend()\n",
    "\n",
    "UMAP_rename_sample_id <- DimPlot(obj_subset, label = FALSE, group.by = \"sample_id\", shuffle = TRUE, cols = palette.4) +\n",
    "  umap_theme + ggtitle(\"UMAP sample_id\") + theme(text = element_text(size = 15)) & NoLegend()\n",
    "\n",
    "ggsave(\"Plots/UMAP_rename_seurat_clusters.svg\", UMAP_rename_seurat_clusters, units = \"cm\", dpi = 300, width = 30, height = 20)\n",
    "ggsave(\"Plots/UMAP_rename_cell_type.svg\", UMAP_rename_cell_type, units = \"cm\", dpi = 300, width = 30, height = 20)\n",
    "ggsave(\"Plots/UMAP_rename_treatment.svg\", UMAP_rename_treatment, units = \"cm\", dpi = 300, width = 30, height = 20)\n",
    "ggsave(\"Plots/UMAP_rename_sample_id.svg\", UMAP_rename_sample_id, units = \"cm\", dpi = 300, width = 30, height = 20)\n",
    "\n",
    "UMAP_rename_seurat_clusters\n",
    "suppressWarnings(print(UMAP_rename_cell_type))\n",
    "UMAP_rename_treatment\n",
    "UMAP_rename_sample_id"
   ]
  },
  {
   "cell_type": "code",
   "execution_count": null,
   "id": "9307a360-3696-40e0-a0b7-0b2d0100a43b",
   "metadata": {},
   "outputs": [],
   "source": [
    "options(repr.plot.width = 3, repr.plot.height = 2, repr.plot.res = 300)\n",
    "\n",
    "UMAP_dbl_clusters <- DimPlot(obj, group.by = \"cell_type\", label = FALSE, cols = palette.ex) +\n",
    "  umap_theme + ggtitle(\"UMAP excluded dbl clusters\") + theme(text = element_text(size = 15)) + NoLegend()\n",
    "\n",
    "ggsave(\"Plots/UMAP_excluded_dbl_clusters.svg\", UMAP_dbl_clusters, units = \"cm\", dpi = 300, width = 30, height = 20)\n",
    "\n",
    "suppressWarnings(print(UMAP_dbl_clusters))"
   ]
  },
  {
   "cell_type": "code",
   "execution_count": null,
   "id": "d7d22451-8ce1-481c-bc07-96ee5fb0be04",
   "metadata": {},
   "outputs": [],
   "source": [
    "Top5_markers <- list(\n",
    "\n",
    "\"0\" = c(\"Kcnj3\", \"Erbb4\", \"Ryr2\", \"Rbm20\", \"Chrm2\"),\n",
    "\"1\" = c(\"Npr3\", \"Tmem2\", \"Chrm3\", \"Cgnl1\", \"Wdr17\"),\n",
    "\"2\" = c(\"Ebf2\", \"Pcdh9\", \"Abca8a\", \"Lsamp\", \"Gsn\"),\n",
    "\"3\" = c(\"F13a1\", \"Arhgap15\", \"Dock2\", \"Mrc1\", \"Runx1\"),\n",
    "\"4\" = c(\"Myo10\", \"Fabp4\", \"Ccdc85a\", \"Ablim3\", \"Meox2\"),\n",
    "\"5\" = c(\"Notch3\", \"Trpc3\", \"Rgs5\", \"Ano1\", \"Abcc9\"),\n",
    "\"6\" = c(\"Muc16\", \"Pcdh15\", \"Wt1\", \"Dpp4\", \"Sema3d\"),\n",
    "\"9\" = c(\"Cryab\", \"Myl7\", \"Mb\", \"Csrp3\", \"Fabp3\"),\n",
    "\"10\" = c(\"Dock10\", \"Iqgap2\", \"Diaph3\", \"Ikzf1\", \"Ankrd44\"),\n",
    "\"11\" = c(\"Mmrn1\", \"Reln\", \"Flt4\", \"Pard6g\", \"Tc2n\"),\n",
    "\"12\" = c(\"Csmd1\", \"Slc35f1\", \"Cadm2\", \"Cdh19\", \"Chl1\"),\n",
    "\"13\" = c(\"Nppa\", \"Myh6\", \"Ttn\", \"Tnnt2\", \"Fgf12\"),\n",
    "\"14\" = c(\"Pax5\", \"Bank1\", \"Ikzf3\", \"Ighm\", \"Btla\"))\n"
   ]
  },
  {
   "cell_type": "code",
   "execution_count": null,
   "id": "b7ea228a-0ff1-43c7-b9e5-9dafde20dc39",
   "metadata": {},
   "outputs": [],
   "source": [
    "cluster_annotations_sgl <- list(\n",
    "    \"0\" = \"CM_0\",\n",
    "    \"1\" = \"EC-end\",\n",
    "    \"2\" = \"FB\",\n",
    "    \"3\" = \"MΦ\",\n",
    "    \"4\" = \"EC-cap\",\n",
    "    \"5\" = \"PER\",\n",
    "    \"6\" = \"MESO\",\n",
    "    \"9\" = \"CM_1\",\n",
    "    \"10\" = \"TC\",\n",
    "    \"11\" = \"EC-lym\",\n",
    "    \"12\" = \"SC\",\n",
    "    \"13\" = \"CM_2\",\n",
    "    \"14\" = \"BC\"\n",
    ")"
   ]
  },
  {
   "cell_type": "code",
   "execution_count": null,
   "id": "b9aab4c7-a1b1-41f3-9f26-ce80214ed6a5",
   "metadata": {},
   "outputs": [],
   "source": [
    "names(cluster_annotations_sgl) <- levels(obj_subset)\n",
    "obj_subset <- RenameIdents(obj_subset, cluster_annotations_sgl)\n",
    "\n",
    "DOT_Top5_markers_sgl <- DotPlot(\n",
    "  obj_subset,\n",
    "  features = unlist(Top5_markers, use.names = FALSE)) + \n",
    "  geom_point(aes(size = pct.exp), shape = 21, colour = \"black\", stroke = 0.5) +  \n",
    "  guides(\n",
    "    size = guide_legend(override.aes = list(shape = 21, colour = \"black\", fill = \"white\")),  \n",
    "    colour = guide_colorbar(frame.colour = \"black\", ticks.colour = \"black\")  \n",
    "  ) +\n",
    "  theme(axis.text.x = element_text(angle = 90, hjust = 1)) +\n",
    "  theme(panel.border = element_rect(color = \"black\", linewidth = 0.5)) +\n",
    "  scale_colour_distiller(palette = \"OrRd\", direction = 0) +\n",
    "  #scale_colour_viridis_c(option = \"D\", direction = 1) +  \n",
    "  scale_y_discrete(limits = rev)\n",
    "\n",
    "num_features <- length(unlist(Top5_markers, use.names = FALSE)) \n",
    "vline_positions <- seq(5.5, num_features, by = 5)\n",
    "\n",
    "DOT_Top5_markers_sgl <- DOT_Top5_markers_sgl + \n",
    "  geom_vline(xintercept = vline_positions, color = \"black\", linetype = \"solid\", size = 0.5)\n",
    "\n",
    "Idents(obj_subset) <- obj_subset@meta.data$\"Ident_numerical\"\n",
    "\n",
    "ggsave(\"Plots/DOT_Top5_markers_sgl.svg\", width = 40, height = 11, units = \"cm\", dpi = 300)\n",
    "\n",
    "suppressWarnings(print(DOT_Top5_markers_sgl))"
   ]
  },
  {
   "cell_type": "markdown",
   "id": "50e43b7c-6cb5-4766-8466-11276db1efd8",
   "metadata": {},
   "source": [
    "# Features with non-zero counts "
   ]
  },
  {
   "cell_type": "code",
   "execution_count": null,
   "id": "d97043ec-e3a9-42ae-bdeb-49389a2e8b80",
   "metadata": {},
   "outputs": [],
   "source": [
    "cluster_annotations_sgl <- list(\n",
    "    \"0\" = \"CM_0\",\n",
    "    \"1\" = \"EC-end\",\n",
    "    \"2\" = \"FB\",\n",
    "    \"3\" = \"MΦ\",\n",
    "    \"4\" = \"EC-cap\",\n",
    "    \"5\" = \"PER\",\n",
    "    \"6\" = \"MESO\",\n",
    "    \"9\" = \"CM_1\",\n",
    "    \"10\" = \"TC\",\n",
    "    \"11\" = \"EC-lym\",\n",
    "    \"12\" = \"SC\",\n",
    "    \"13\" = \"CM_2\",\n",
    "    \"14\" = \"BC\"\n",
    ")"
   ]
  },
  {
   "cell_type": "code",
   "execution_count": null,
   "id": "cbeeb94e-9d7a-4d5e-a1ee-2a7c9cf7f7e9",
   "metadata": {},
   "outputs": [],
   "source": [
    "export_non_zero_counts <- function(seurat_object, LA_LV, cluster_annotations) { \n",
    "    # Filter the Seurat object for the specified chamber and cell type \n",
    "    seurat_table <- subset(x = seurat_object, subset = chamber == LA_LV) \n",
    "    # Iterate over cluster annotations and export non-zero counts \n",
    "    for (cluster_id in names(cluster_annotations)) { \n",
    "        cell <- cluster_annotations[[cluster_id]] \n",
    "        seurat_table_filtered <- subset(x = seurat_table, subset = cell_type == cell) \n",
    "        # Get the counts for the filtered Seurat object \n",
    "        counts <- GetAssayData(seurat_table_filtered, assay = \"RNA\", layer = \"counts\") \n",
    "        # Find non-zero counts \n",
    "        nonzero <- as.data.frame(rowSums(counts) > 0) \n",
    "        names(nonzero)[names(nonzero) == \"rowSums(counts) > 0\"] <- \"nonzerofeature\"\n",
    "        nonzero <- filter(nonzero, nonzerofeature == TRUE)\n",
    "        nonzero$names <- rownames(nonzero)\n",
    "        nonzero$nonzerofeature <- NULL\n",
    "\n",
    "        # Export to CSV \n",
    "        filename <- paste0(\"nonzerocounts/nonzerocounts_\", LA_LV, \"_\", cell, \".csv\") \n",
    "        write.csv(nonzero, file = filename, row.names = FALSE) \n",
    "    } \n",
    "}"
   ]
  },
  {
   "cell_type": "code",
   "execution_count": null,
   "id": "4817982a-a47b-40dc-842b-578f15bf4135",
   "metadata": {},
   "outputs": [],
   "source": [
    "export_non_zero_counts(obj_subset, \"LA\", cluster_annotations_sgl)"
   ]
  },
  {
   "cell_type": "markdown",
   "id": "cd7a45e3-0e9e-4a64-b113-3052e6573261",
   "metadata": {},
   "source": [
    "# Combine CM clusters and save final object"
   ]
  },
  {
   "cell_type": "code",
   "execution_count": null,
   "id": "a05fe60a-4c7d-45a7-9b2e-980d58f02517",
   "metadata": {},
   "outputs": [],
   "source": [
    "# Combine CM clusters \n",
    "cluster_annotations_CMcomb <- list(\n",
    "    \"0\" = \"CM\",\n",
    "    \"1\" = \"EC-end\",\n",
    "    \"2\" = \"FB\",\n",
    "    \"3\" = \"MΦ\",\n",
    "    \"4\" = \"EC-cap\",\n",
    "    \"5\" = \"PER\",\n",
    "    \"6\" = \"MESO\",\n",
    "    \"7\" = \"CM\",\n",
    "    \"8\" = \"TC\",\n",
    "    \"9\" = \"EC-lym\",\n",
    "    \"10\" = \"SC\",\n",
    "    \"11\" = \"CM\",\n",
    "    \"12\" = \"BC\")"
   ]
  },
  {
   "cell_type": "code",
   "execution_count": null,
   "id": "b830b67c-d57c-497d-84ff-7d1e6665561e",
   "metadata": {},
   "outputs": [],
   "source": [
    "names(cluster_annotations_CMcomb) <- levels(obj_subset)\n",
    "obj_subset <- RenameIdents(obj_subset, cluster_annotations_CMcomb)\n",
    "\n",
    "obj_subset$\"cell_type_CMcomb\" <- Identsobj_subsetobj.full)"
   ]
  },
  {
   "cell_type": "code",
   "execution_count": null,
   "id": "9bfa32ab-81e0-4d1b-902b-0156fedffe06",
   "metadata": {},
   "outputs": [],
   "source": [
    "saveRDS(obj_subset, file = \"seurat_objects/LA_snRNAseq_final.rds\")"
   ]
  },
  {
   "cell_type": "code",
   "execution_count": 2,
   "id": "45ceefe6-937f-4140-b128-e5239d1bcabb",
   "metadata": {},
   "outputs": [
    {
     "data": {
      "text/plain": [
       "R version 4.3.3 (2024-02-29)\n",
       "Platform: x86_64-conda-linux-gnu (64-bit)\n",
       "Running under: Ubuntu 24.04.1 LTS\n",
       "\n",
       "Matrix products: default\n",
       "BLAS/LAPACK: /media/daten/dmeral/micromamba/envs/scrna_dm/lib/libopenblasp-r0.3.27.so;  LAPACK version 3.12.0\n",
       "\n",
       "locale:\n",
       " [1] LC_CTYPE=C.UTF-8       LC_NUMERIC=C           LC_TIME=C.UTF-8       \n",
       " [4] LC_COLLATE=C.UTF-8     LC_MONETARY=C.UTF-8    LC_MESSAGES=C.UTF-8   \n",
       " [7] LC_PAPER=C.UTF-8       LC_NAME=C              LC_ADDRESS=C          \n",
       "[10] LC_TELEPHONE=C         LC_MEASUREMENT=C.UTF-8 LC_IDENTIFICATION=C   \n",
       "\n",
       "time zone: Etc/UTC\n",
       "tzcode source: system (glibc)\n",
       "\n",
       "attached base packages:\n",
       "[1] stats4    stats     graphics  grDevices utils     datasets  methods  \n",
       "[8] base     \n",
       "\n",
       "other attached packages:\n",
       " [1] pals_1.9                    ggpubr_0.6.0               \n",
       " [3] patchwork_1.3.0             harmony_1.2.3              \n",
       " [5] Rcpp_1.0.13-1               viridis_0.6.5              \n",
       " [7] viridisLite_0.4.2           svglite_2.1.3              \n",
       " [9] Rsamtools_2.18.0            Biostrings_2.70.3          \n",
       "[11] XVector_0.42.0              EnhancedVolcano_1.20.0     \n",
       "[13] ggrepel_0.9.6               DESeq2_1.42.1              \n",
       "[15] SingleCellExperiment_1.24.0 SummarizedExperiment_1.32.0\n",
       "[17] Biobase_2.62.0              GenomicRanges_1.54.1       \n",
       "[19] GenomeInfoDb_1.38.8         IRanges_2.36.0             \n",
       "[21] S4Vectors_0.40.2            BiocGenerics_0.48.1        \n",
       "[23] MatrixGenerics_1.14.0       matrixStats_1.4.1          \n",
       "[25] SeuratDisk_0.0.0.9021       lubridate_1.9.4            \n",
       "[27] forcats_1.0.0               stringr_1.5.1              \n",
       "[29] dplyr_1.1.4                 purrr_1.0.2                \n",
       "[31] readr_2.1.5                 tidyr_1.3.1                \n",
       "[33] tibble_3.2.1                tidyverse_2.0.0            \n",
       "[35] ggplot2_3.5.1               Seurat_5.1.0               \n",
       "[37] SeuratObject_5.0.2          sp_2.1-4                   \n",
       "\n",
       "loaded via a namespace (and not attached):\n",
       "  [1] RcppAnnoy_0.0.22        splines_4.3.3           later_1.4.1            \n",
       "  [4] pbdZMQ_0.3-13           bitops_1.0-9            polyclip_1.10-7        \n",
       "  [7] fastDummies_1.7.4       lifecycle_1.0.4         rstatix_0.7.2          \n",
       " [10] globals_0.16.3          lattice_0.22-6          hdf5r_1.3.11           \n",
       " [13] MASS_7.3-60.0.1         backports_1.5.0         magrittr_2.0.3         \n",
       " [16] plotly_4.10.4           httpuv_1.6.15           sctransform_0.4.1.9001 \n",
       " [19] spam_2.11-0             spatstat.sparse_3.1-0   reticulate_1.40.0      \n",
       " [22] mapproj_1.2.11          cowplot_1.1.3           pbapply_1.7-2          \n",
       " [25] RColorBrewer_1.1-3      maps_3.4.2.1            abind_1.4-8            \n",
       " [28] zlibbioc_1.48.2         Rtsne_0.17              RCurl_1.98-1.16        \n",
       " [31] GenomeInfoDbData_1.2.11 irlba_2.3.5.1           listenv_0.9.1          \n",
       " [34] spatstat.utils_3.1-1    goftest_1.2-3           RSpectra_0.16-2        \n",
       " [37] spatstat.random_3.3-2   fitdistrplus_1.2-1      parallelly_1.40.1      \n",
       " [40] leiden_0.4.3.1          codetools_0.2-20        DelayedArray_0.28.0    \n",
       " [43] tidyselect_1.2.1        farver_2.1.2            base64enc_0.1-3        \n",
       " [46] spatstat.explore_3.3-3  jsonlite_1.8.9          Formula_1.2-5          \n",
       " [49] progressr_0.15.1        ggridges_0.5.6          survival_3.7-0         \n",
       " [52] systemfonts_1.1.0       tools_4.3.3             ica_1.0-3              \n",
       " [55] glue_1.8.0              gridExtra_2.3           SparseArray_1.2.4      \n",
       " [58] IRdisplay_1.1           withr_3.0.2             fastmap_1.2.0          \n",
       " [61] fansi_1.0.6             digest_0.6.37           timechange_0.3.0       \n",
       " [64] R6_2.5.1                mime_0.12               colorspace_2.1-1       \n",
       " [67] scattermore_1.2         tensor_1.5              dichromat_2.0-0.1      \n",
       " [70] spatstat.data_3.1-4     utf8_1.2.4              generics_0.1.3         \n",
       " [73] data.table_1.16.4       httr_1.4.7              htmlwidgets_1.6.4      \n",
       " [76] S4Arrays_1.2.1          uwot_0.2.2              pkgconfig_2.0.3        \n",
       " [79] gtable_0.3.6            lmtest_0.9-40           htmltools_0.5.8.1      \n",
       " [82] carData_3.0-5           dotCall64_1.2           scales_1.3.0           \n",
       " [85] png_0.1-8               spatstat.univar_3.1-1   tzdb_0.4.0             \n",
       " [88] reshape2_1.4.4          uuid_1.2-1              nlme_3.1-166           \n",
       " [91] repr_1.1.7              zoo_1.8-12              KernSmooth_2.23-24     \n",
       " [94] parallel_4.3.3          miniUI_0.1.1.1          pillar_1.9.0           \n",
       " [97] grid_4.3.3              vctrs_0.6.5             RANN_2.6.2             \n",
       "[100] promises_1.3.2          car_3.1-3               xtable_1.8-4           \n",
       "[103] cluster_2.1.7           evaluate_1.0.1          cli_3.6.3              \n",
       "[106] locfit_1.5-9.10         compiler_4.3.3          rlang_1.1.4            \n",
       "[109] crayon_1.5.3            ggsignif_0.6.4          future.apply_1.11.3    \n",
       "[112] plyr_1.8.9              stringi_1.8.4           deldir_2.0-4           \n",
       "[115] BiocParallel_1.36.0     munsell_0.5.1           lazyeval_0.2.2         \n",
       "[118] spatstat.geom_3.3-4     Matrix_1.6-5            IRkernel_1.3.2         \n",
       "[121] RcppHNSW_0.6.0          hms_1.1.3               bit64_4.5.2            \n",
       "[124] future_1.34.0           shiny_1.9.1             ROCR_1.0-11            \n",
       "[127] broom_1.0.7             igraph_2.1.2            bit_4.5.0.1            "
      ]
     },
     "metadata": {},
     "output_type": "display_data"
    }
   ],
   "source": [
    "sessionInfo()"
   ]
  }
 ],
 "metadata": {
  "kernelspec": {
   "display_name": "scrna_dm",
   "language": "R",
   "name": "scrna_dm"
  },
  "language_info": {
   "codemirror_mode": "r",
   "file_extension": ".r",
   "mimetype": "text/x-r-source",
   "name": "R",
   "pygments_lexer": "r",
   "version": "4.3.3"
  }
 },
 "nbformat": 4,
 "nbformat_minor": 5
}
