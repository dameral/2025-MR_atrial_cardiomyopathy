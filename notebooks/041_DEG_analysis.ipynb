{
 "cells": [
  {
   "cell_type": "markdown",
   "id": "6de49d5e-d725-45f6-92e1-6831e18d8891",
   "metadata": {},
   "source": [
    "# Load libraries and Themes"
   ]
  },
  {
   "cell_type": "code",
   "execution_count": 1,
   "id": "35d7dba7-aec1-4e24-9702-d0eb6d41a8e3",
   "metadata": {
    "tags": []
   },
   "outputs": [],
   "source": [
    "suppressPackageStartupMessages({\n",
    "    suppressWarnings({\n",
    "        library(Seurat)\n",
    "        library(ggplot2)\n",
    "        library(tidyverse)\n",
    "        library(presto)\n",
    "        library(SeuratDisk)\n",
    "        library(DESeq2)\n",
    "        library(dplyr)\n",
    "        library(EnhancedVolcano)\n",
    "        library(Rsamtools)\n",
    "        library(svglite)\n",
    "        library(viridis)\n",
    "        library(pals)\n",
    "        })})"
   ]
  },
  {
   "cell_type": "code",
   "execution_count": null,
   "id": "39ea3e8b-4e9f-4694-a0dc-58f4c95dd9af",
   "metadata": {},
   "outputs": [],
   "source": [
    "#Color Palettes\n",
    "\n",
    "palette.doublets <- c(\n",
    "    '#197278',#turqu\n",
    "    '#C1C1C1'#grey\n",
    ")\n",
    "\n",
    "palette.16 <- DiscretePalette(16, palette = \"stepped\", shuffle = TRUE)\n",
    "\n",
    "palette.2 <- c(\n",
    "    \"#990902\",\n",
    "    \"#0303a3\"\n",
    ")\n",
    "\n",
    "palette.4 <- DiscretePalette(4, palette = \"stepped\", shuffle = TRUE)\n",
    "\n",
    "palette.12 <- DiscretePalette(12, palette = \"stepped\", shuffle = TRUE)\n",
    "\n",
    "palette.15 <- DiscretePalette(12, palette = \"stepped\", shuffle = TRUE)\n",
    "\n",
    "palette <- c(\n",
    "    \"#990902\",#CM_0\n",
    "    \"#0303a3\",#EC-end\n",
    "    \"#ebe6c7\",#FB\n",
    "    \"#077a01\",#MΦ-M2\n",
    "    \"#05b1eb\",#EC-cap\n",
    "    \"#660202\",#PER\n",
    "    \"#4b048a\",#MESO\n",
    "    \"#7d0701\",#CM_1\n",
    "    \"#0FB602\",#TC\n",
    "    \"#0324fc\",#EC-lym\n",
    "    \"#FFD100\",#SC\n",
    "    \"#d90f04\",#CM_2\n",
    "    \"#aad902\"#BC\n",
    ")\n",
    "\n",
    "palette.dbl <- c(\n",
    "    \"#990902\",#CM_0\n",
    "    \"#0303a3\",#EC-end\n",
    "    \"#ebe6c7\",#FB\n",
    "    \"#077a01\",#MΦ-M2\n",
    "    \"#05b1eb\",#EC-cap\n",
    "    \"#660202\",#PER\n",
    "    \"#4b048a\",#MESO\n",
    "    \"#000000\",#dbl\n",
    "    \"#7d0701\",#CM_1\n",
    "    \"#0FB602\",#TC\n",
    "    \"#0324fc\",#EC-lym\n",
    "    \"#FFD100\",#SC\n",
    "    \"#d90f04\",#CM_2\n",
    "    \"#aad902\"#BC\n",
    ")\n",
    "\n",
    "palette.ex <- c(\n",
    "    \"#bababa\",#BC\n",
    "    \"#bababa\",#CM_0\n",
    "    \"#bababa\",#CM_1\n",
    "    \"#bababa\",#CM_2\n",
    "    \"#bababa\",#CM_3\n",
    "    \"#bababa\",#Cyc\n",
    "    \"#bababa\",#EC-cap\n",
    "    \"#000000\",#ex\n",
    "    \"#bababa\",#FB\n",
    "    \"#bababa\",#MESO\n",
    "    \"#bababa\",#MP_0\n",
    "    \"#bababa\",#MP_1\n",
    "    \"#bababa\",#NEU\n",
    "    \"#bababa\"#PER\n",
    ")\n",
    "    \n",
    "palette.treatment <- c(\n",
    "    '#AF0000',#ALDO\n",
    "    '#C1C1C1'#CTRL\n",
    ")"
   ]
  },
  {
   "cell_type": "code",
   "execution_count": null,
   "id": "594f95d6-1f38-411c-aed5-ad8b70d5a04f",
   "metadata": {},
   "outputs": [],
   "source": [
    "umap_theme <- theme(\n",
    "  axis.line=element_blank(),\n",
    "  axis.text.x=element_blank(),\n",
    "  axis.text.y=element_blank(),\n",
    "  axis.ticks=element_blank(),\n",
    "  axis.title.x=element_blank(),\n",
    "  axis.title.y=element_blank(),\n",
    "  panel.background=element_blank(),\n",
    "  panel.border=element_blank(),\n",
    "  panel.grid.major=element_blank(),\n",
    "  panel.grid.minor=element_blank()\n",
    ")"
   ]
  },
  {
   "cell_type": "code",
   "execution_count": null,
   "id": "4c5dd502-239e-4284-a041-5e787e6f7d0f",
   "metadata": {
    "tags": []
   },
   "outputs": [],
   "source": [
    "setwd(\"/media/daten/dmeral/scseq_analysis/2024_LA_CTRL_ALDO\")"
   ]
  },
  {
   "cell_type": "code",
   "execution_count": null,
   "id": "e1051729-5b26-4121-9bfd-e0d177aea70f",
   "metadata": {},
   "outputs": [],
   "source": [
    "set.seed(1234)"
   ]
  },
  {
   "cell_type": "markdown",
   "id": "c1a694d3-a03d-4f22-b462-4ab98e674aa1",
   "metadata": {},
   "source": [
    "# DEG analysis ALDO vs. CTRL"
   ]
  },
  {
   "cell_type": "code",
   "execution_count": null,
   "id": "10c1839a-42ba-4634-b6e5-4a947254709c",
   "metadata": {
    "tags": []
   },
   "outputs": [],
   "source": [
    "obj_subset <- LoadH5Seurat(\"seurat_objects/obj_seu_merge_harmony_sgl_addmodule_downsample_rename.h5seurat\")"
   ]
  },
  {
   "cell_type": "code",
   "execution_count": null,
   "id": "651d469e-35ec-4967-bcee-0ffc4f1b1cb1",
   "metadata": {},
   "outputs": [],
   "source": [
    "cluster_annotations_LA <- list(\n",
    "    \"0\" = \"CM_0\",\n",
    "    \"1\" = \"EC-end\",\n",
    "    \"2\" = \"FB\",\n",
    "    \"3\" = \"MΦ\",\n",
    "    \"4\" = \"EC-cap\",\n",
    "    \"5\" = \"PER\",\n",
    "    \"6\" = \"MESO\",\n",
    "    \"9\" = \"CM_1\",\n",
    "    \"10\" = \"TC\",\n",
    "    \"11\" = \"EC-lym\",\n",
    "    \"12\" = \"SC\",\n",
    "    \"13\" = \"CM_2\",\n",
    "    \"14\" = \"BC\"\n",
    ")"
   ]
  },
  {
   "cell_type": "code",
   "execution_count": null,
   "id": "7e246a94-ff02-4f89-a185-02cdf43282a7",
   "metadata": {},
   "outputs": [],
   "source": [
    "obj_subset"
   ]
  },
  {
   "cell_type": "code",
   "execution_count": null,
   "id": "bbbe4e58-d48c-4015-8227-605af933296e",
   "metadata": {},
   "outputs": [],
   "source": [
    "UMAP_rename_cell_type <- DimPlot(obj_subset, group.by = \"cell_type\")\n",
    "UMAP_rename_cell_type"
   ]
  },
  {
   "cell_type": "markdown",
   "id": "3d8804ec-a80a-4e90-95a9-477b7e1c0a41",
   "metadata": {},
   "source": [
    "## Wilcoxon Rank Sum test ALDO vs. CTRL"
   ]
  },
  {
   "cell_type": "code",
   "execution_count": null,
   "id": "592b4175-4527-4289-b4c3-90d273a1f707",
   "metadata": {},
   "outputs": [],
   "source": [
    "doAnalysis <- function(LA_LV, cluster_annotations){\n",
    "    seurat_table = subset(x = obj_subset, subset = chamber == LA_LV)\n",
    "   \n",
    "    #Assign \"treatment\" as ident\n",
    "    Idents(seurat_table) <- seurat_table@meta.data$\"treatment\"\n",
    "        \n",
    "    table_list <- lapply(names(cluster_annotations), function(cl){\n",
    "        name_of_clust = cluster_annotations[[cl]]\n",
    "        my_subseur <- subset(x = seurat_table, subset = seurat_clusters == cl)\n",
    "        my_subseur <- NormalizeData(my_subseur)\n",
    "        my_subseur <- ScaleData(my_subseur)\n",
    "        my_markers <- FindMarkers(my_subseur, ident.1 = \"ALDO\", ident.2 = \"CTRL\", assay = \"RNA\", test.use = \"wilcox\", logfc.threshold = 0.1)\n",
    "        write.csv(my_markers, file = paste0(\"DEGs/ALDOvsCTRL WRSum/degs_wilcox\", \"_\", LA_LV, \"_\", name_of_clust, \".csv\"))\n",
    "        return(my_markers)\n",
    "    })\n",
    "    names(table_list) <- cluster_annotations\n",
    "    \n",
    "    return(table_list)\n",
    "}"
   ]
  },
  {
   "cell_type": "code",
   "execution_count": null,
   "id": "5c2fbb68-4dc5-48e2-9400-1d83885c31df",
   "metadata": {
    "scrolled": true,
    "tags": []
   },
   "outputs": [],
   "source": [
    "doAnalysis(\"LA\", cluster_annotations_LA)"
   ]
  },
  {
   "cell_type": "markdown",
   "id": "889cc773-4e51-4afa-9883-4dedb57bc1ed",
   "metadata": {},
   "source": [
    "### filter mitochondrial genes (not needed here)"
   ]
  },
  {
   "cell_type": "code",
   "execution_count": null,
   "id": "7615d428-708b-4ad8-b252-9eef1435f33d",
   "metadata": {},
   "outputs": [],
   "source": [
    "# mt_genes.csv is a list of mt- genes with >0 counts\n",
    "\n",
    "mt_genes <- unlist(read.csv(\"DEGs/mt_genes.csv\", header = FALSE))\n",
    "file_names <- list.files(\"DEGs/ALDOvsCTRL WRSum\", pattern = \"*.csv\", full.names = TRUE)\n",
    "\n",
    "listDEG <- lapply(file_names, function(deg_list){\n",
    "    read.csv(deg_list, header = TRUE, row.names = 1)\n",
    "    })\n",
    "\n",
    "listDEG <- lapply(listDEG, function(deg_list, deg_list_filtered){\n",
    "    deg_list <- cbind(deg_list, Gene_names = rownames(deg_list))\n",
    "    deg_list_filtered <- deg_list %>% filter(!Gene_names %in% mt_genes)\n",
    "    deg_list_filtered <- deg_list_filtered[,!names(deg_list_filtered) %in% c(\"Gene_names\")]\n",
    "    }) \n",
    "\n",
    "listDEG_names <- gsub(\"\\\\..*\", \"\", gsub(\".*wilcox_\", \"\", file_names))\n",
    "names(listDEG) <- listDEG_names\n",
    "head(listDEG[[4]], 10)\n",
    "\n",
    "listDEG <- sapply(names(listDEG), function(name){\n",
    "    lapply(listDEG, function(deg_list){\n",
    "    write.csv(listDEG[[name]], file = paste0(\"DEGs/ALDOvsCTRL WRSum/filtered/degs_wilcox_\", name, \"_filtered.csv\"))\n",
    "    }) })"
   ]
  },
  {
   "cell_type": "markdown",
   "id": "4f13e74d-8a54-4dc5-be93-d47014ce0d91",
   "metadata": {},
   "source": [
    "### wilcox Volcano"
   ]
  },
  {
   "cell_type": "code",
   "execution_count": null,
   "id": "0c6ee2a6-95e3-415d-926f-ec7a963d00d8",
   "metadata": {},
   "outputs": [],
   "source": [
    "# w/o filtering mt-genes\n",
    "file_names <- list.files(\"DEGs/ALDOvsCTRL WRSum/forplot\", pattern = \"*.csv\", full.names = TRUE)\n",
    "listDEG <- lapply(file_names, function(deg_list){\n",
    "    read.csv(deg_list, header = TRUE, row.names = 1)\n",
    "})\n",
    "Volcano_names <- gsub(\"\\\\..*\", \"\", file_names)\n",
    "Volcano_names <- gsub(\".*degs_wilcox_LA_\", \"\", Volcano_names)\n",
    "\n",
    "names(listDEG) <- Volcano_names\n",
    "#listDEG\n",
    "length(names(listDEG))"
   ]
  },
  {
   "cell_type": "code",
   "execution_count": null,
   "id": "caebbd22-a52f-42ec-8d96-c3c4109af19b",
   "metadata": {},
   "outputs": [],
   "source": [
    "Volcano_names"
   ]
  },
  {
   "cell_type": "code",
   "execution_count": null,
   "id": "80e9a807-8706-4fce-aa47-b26354eba343",
   "metadata": {},
   "outputs": [],
   "source": [
    "#options(repr.plot.width = 20, repr.plot.height = 8, repr.plot.res = 300) \n",
    "\n",
    "Volcano  <- lapply(names(listDEG), function(x_name){\n",
    "    x = listDEG[[x_name]]\n",
    "    EnhancedVolcano(x, \n",
    "    rownames(x),\n",
    "    x = \"avg_log2FC\", \n",
    "    y = \"p_val_adj\", \n",
    "    FCcutoff = 0.25,\n",
    "    title = x_name, gridlines.minor = FALSE, subtitleLabSize = 0, legendPosition = \"none\")#, xlim = c(-10, 10))\n",
    "})\n",
    "\n",
    "Volcano_Fun <- function(Volcano, no_of_rows, no_of_cols) {\n",
    "    patchwork::wrap_plots(Volcano, \n",
    "    nrow = no_of_rows, ncol = no_of_cols)\n",
    "}\n",
    "\n",
    "Volcano_Patch <- Volcano_Fun(Volcano, 2, 4)\n",
    "\n",
    "ggsave(\"Plots/Volcano_WRSum_withoutfilter.svg\", plot = Volcano_Patch, units = \"cm\", dpi = 300, width = 42, height = 25, limitsize = FALSE)"
   ]
  },
  {
   "cell_type": "code",
   "execution_count": null,
   "id": "faa5b56f-dfd4-41d0-8782-aa5af1fd18d5",
   "metadata": {},
   "outputs": [],
   "source": [
    "# w/o filtering mt-genes, only meaningful\n",
    "file_names <- list.files(\"DEGs/ALDOvsCTRL WRSum/forplot_meaningful\", pattern = \"*.csv\", full.names = TRUE)\n",
    "listDEG <- lapply(file_names, function(deg_list){\n",
    "    read.csv(deg_list, header = TRUE, row.names = 1)\n",
    "})\n",
    "Volcano_names <- gsub(\"\\\\..*\", \"\", file_names)\n",
    "Volcano_names <- gsub(\".*degs_wilcox_LA_\", \"\", Volcano_names)\n",
    "\n",
    "names(listDEG) <- Volcano_names\n",
    "#listDEG\n",
    "length(names(listDEG))\n",
    "\n",
    "Volcano_names\n",
    "\n",
    "Volcano  <- lapply(names(listDEG), function(x_name){\n",
    "    x = listDEG[[x_name]]\n",
    "    EnhancedVolcano(x, \n",
    "    rownames(x),\n",
    "    x = \"avg_log2FC\", \n",
    "    y = \"p_val_adj\", \n",
    "    FCcutoff = 0.25,\n",
    "    title = x_name, gridlines.minor = FALSE, subtitleLabSize = 0, legendPosition = \"none\")#, xlim = c(-10, 10))\n",
    "})\n",
    "\n",
    "Volcano_Fun <- function(Volcano, no_of_rows, no_of_cols) {\n",
    "    patchwork::wrap_plots(Volcano, \n",
    "    nrow = no_of_rows, ncol = no_of_cols)\n",
    "}\n",
    "\n",
    "Volcano_Patch <- Volcano_Fun(Volcano, 2, 2)\n",
    "\n",
    "ggsave(\"Plots/Volcano_WRSum_withoutfilter_meaningful.svg\", plot = Volcano_Patch, units = \"cm\", dpi = 300, width = 21, height = 25, limitsize = FALSE)"
   ]
  },
  {
   "cell_type": "code",
   "execution_count": null,
   "id": "b221951a-c69d-406d-8f5b-ac6acd2026f8",
   "metadata": {},
   "outputs": [],
   "source": [
    "# with filtering mt-genes \n",
    "file_names <- list.files(\"DEGs/ALDOvsCTRL WRSum/filtered/forplot\", pattern = \"*.csv\", full.names = TRUE)\n",
    "listDEG <- lapply(file_names, function(deg_list){\n",
    "    read.csv(deg_list, header = TRUE, row.names = 1)\n",
    "})\n",
    "Volcano_names <- gsub(\"\\\\..*\", \"\", file_names)\n",
    "Volcano_names <- gsub(\".*degs_wilcox_LA_\", \"\", Volcano_names)\n",
    "\n",
    "names(listDEG) <- Volcano_names\n",
    "#listDEG\n",
    "length(names(listDEG))\n",
    "\n",
    "Volcano_names\n",
    "\n",
    "Volcano  <- lapply(names(listDEG), function(x_name){\n",
    "    x = listDEG[[x_name]]\n",
    "    EnhancedVolcano(x, \n",
    "    rownames(x),\n",
    "    x = \"avg_log2FC\", \n",
    "    y = \"p_val_adj\", \n",
    "    FCcutoff = 0.25,\n",
    "    title = x_name, gridlines.minor = FALSE, subtitleLabSize = 0, legendPosition = \"none\")\n",
    "})\n",
    "\n",
    "Volcano_Fun <- function(Volcano, no_of_rows, no_of_cols) {\n",
    "    patchwork::wrap_plots(Volcano, \n",
    "    nrow = no_of_rows, ncol = no_of_cols)\n",
    "}\n",
    "\n",
    "Volcano_Patch <- Volcano_Fun(Volcano, 2, 4)\n",
    "\n",
    "ggsave(\"Plots/Volcano_WRSum_filtered.svg\", plot = Volcano_Patch, units = \"cm\", dpi = 300, width = 42, height = 25, limitsize = FALSE)"
   ]
  },
  {
   "cell_type": "markdown",
   "id": "92d256a8-8a6d-468d-9291-ea1cc8b234aa",
   "metadata": {},
   "source": [
    "## DESeq2 ALDO vs. CTRL (FindMarkers)"
   ]
  },
  {
   "cell_type": "code",
   "execution_count": null,
   "id": "49a85809-ba5c-4989-8128-f1afdf26117c",
   "metadata": {},
   "outputs": [],
   "source": [
    "cluster_annotations_LA <- list(\n",
    "    \"0\" = \"CM_0\",\n",
    "    \"1\" = \"EC-end\",\n",
    "    \"2\" = \"FB\",\n",
    "    \"3\" = \"MΦ\",\n",
    "    \"4\" = \"EC-cap\",\n",
    "    \"5\" = \"PER\",\n",
    "    \"6\" = \"MESO\",\n",
    "    \"9\" = \"CM_1\",\n",
    "    \"10\" = \"TC\",\n",
    "    \"11\" = \"EC-lym\",\n",
    "    \"12\" = \"SC\",\n",
    "    \"13\" = \"CM_2\",\n",
    "    \"14\" = \"BC\"\n",
    ")"
   ]
  },
  {
   "cell_type": "code",
   "execution_count": null,
   "id": "56e9dba2-8e24-417d-b55f-2d551907aa32",
   "metadata": {},
   "outputs": [],
   "source": [
    "doAnalysis <- function(LA_LV, cluster_annotations){\n",
    "    seurat_table = subset(x = obj_subset, subset = chamber == LA_LV)\n",
    "    seurat_table <- NormalizeData(seurat_table)\n",
    "    seurat_table <- ScaleData(seurat_table)\n",
    "    #Assign \"treatment\" as ident\n",
    "    Idents(seurat_table) <- seurat_table@meta.data$\"treatment\"\n",
    "        \n",
    "    table_list <- lapply(names(cluster_annotations), function(cl){\n",
    "        name_of_clust = cluster_annotations[[cl]]\n",
    "        my_subseur <- subset(x = seurat_table, subset = seurat_clusters == cl)\n",
    "        my_markers <- FindMarkers(my_subseur, ident.1 = \"ALDO\", ident.2 = \"CTRL\", assay = \"RNA\", test.use = \"DESeq2\", pseudocount.use = 1, logfc.threshold = 0.1)\n",
    "        write.csv(my_markers, file = paste0(\"DEGs/ALDOvsCTRL DESeq2/degs_DESeq2\", \"_\", LA_LV, \"_\", name_of_clust, \".csv\"))\n",
    "        return(my_markers)\n",
    "    })\n",
    "    names(table_list) <- cluster_annotations\n",
    "    \n",
    "    return(table_list)\n",
    "}"
   ]
  },
  {
   "cell_type": "code",
   "execution_count": null,
   "id": "a061d65e-5b29-4e15-992d-e7bf9b1738bd",
   "metadata": {
    "scrolled": true,
    "tags": []
   },
   "outputs": [],
   "source": [
    "doAnalysis(\"LA\", cluster_annotations_LA)"
   ]
  },
  {
   "cell_type": "code",
   "execution_count": 2,
   "id": "4ec1758a-f269-45c4-a14a-d22537daf6b1",
   "metadata": {},
   "outputs": [
    {
     "data": {
      "text/plain": [
       "R version 4.3.3 (2024-02-29)\n",
       "Platform: x86_64-conda-linux-gnu (64-bit)\n",
       "Running under: Ubuntu 24.04.1 LTS\n",
       "\n",
       "Matrix products: default\n",
       "BLAS/LAPACK: /media/daten/dmeral/micromamba/envs/scrna_dm/lib/libopenblasp-r0.3.27.so;  LAPACK version 3.12.0\n",
       "\n",
       "locale:\n",
       " [1] LC_CTYPE=C.UTF-8       LC_NUMERIC=C           LC_TIME=C.UTF-8       \n",
       " [4] LC_COLLATE=C.UTF-8     LC_MONETARY=C.UTF-8    LC_MESSAGES=C.UTF-8   \n",
       " [7] LC_PAPER=C.UTF-8       LC_NAME=C              LC_ADDRESS=C          \n",
       "[10] LC_TELEPHONE=C         LC_MEASUREMENT=C.UTF-8 LC_IDENTIFICATION=C   \n",
       "\n",
       "time zone: Etc/UTC\n",
       "tzcode source: system (glibc)\n",
       "\n",
       "attached base packages:\n",
       "[1] stats4    stats     graphics  grDevices utils     datasets  methods  \n",
       "[8] base     \n",
       "\n",
       "other attached packages:\n",
       " [1] pals_1.9                    viridis_0.6.5              \n",
       " [3] viridisLite_0.4.2           svglite_2.1.3              \n",
       " [5] Rsamtools_2.18.0            Biostrings_2.70.3          \n",
       " [7] XVector_0.42.0              EnhancedVolcano_1.20.0     \n",
       " [9] ggrepel_0.9.6               DESeq2_1.42.1              \n",
       "[11] SummarizedExperiment_1.32.0 Biobase_2.62.0             \n",
       "[13] MatrixGenerics_1.14.0       matrixStats_1.4.1          \n",
       "[15] GenomicRanges_1.54.1        GenomeInfoDb_1.38.8        \n",
       "[17] IRanges_2.36.0              S4Vectors_0.40.2           \n",
       "[19] BiocGenerics_0.48.1         SeuratDisk_0.0.0.9021      \n",
       "[21] presto_1.0.0                data.table_1.16.4          \n",
       "[23] Rcpp_1.0.13-1               lubridate_1.9.4            \n",
       "[25] forcats_1.0.0               stringr_1.5.1              \n",
       "[27] dplyr_1.1.4                 purrr_1.0.2                \n",
       "[29] readr_2.1.5                 tidyr_1.3.1                \n",
       "[31] tibble_3.2.1                tidyverse_2.0.0            \n",
       "[33] ggplot2_3.5.1               Seurat_5.1.0               \n",
       "[35] SeuratObject_5.0.2          sp_2.1-4                   \n",
       "\n",
       "loaded via a namespace (and not attached):\n",
       "  [1] RcppAnnoy_0.0.22        splines_4.3.3           later_1.4.1            \n",
       "  [4] pbdZMQ_0.3-13           bitops_1.0-9            polyclip_1.10-7        \n",
       "  [7] fastDummies_1.7.4       lifecycle_1.0.4         globals_0.16.3         \n",
       " [10] lattice_0.22-6          hdf5r_1.3.11            MASS_7.3-60.0.1        \n",
       " [13] magrittr_2.0.3          plotly_4.10.4           httpuv_1.6.15          \n",
       " [16] sctransform_0.4.1.9001  spam_2.11-0             spatstat.sparse_3.1-0  \n",
       " [19] reticulate_1.40.0       cowplot_1.1.3           mapproj_1.2.11         \n",
       " [22] pbapply_1.7-2           RColorBrewer_1.1-3      maps_3.4.2.1           \n",
       " [25] abind_1.4-8             zlibbioc_1.48.2         Rtsne_0.17             \n",
       " [28] RCurl_1.98-1.16         GenomeInfoDbData_1.2.11 irlba_2.3.5.1          \n",
       " [31] listenv_0.9.1           spatstat.utils_3.1-1    goftest_1.2-3          \n",
       " [34] RSpectra_0.16-2         spatstat.random_3.3-2   fitdistrplus_1.2-1     \n",
       " [37] parallelly_1.40.1       leiden_0.4.3.1          codetools_0.2-20       \n",
       " [40] DelayedArray_0.28.0     tidyselect_1.2.1        farver_2.1.2           \n",
       " [43] base64enc_0.1-3         spatstat.explore_3.3-3  jsonlite_1.8.9         \n",
       " [46] progressr_0.15.1        ggridges_0.5.6          survival_3.7-0         \n",
       " [49] systemfonts_1.1.0       tools_4.3.3             ica_1.0-3              \n",
       " [52] glue_1.8.0              gridExtra_2.3           SparseArray_1.2.4      \n",
       " [55] IRdisplay_1.1           withr_3.0.2             fastmap_1.2.0          \n",
       " [58] fansi_1.0.6             digest_0.6.37           timechange_0.3.0       \n",
       " [61] R6_2.5.1                mime_0.12               colorspace_2.1-1       \n",
       " [64] scattermore_1.2         tensor_1.5              dichromat_2.0-0.1      \n",
       " [67] spatstat.data_3.1-4     utf8_1.2.4              generics_0.1.3         \n",
       " [70] httr_1.4.7              htmlwidgets_1.6.4       S4Arrays_1.2.1         \n",
       " [73] uwot_0.2.2              pkgconfig_2.0.3         gtable_0.3.6           \n",
       " [76] lmtest_0.9-40           htmltools_0.5.8.1       dotCall64_1.2          \n",
       " [79] scales_1.3.0            png_0.1-8               spatstat.univar_3.1-1  \n",
       " [82] tzdb_0.4.0              reshape2_1.4.4          uuid_1.2-1             \n",
       " [85] nlme_3.1-166            repr_1.1.7              zoo_1.8-12             \n",
       " [88] KernSmooth_2.23-24      parallel_4.3.3          miniUI_0.1.1.1         \n",
       " [91] pillar_1.9.0            grid_4.3.3              vctrs_0.6.5            \n",
       " [94] RANN_2.6.2              promises_1.3.2          xtable_1.8-4           \n",
       " [97] cluster_2.1.7           evaluate_1.0.1          cli_3.6.3              \n",
       "[100] locfit_1.5-9.10         compiler_4.3.3          rlang_1.1.4            \n",
       "[103] crayon_1.5.3            future.apply_1.11.3     plyr_1.8.9             \n",
       "[106] stringi_1.8.4           deldir_2.0-4            BiocParallel_1.36.0    \n",
       "[109] munsell_0.5.1           lazyeval_0.2.2          spatstat.geom_3.3-4    \n",
       "[112] Matrix_1.6-5            IRkernel_1.3.2          RcppHNSW_0.6.0         \n",
       "[115] hms_1.1.3               patchwork_1.3.0         bit64_4.5.2            \n",
       "[118] future_1.34.0           shiny_1.9.1             ROCR_1.0-11            \n",
       "[121] igraph_2.1.2            bit_4.5.0.1            "
      ]
     },
     "metadata": {},
     "output_type": "display_data"
    }
   ],
   "source": [
    "sessionInfo()"
   ]
  }
 ],
 "metadata": {
  "kernelspec": {
   "display_name": "scrna_dm",
   "language": "R",
   "name": "scrna_dm"
  },
  "language_info": {
   "codemirror_mode": "r",
   "file_extension": ".r",
   "mimetype": "text/x-r-source",
   "name": "R",
   "pygments_lexer": "r",
   "version": "4.3.3"
  }
 },
 "nbformat": 4,
 "nbformat_minor": 5
}
