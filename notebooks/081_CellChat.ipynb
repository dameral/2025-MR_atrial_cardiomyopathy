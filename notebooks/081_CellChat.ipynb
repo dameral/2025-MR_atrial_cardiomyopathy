{
 "cells": [
  {
   "cell_type": "markdown",
   "id": "6de49d5e-d725-45f6-92e1-6831e18d8891",
   "metadata": {},
   "source": [
    "# Load libraries and Themes"
   ]
  },
  {
   "cell_type": "markdown",
   "id": "60e75502-3af4-473d-b5fb-204a10bcb58a",
   "metadata": {},
   "source": [
    "Run in user_R"
   ]
  },
  {
   "cell_type": "code",
   "execution_count": 1,
   "id": "35d7dba7-aec1-4e24-9702-d0eb6d41a8e3",
   "metadata": {
    "tags": []
   },
   "outputs": [],
   "source": [
    "suppressPackageStartupMessages({\n",
    "    suppressWarnings({\n",
    "        library(Seurat)\n",
    "        library(ggplot2)\n",
    "        library(tidyverse)\n",
    "        library(harmony)\n",
    "        library(SeuratDisk)\n",
    "        library(DESeq2)\n",
    "        library(dplyr)\n",
    "        library(Rsamtools)\n",
    "        library(svglite)\n",
    "        library(viridis)\n",
    "        library(ComplexHeatmap)\n",
    "        library(circlize)\n",
    "        library(CellChat)\n",
    "        library(patchwork)\n",
    "        library(reticulate)\n",
    "        library(svglite)\n",
    "        library(cowplot)\n",
    "        library(gridExtra)\n",
    "        library(pals)\n",
    "        library(RColorBrewer)\n",
    "    })})"
   ]
  },
  {
   "cell_type": "code",
   "execution_count": null,
   "id": "39ea3e8b-4e9f-4694-a0dc-58f4c95dd9af",
   "metadata": {},
   "outputs": [],
   "source": [
    "#Color Palettes\n",
    "\n",
    "palette.doublets <- c(\n",
    "    \"#197278\",#turqu\n",
    "    \"#C1C1C1\"#grey\n",
    ")\n",
    "\n",
    "palette.2 <- c(\n",
    "    \"#990902\",\n",
    "    \"#0303a3\"\n",
    ")\n",
    "\n",
    "palette.4 <- DiscretePalette(4, palette = \"stepped\", shuffle = TRUE)\n",
    "\n",
    "palette.12 <- DiscretePalette(12, palette = \"stepped\", shuffle = TRUE)\n",
    "\n",
    "palette.15 <- DiscretePalette(12, palette = \"stepped\", shuffle = TRUE)\n",
    "\n",
    "palette <- c(\n",
    "    \"#990902\",#CM_0\n",
    "    \"#0303a3\",#EC-end\n",
    "    \"#ebe6c7\",#FB\n",
    "    \"#077a01\",#MΦ-M2\n",
    "    \"#05b1eb\",#EC-cap\n",
    "    \"#660202\",#PER\n",
    "    \"#4b048a\",#MESO\n",
    "    \"#7d0701\",#CM_1\n",
    "    \"#0FB602\",#TC\n",
    "    \"#0324fc\",#EC-lym\n",
    "    \"#FFD100\",#SC\n",
    "    \"#d90f04\",#CM_2\n",
    "    \"#aad902\"#BC\n",
    ")\n",
    "\n",
    "palette_CMFBTC <- c(\n",
    "    \"#990902\",#CM_0\n",
    "    \"#ebe6c7\",#FB\n",
    "    \"#0FB602\"#TC\n",
    ")\n",
    "\n",
    "palette_split <- c(\n",
    "    \"#C1C1C1\",#CM_0\n",
    "    \"#0303a3\",#EC-end\n",
    "    \"#ebe6c7\",#FB\n",
    "    \"#077a01\",#MΦ-M2\n",
    "    \"#05b1eb\",#EC-cap\n",
    "    \"#990902\",#PER\n",
    "    \"#4b048a\",#MESO\n",
    "    \"#7d0701\",#CM_1\n",
    "    \"#0FB602\",#TC\n",
    "    \"#0324fc\",#EC-lym\n",
    "    \"#FFD100\",#SC\n",
    "    \"#d90f04\",#CM_2\n",
    "    \"#aad902\",#BC\n",
    "    \"#660202\"#CM_3\n",
    "\n",
    ")\n",
    "   \n",
    "palette.treatment <- c(\n",
    "    \"#AF0000\",#ALDO\n",
    "    \"#C1C1C1\"#CTRL\n",
    ")"
   ]
  },
  {
   "cell_type": "code",
   "execution_count": null,
   "id": "594f95d6-1f38-411c-aed5-ad8b70d5a04f",
   "metadata": {},
   "outputs": [],
   "source": [
    "umap_theme <- theme(\n",
    "  axis.line=element_blank(),\n",
    "  axis.text.x=element_blank(),\n",
    "  axis.text.y=element_blank(),\n",
    "  axis.ticks=element_blank(),\n",
    "  axis.title.x=element_blank(),\n",
    "  axis.title.y=element_blank(),\n",
    "  panel.background=element_blank(),\n",
    "  panel.border=element_blank(),\n",
    "  panel.grid.major=element_blank(),\n",
    "  panel.grid.minor=element_blank()\n",
    ")\n",
    "\n",
    "vln_theme_1 <- theme(\n",
    "  axis.text.x = element_blank(),\n",
    "  axis.text.y = element_blank(),\n",
    "  panel.background = element_blank(),\n",
    "  axis.title.x = element_blank(),\n",
    "  axis.title.y = element_blank(),\n",
    "  panel.border = element_blank(),\n",
    "  panel.grid.major = element_blank(),\n",
    "  panel.grid.minor = element_blank(),\n",
    "  text = element_text(size = 25)\n",
    ")\n",
    "\n",
    "vln_theme_2 <- theme(\n",
    "  panel.background = element_blank(),\n",
    "  axis.title.x = element_blank(),\n",
    "  axis.title.y = element_blank(),\n",
    "  panel.border = element_blank(),\n",
    "  panel.grid.major = element_blank(),\n",
    "  panel.grid.minor = element_blank(),\n",
    "  text = element_text(size = 25)\n",
    ")"
   ]
  },
  {
   "cell_type": "code",
   "execution_count": null,
   "id": "45ca9734-58b0-4757-af0e-54f362634e87",
   "metadata": {},
   "outputs": [],
   "source": [
    "setwd(\"/media/daten/dmeral/scseq_analysis/2024_LA_CTRL_ALDO\")"
   ]
  },
  {
   "cell_type": "code",
   "execution_count": null,
   "id": "a20547a0-c021-481e-af8c-a23af53b7192",
   "metadata": {},
   "outputs": [],
   "source": [
    "set.seed(1234)"
   ]
  },
  {
   "cell_type": "markdown",
   "id": "ff0b69ce-fd57-4466-9a63-08e107ab702c",
   "metadata": {},
   "source": [
    "# CellChat with Subclusters"
   ]
  },
  {
   "cell_type": "markdown",
   "id": "71caa54d-967a-4852-b507-1d5776d8d850",
   "metadata": {},
   "source": [
    "## Pre-processing"
   ]
  },
  {
   "cell_type": "code",
   "execution_count": null,
   "id": "4c5dd502-239e-4284-a041-5e787e6f7d0f",
   "metadata": {
    "scrolled": true,
    "tags": []
   },
   "outputs": [],
   "source": [
    "obj_rename <- LoadH5Seurat(\"seurat_objects/obj_rename_withsubcluster.h5seurat\")"
   ]
  },
  {
   "cell_type": "code",
   "execution_count": null,
   "id": "4b2bcb70-040c-4a65-98b1-5649fab5a5f2",
   "metadata": {},
   "outputs": [],
   "source": [
    "Idents(obj_rename) <- obj_rename@meta.data$\"cell_type\""
   ]
  },
  {
   "cell_type": "code",
   "execution_count": null,
   "id": "b8f2f350-c33f-49a9-b430-1da3e8587a62",
   "metadata": {},
   "outputs": [],
   "source": [
    "LA  <- obj_rename"
   ]
  },
  {
   "cell_type": "code",
   "execution_count": null,
   "id": "f24c96a8-b923-411a-82d5-616ce644dc0c",
   "metadata": {},
   "outputs": [],
   "source": [
    "print(\"### Cellnumbers per cluster and sample\")\n",
    "table <- table(LA@meta.data$treatment,\n",
    "      LA@meta.data$cell_type)\n",
    "table"
   ]
  },
  {
   "cell_type": "code",
   "execution_count": null,
   "id": "76a05011-65f7-427f-972e-6910608b7290",
   "metadata": {},
   "outputs": [],
   "source": [
    "split_LA <- SplitObject(LA, split.by = \"treatment\")"
   ]
  },
  {
   "cell_type": "markdown",
   "id": "07052742-dfbb-47e3-ac61-9507525c4848",
   "metadata": {},
   "source": [
    "## CellChat"
   ]
  },
  {
   "cell_type": "code",
   "execution_count": null,
   "id": "93e38e41-7df2-4317-afb5-956d8e4a7674",
   "metadata": {},
   "outputs": [],
   "source": [
    "# Load after CellChat finished for all 2 conditions\n",
    "cc_LA_CTRL <- readRDS(\"CellChat/CellChat_LA_CTRL\")\n",
    "cc_LA_ALDO <- readRDS(\"CellChat/CellChat_LA_ALDO\")"
   ]
  },
  {
   "cell_type": "code",
   "execution_count": null,
   "id": "56196fd2-4e98-4cd6-8176-3550213b3d5f",
   "metadata": {},
   "outputs": [],
   "source": [
    "object.list <- list(LA_CTRL = cc_LA_CTRL, LA_ALDO = cc_LA_ALDO)\n",
    "\n",
    "cellchat <- mergeCellChat(object.list, add.names = names(object.list))\n",
    "# Merge the following slots: 'data.signaling','net', 'netP','meta', 'idents', 'var.features' , 'DB', and 'LR'.\n",
    "cellchat\n",
    "\n",
    "object.list_LA <- list(LA_CTRL = cc_LA_CTRL, LA_ALDO = cc_LA_ALDO)\n",
    "cellchat_LA <- mergeCellChat(object.list_LA, add.names = names(object.list_LA))"
   ]
  },
  {
   "cell_type": "markdown",
   "id": "b51c6033-b376-4fc8-a428-06e5e8f957fa",
   "metadata": {},
   "source": [
    "## CellChat LA ALDO"
   ]
  },
  {
   "cell_type": "code",
   "execution_count": null,
   "id": "c32236dc-0d55-4d95-b058-b26c7843f847",
   "metadata": {
    "scrolled": true
   },
   "outputs": [],
   "source": [
    "data.input <- GetAssayData(split_LA$ALDO, assay = \"RNA\", slot = \"data\")\n",
    "labels <- Idents(split_LA$ALDO)\n",
    "meta <- data.frame(group = labels, row.names = names(labels))\n",
    "cc_obj <- createCellChat(object = data.input, meta = meta, group.by = \"group\")\n",
    "cc_obj <- addMeta(cc_obj, meta = meta, meta.name = \"Labels\")\n",
    "cc_obj <- setIdent(cc_obj, ident.use = \"Labels\")\n",
    "levels(cc_obj@idents)\n",
    "\n",
    "CellChatDB <- CellChatDB.mouse\n",
    "showDatabaseCategory(CellChatDB)\n",
    "dplyr::glimpse(CellChatDB$interaction)\n",
    "CellChatDB.use <- CellChatDB\n",
    "\n",
    "cc_obj@DB <- CellChatDB.use\n",
    "cc_obj <- subsetData(cc_obj)\n",
    "cc_obj <- identifyOverExpressedGenes(cc_obj)\n",
    "cc_obj <- identifyOverExpressedInteractions(cc_obj)\n",
    "\n",
    "cc_obj <- projectData(cc_obj, PPI.mouse)\n",
    "cc_obj <- computeCommunProb(cc_obj, raw.use = FALSE)\n",
    "\n",
    "cc_obj <- filterCommunication(cc_obj, min.cells = 10)\n",
    "cc_obj <- computeCommunProbPathway(cc_obj)\n",
    "cc_obj <- aggregateNet(cc_obj)\n",
    "cc_obj <- netAnalysis_computeCentrality(object = cc_obj, slot.name = \"netP\",  thresh = 0.5)\n",
    "\n",
    "cc_LA_ALDO <- cc_obj\n",
    "\n",
    "saveRDS(cc_obj, file = \"CellChat/CellChat_LA_ALDO\")"
   ]
  },
  {
   "cell_type": "code",
   "execution_count": null,
   "id": "dafcad66-3c38-46f5-b2a0-2ad36860eeab",
   "metadata": {},
   "outputs": [],
   "source": [
    "groupSize <- as.numeric(table(cc_LA_ALDO@idents))\n",
    "\n",
    "svg(file = \"CellChat/Plots/LA_ALDO_Number.svg\")\n",
    "gg1 <- netVisual_circle(cc_LA_ALDO@net$count, vertex.weight = groupSize, vertex.label.cex = 2, weight.scale = TRUE, label.edge= FALSE, title.name = \"Number of interactions\", color.use = palette) \n",
    "dev.off()\n",
    "\n",
    "svg(file = \"CellChat/Plots/LA_ALDO_Weight.svg\")\n",
    "gg2 <- netVisual_circle(cc_LA_ALDO@net$weight, vertex.weight = groupSize, vertex.label.cex = 2, weight.scale = TRUE, label.edge= FALSE, title.name = \"Interaction weights/strength\", color.use = palette)\n",
    "dev.off()\n",
    "\n",
    "svg(file = \"CellChat/Plots/LA_ALDO_byCluster.svg\", width = 24, height = 18)\n",
    "mat <- cc_LA_ALDO@net$weight\n",
    "par(mfrow = c(3,5), xpd = TRUE)\n",
    "for (i in 1:nrow(mat)) {\n",
    "  mat1 <- matrix(0, nrow = nrow(mat), ncol = ncol(mat), dimnames = dimnames(mat))\n",
    "  mat1[i, ] <- mat[i, ]\n",
    "  netVisual_circle(mat1, vertex.size.max = 5, vertex.weight = groupSize, vertex.label.cex = 3, arrow.size = 0, weight.scale = TRUE, edge.weight.max = max(mat), title.name = rownames(mat)[i], color.use = palette)\n",
    "}\n",
    "dev.off()"
   ]
  },
  {
   "cell_type": "markdown",
   "id": "6198a7ce-acae-456a-98c1-1f02469aa8d6",
   "metadata": {},
   "source": [
    "## CellChat LA CTRL"
   ]
  },
  {
   "cell_type": "code",
   "execution_count": null,
   "id": "21867fcf-301f-4e68-85be-a70c68ecde2b",
   "metadata": {
    "scrolled": true
   },
   "outputs": [],
   "source": [
    "data.input <- GetAssayData(split_LA$CTRL, assay = \"RNA\", slot = \"data\")\n",
    "labels <- Idents(split_LA$CTRL)\n",
    "meta <- data.frame(group = labels, row.names = names(labels))\n",
    "cc_obj <- createCellChat(object = data.input, meta = meta, group.by = \"group\")\n",
    "cc_obj <- addMeta(cc_obj, meta = meta, meta.name = \"Labels\")\n",
    "cc_obj <- setIdent(cc_obj, ident.use = \"Labels\")\n",
    "levels(cc_obj@idents)\n",
    "\n",
    "CellChatDB <- CellChatDB.mouse\n",
    "showDatabaseCategory(CellChatDB)\n",
    "dplyr::glimpse(CellChatDB$interaction)\n",
    "CellChatDB.use <- CellChatDB\n",
    "\n",
    "cc_obj@DB <- CellChatDB.use\n",
    "cc_obj <- subsetData(cc_obj)\n",
    "cc_obj <- identifyOverExpressedGenes(cc_obj)\n",
    "cc_obj <- identifyOverExpressedInteractions(cc_obj)\n",
    "\n",
    "cc_obj <- projectData(cc_obj, PPI.mouse)\n",
    "cc_obj <- computeCommunProb(cc_obj, raw.use = FALSE)\n",
    "\n",
    "cc_obj <- filterCommunication(cc_obj, min.cells = 10)\n",
    "cc_obj <- computeCommunProbPathway(cc_obj)\n",
    "cc_obj <- aggregateNet(cc_obj)\n",
    "cc_obj <- netAnalysis_computeCentrality(object = cc_obj, slot.name = \"netP\",  thresh = 0.5)\n",
    "\n",
    "\n",
    "cc_LA_CTRL <- cc_obj\n",
    "\n",
    "saveRDS(cc_obj, file = \"CellChat/CellChat_LA_CTRL\")"
   ]
  },
  {
   "cell_type": "code",
   "execution_count": null,
   "id": "1d564972-c99a-485c-a52e-69dd48d3d678",
   "metadata": {},
   "outputs": [],
   "source": [
    "groupSize <- as.numeric(table(cc_LA_CTRL@idents))\n",
    "\n",
    "svg(file = \"CellChat/Plots/LA_CTRL_Number.svg\")\n",
    "gg1 <- netVisual_circle(cc_LA_CTRL@net$count, vertex.weight = groupSize, vertex.label.cex = 2, weight.scale = TRUE, label.edge= FALSE, title.name = \"Number of interactions\", color.use = palette) \n",
    "dev.off()\n",
    "\n",
    "svg(file = \"CellChat/Plots/LA_CTRL_Weight.svg\")\n",
    "gg2 <- netVisual_circle(cc_LA_CTRL@net$weight, vertex.weight = groupSize, vertex.label.cex = 2, weight.scale = TRUE, label.edge= FALSE, title.name = \"Interaction weights/strength\", color.use = palette)\n",
    "dev.off()\n",
    "\n",
    "svg(file = \"CellChat/Plots/LA_CTRL_byCluster.svg\", width = 24, height = 18)\n",
    "mat <- cc_LA_CTRL@net$weight\n",
    "par(mfrow = c(3,5), xpd = TRUE)\n",
    "for (i in 1:nrow(mat)) {\n",
    "  mat1 <- matrix(0, nrow = nrow(mat), ncol = ncol(mat), dimnames = dimnames(mat))\n",
    "  mat1[i, ] <- mat[i, ]\n",
    "  netVisual_circle(mat1, vertex.size.max = 5, vertex.weight = groupSize, vertex.label.cex = 3, arrow.size = 0, weight.scale = TRUE, edge.weight.max = max(mat), title.name = rownames(mat)[i], color.use = palette)\n",
    "}\n",
    "dev.off()"
   ]
  },
  {
   "cell_type": "markdown",
   "id": "387d7f82-9648-4e40-91c7-858d242c1ed6",
   "metadata": {},
   "source": [
    "## Part I: Predict general principles of cell-cell communication"
   ]
  },
  {
   "cell_type": "code",
   "execution_count": null,
   "id": "ae7e6b6f-57db-4f6f-9891-0662b8d5f818",
   "metadata": {},
   "outputs": [],
   "source": [
    "object.list <- list(LA_CTRL = cc_LA_CTRL, LA_ALDO = cc_LA_ALDO)\n",
    "\n",
    "cellchat <- mergeCellChat(object.list, add.names = names(object.list))\n",
    "# Merge the following slots: 'data.signaling','net', 'netP','meta', 'idents', 'var.features' , 'DB', and 'LR'.\n",
    "cellchat"
   ]
  },
  {
   "cell_type": "markdown",
   "id": "c08a5d07-4511-4407-8b89-a318913f4f95",
   "metadata": {},
   "source": [
    "### Compare the total number of interactions and interaction strength"
   ]
  },
  {
   "cell_type": "code",
   "execution_count": null,
   "id": "de0e15d7-5e68-4932-99b3-dc0128070504",
   "metadata": {
    "scrolled": true
   },
   "outputs": [],
   "source": [
    "options(repr.plot.width = 12, repr.plot.height = 6, repr.plot.res = 300)\n",
    "\n",
    "gg1 <- compareInteractions(cellchat, show.legend = FALSE, group = c(1 ,2), color.use = palette.treatment, title.name = \"Number of interactions\", size.text = 20)\n",
    "gg2 <- compareInteractions(cellchat, show.legend = FALSE, group = c(1 ,2), measure = \"weight\", color.use = palette.treatment, title.name = \"Strength of interactions\", size.text = 20)\n",
    "gg1 + gg2\n",
    "\n",
    "ggsave(\"CellChat/Plots/NumberOfInteractions.svg\", plot = gg1, units = \"cm\", dpi = 300, width = 10, height = 10)\n",
    "ggsave(\"CellChat/Plots/StrengthOfInteractions.svg\", plot = gg2, units = \"cm\", dpi = 300, width = 10, height = 10)"
   ]
  },
  {
   "cell_type": "markdown",
   "id": "b37dca26-6549-4c72-99cb-c380c3f0b2c9",
   "metadata": {},
   "source": [
    "### Differential number of interactions or interaction strength among different cell populations\n"
   ]
  },
  {
   "cell_type": "code",
   "execution_count": null,
   "id": "7587ce27-7d89-4a6c-af2a-eb167d94120d",
   "metadata": {},
   "outputs": [],
   "source": [
    "# LA\n",
    "svg(file = \"CellChat/Plots/LA_diffInteraction.svg\", width = 14, height = 7)\n",
    "par(mfrow = c(1, 2), xpd = TRUE)\n",
    "PlotNetdiff_Num <- netVisual_diffInteraction(cellchat, weight.scale = TRUE, vertex.label.cex = 2, arrow.size = 0.5, color.use = palette)\n",
    "PlotNetdiff_Wght <- netVisual_diffInteraction(cellchat, weight.scale = TRUE, vertex.label.cex = 2, arrow.size = 0.5, measure = \"weight\", color.use = palette)\n",
    "dev.off()"
   ]
  },
  {
   "cell_type": "code",
   "execution_count": null,
   "id": "22267385-287c-4955-9c4a-8f429650e41f",
   "metadata": {},
   "outputs": [],
   "source": [
    "# LA only form and to CM_0\n",
    "target_cell <- \"CM_0\"\n",
    "\n",
    "\n",
    "svg(file = \"CellChat/Plots/LA_diffInteraction_CM_0_target.svg\", width = 14, height = 7)\n",
    "par(mfrow = c(1, 2), xpd = TRUE)\n",
    "PlotNetdiff_Num <- netVisual_diffInteraction(cellchat, weight.scale = TRUE, targets.use = target_cell, vertex.label.cex = 2, arrow.size = 0.5, color.use = palette)\n",
    "PlotNetdiff_Wght <- netVisual_diffInteraction(cellchat, weight.scale = TRUE, targets.use = target_cell, vertex.label.cex = 2, arrow.size = 0.5, measure = \"weight\", color.use = palette)\n",
    "dev.off()\n",
    "\n",
    "svg(file = \"CellChat/Plots/LA_diffInteraction_CM_0_source.svg\", width = 14, height = 7)\n",
    "par(mfrow = c(1, 2), xpd = TRUE)\n",
    "PlotNetdiff_Num <- netVisual_diffInteraction(cellchat, weight.scale = TRUE, sources.use = target_cell, vertex.label.cex = 2, arrow.size = 0.5, color.use = palette)\n",
    "PlotNetdiff_Wght <- netVisual_diffInteraction(cellchat, weight.scale = TRUE, sources.use = target_cell, vertex.label.cex = 2, arrow.size = 0.5, measure = \"weight\", color.use = palette)\n",
    "dev.off()"
   ]
  },
  {
   "cell_type": "code",
   "execution_count": null,
   "id": "75bfb909-5568-496d-a093-caa59ec2a2a0",
   "metadata": {},
   "outputs": [],
   "source": [
    "options(repr.plot.width = 12, repr.plot.height = 6, repr.plot.res = 300)\n",
    "\n",
    "ht1 <- netVisual_heatmap(cellchat, width = 10, height = 24, color.use = palette, color.heatmap = c(\"#0000c0\", \"#a00000\"))\n",
    "ht2 <- netVisual_heatmap(cellchat, width = 10, height = 24, measure = \"weight\", color.use = palette, color.heatmap = c(\"#0000c0\", \"#a00000\"))\n",
    "\n",
    "grob_ht1 = grid.grabExpr(draw(ht1))\n",
    "grob_ht2 = grid.grabExpr(draw(ht2))\n",
    "\n",
    "grid_ht <- plot_grid(grob_ht1, grob_ht2, ncol = 2)\n",
    "\n",
    "ggsave(\"CellChat/Plots/netVisual_heatmap.svg\", plot = grid_ht, units = \"cm\", dpi = 300, width = 30, height = 20)"
   ]
  },
  {
   "cell_type": "code",
   "execution_count": null,
   "id": "26e63762-95b4-47de-b04b-1a335669bbd8",
   "metadata": {},
   "outputs": [],
   "source": [
    "# Number of interactions combined in one plot\n",
    "\n",
    "# LA\n",
    "svg(file = \"CellChat/Plots/LA_NumberOfInteractions.svg\", width = 14, height = 7)\n",
    "weight.max <- getMaxWeight(object.list, attribute = c(\"idents\", \"count\"))\n",
    "par(mfrow = c(1,2), xpd = TRUE)\n",
    "for (i in 1:length(object.list)) {\n",
    "  netVisual_circle(object.list[[i]]@net$count, weight.scale = TRUE, label.edge= FALSE, vertex.label.cex = 2, edge.weight.max = weight.max[2], edge.width.max = 12, title.name = paste0(\"Number of interactions - \", names(object.list)[i]), color.use = palette)\n",
    "}\n",
    "dev.off()"
   ]
  },
  {
   "cell_type": "markdown",
   "id": "39a2764f-ccc0-4546-8261-ca3d3552e69f",
   "metadata": {},
   "source": [
    "### Differential number of interactions or interaction strength among different cell types\n"
   ]
  },
  {
   "cell_type": "markdown",
   "id": "ae6c91fc-18ec-4f5f-8e14-c91a7545b108",
   "metadata": {},
   "source": [
    "### Compare the major sources and targets in 2D space"
   ]
  },
  {
   "cell_type": "markdown",
   "id": "5a170632-b051-4723-943d-803be6a43764",
   "metadata": {},
   "source": [
    "Comparing the outgoing and incoming interaction strength in 2D space allows ready identification of the cell populations with significant changes in sending or receiving signals between different datasets. \n"
   ]
  },
  {
   "cell_type": "code",
   "execution_count": null,
   "id": "96074ea4-b40f-4961-ad70-cf0cbd9981be",
   "metadata": {},
   "outputs": [],
   "source": [
    "options(repr.plot.width = 10, repr.plot.height = 5, repr.plot.res = 300)\n",
    "\n",
    "# lA\n",
    "svg(file = \"CellChat/Plots/LA_signalingRoleScatter.svg\", width = 9, height = 4)\n",
    "num.link <- sapply(object.list, function(x) {rowSums(x@net$count) + colSums(x@net$count)-diag(x@net$count)})\n",
    "weight.MinMax <- c(min(num.link), max(num.link)) # control the dot size in the different datasets\n",
    "gg <- list()\n",
    "for (i in 1:length(object.list)) {\n",
    "  gg[[i]] <- netAnalysis_signalingRole_scatter(object.list[[i]], title = names(object.list)[i], weight.MinMax = weight.MinMax, color.use = palette) + scale_y_continuous(limits = c(0, 15)) + scale_x_continuous(limits = c(0, 15))\n",
    "}\n",
    "patchwork::wrap_plots(plots = gg)\n",
    "dev.off()"
   ]
  },
  {
   "cell_type": "markdown",
   "id": "fc01a834-771d-4464-99a2-465ecc5edf86",
   "metadata": {},
   "source": [
    "### Identify signaling changes associated with one cell group"
   ]
  },
  {
   "cell_type": "code",
   "execution_count": null,
   "id": "a0e806cf-098f-45cd-a355-d0dd2c62f8c3",
   "metadata": {},
   "outputs": [],
   "source": [
    "options(repr.plot.width = 5, repr.plot.height = 5, repr.plot.res = 300)\n",
    "\n",
    "palette.net <- c(\n",
    "    \"#b57d7d\", #share\n",
    "    \"#C1C1C1\", #CTRL\n",
    "    \"#AF0000\") #ALDO"
   ]
  },
  {
   "cell_type": "code",
   "execution_count": null,
   "id": "3e94b4f2-24cd-47f9-a0ab-1d82cc96c642",
   "metadata": {},
   "outputs": [],
   "source": [
    "# Legend\n",
    "gg0 <- netAnalysis_signalingChanges_scatter(cellchat, idents.use = \"CM_0\", color.use = palette.net, show.legend = TRUE)\n",
    "ggsave(\"CellChat/Plots/scatterDiffPath/legend.svg\", plot = gg0, units = \"cm\", dpi = 300, width = 15, height = 15)"
   ]
  },
  {
   "cell_type": "code",
   "execution_count": null,
   "id": "17d7fa56-5aaa-460e-aa9e-a03b0706165b",
   "metadata": {},
   "outputs": [],
   "source": [
    "gg0"
   ]
  },
  {
   "cell_type": "markdown",
   "id": "059827f7-1de0-4f05-9f2f-e60e79670ccf",
   "metadata": {},
   "source": [
    "### Identify signaling changes associated with one cell group"
   ]
  },
  {
   "cell_type": "code",
   "execution_count": null,
   "id": "04ab76c9-a809-48b4-b7d5-3ebedca2ac82",
   "metadata": {
    "scrolled": true
   },
   "outputs": [],
   "source": [
    "# LA\n",
    "generate_and_save_plot <- function(ident, filename) {\n",
    "  gg <- netAnalysis_signalingChanges_scatter(cellchat, idents.use = ident, color.use = palette.net, show.legend = FALSE)\n",
    "  ggsave(filename, plot = gg, units = \"cm\", dpi = 300, width = 15, height = 15)\n",
    "}\n",
    "\n",
    "# List of identities and corresponding filenames\n",
    "identities <- unique(LA@meta.data$cell_type)\n",
    "filenames <- paste0(\"CellChat/Plots/scatterDiffPath/LA_\", identities, \".svg\")\n",
    "\n",
    "# Generate and save scatter plots for each identity\n",
    "Map(generate_and_save_plot, identities, filenames)"
   ]
  },
  {
   "cell_type": "markdown",
   "id": "64fd9ffb-a8be-42a0-b125-66a162f2d3b9",
   "metadata": {},
   "source": [
    "## Part II: Identify the conserved and context-specific signaling pathways"
   ]
  },
  {
   "cell_type": "markdown",
   "id": "f6c8de93-0efb-4ca4-921c-a09597c6567d",
   "metadata": {},
   "source": [
    "### Compare the overall information flow of each signaling pathway\n"
   ]
  },
  {
   "cell_type": "code",
   "execution_count": null,
   "id": "dea1e54d-6e66-4912-ba35-9bf79458b2be",
   "metadata": {
    "scrolled": true
   },
   "outputs": [],
   "source": [
    "options(repr.plot.width = 7, repr.plot.height = 8, repr.plot.res = 300)\n",
    "\n",
    "palette.rank <- c(\n",
    "\"#C1C1C1\", #CTRL\n",
    "\"#AF0000\") #ALDO\n",
    "\n",
    "# LA\n",
    "gg1 <- rankNet(cellchat, mode = \"comparison\", stacked = TRUE, do.stat = TRUE, color.use = palette.rank, sources.use = c(\"CM_0\"), targets.use = c(\"FB\"))\n",
    "gg2 <- rankNet(cellchat, mode = \"comparison\", stacked = FALSE, do.stat = TRUE, color.use = palette.rank)\n",
    "#ggsave(\"CellChat/Plots/LA_RelativeInformationFlow.svg\", plot = gg1, units = \"cm\", dpi = 300, width = 15, height = 20)\n",
    "#ggsave(\"CellChat/Plots/LA_InformationFlow.svg\", plot = gg2, units = \"cm\", dpi = 300, width = 15, height = 20)\n",
    "\n",
    "gg1 + gg2"
   ]
  },
  {
   "cell_type": "markdown",
   "id": "59d28064-3408-4385-b1ab-0f0e0af7092e",
   "metadata": {
    "jupyter": {
     "source_hidden": true
    }
   },
   "source": [
    "### Compare outgoing (or incoming) signaling associated with each cell population\n",
    "The above analysis summarize the information from the outgoing and incoming signaling together. We can also compare the outgoing (or incoming) signaling pattern between two datasets, allowing to identify signaling pathways/ligand-receptors that exhibit different signaling patterns.\n",
    "\n",
    "We can combine all the identified signaling pathways from different datasets and thus compare them side by side, including outgoing signaling, incoming signaling and overall signaling by aggregating outgoing and incoming signaling together. **NB**: `rankNet` also shows the comparison of overall signaling, but it does not show the signaling strength in specific cell populations.\n"
   ]
  },
  {
   "cell_type": "code",
   "execution_count": null,
   "id": "a6af9a3c-0b97-4244-a328-235b229fe84f",
   "metadata": {
    "scrolled": true
   },
   "outputs": [],
   "source": [
    "# Heatmap showing the contribution of OUTGOING signals\n",
    "i = 1\n",
    "\n",
    "# LA\n",
    "pathway.union <- union(object.list[[i]]@netP$pathways, object.list[[i+1]]@netP$pathways)\n",
    "ht1 = netAnalysis_signalingRole_heatmap(object.list[[i]], pattern = \"outgoing\", signaling = pathway.union, title = names(object.list)[i], width = 5, height = 25, color.use = palette, color.heatmap = \"YlOrRd\")\n",
    "ht2 = netAnalysis_signalingRole_heatmap(object.list[[i+1]], pattern = \"outgoing\", signaling = pathway.union, title = names(object.list)[i+1], width = 5, height = 25, color.use = palette, color.heatmap = \"YlOrRd\")"
   ]
  },
  {
   "cell_type": "code",
   "execution_count": null,
   "id": "559181c6-9bba-41e2-85a6-3d43fc721f28",
   "metadata": {},
   "outputs": [],
   "source": [
    "grob_ht1 = grid.grabExpr(draw(ht1))\n",
    "grob_ht2 = grid.grabExpr(draw(ht2))\n",
    "\n",
    "grid_ht_LA <- plot_grid(grob_ht1, grob_ht2, ncol = 2)\n",
    "\n",
    "ggsave(\"CellChat/Plots/LA_netAnalysis_heatmap_OUT.svg\", plot = grid_ht_LA, units = \"cm\", dpi = 300, width = 15, height = 30)"
   ]
  },
  {
   "cell_type": "code",
   "execution_count": null,
   "id": "4d970452-3a30-4385-8edc-7c459ddd0914",
   "metadata": {},
   "outputs": [],
   "source": [
    "# Heatmap showing the contribution of INCOMING signals\n",
    "i = 1\n",
    "\n",
    "# LA\n",
    "pathway.union <- union(object.list[[i]]@netP$pathways, object.list[[i+1]]@netP$pathways)\n",
    "ht1 = netAnalysis_signalingRole_heatmap(object.list[[i]], pattern = \"incoming\", signaling = pathway.union, title = names(object.list)[i], width = 5, height = 25, color.use = palette, color.heatmap = \"YlOrRd\")\n",
    "ht2 = netAnalysis_signalingRole_heatmap(object.list[[i+1]], pattern = \"incoming\", signaling = pathway.union, title = names(object.list)[i+1], width = 5, height = 25, color.use = palette, color.heatmap = \"YlOrRd\")"
   ]
  },
  {
   "cell_type": "code",
   "execution_count": null,
   "id": "686feab2-b134-4b42-922b-06a41884d02c",
   "metadata": {},
   "outputs": [],
   "source": [
    "grob_ht1 = grid.grabExpr(draw(ht1))\n",
    "grob_ht2 = grid.grabExpr(draw(ht2))\n",
    "\n",
    "grid_ht_LA <- plot_grid(grob_ht1, grob_ht2, ncol = 2)\n",
    "\n",
    "ggsave(\"CellChat/Plots/LA_netAnalysis_heatmap_INC.svg\", plot = grid_ht_LA, units = \"cm\", dpi = 300, width = 15, height = 30)"
   ]
  },
  {
   "cell_type": "code",
   "execution_count": null,
   "id": "3b2067b0-b4a2-41f4-8a0a-4b3f7cd9140d",
   "metadata": {},
   "outputs": [],
   "source": [
    "# Heatmap showing the contribution of ALL signals\n",
    "i = 1\n",
    "\n",
    "# LA\n",
    "pathway.union <- union(object.list[[i]]@netP$pathways, object.list[[i+1]]@netP$pathways)\n",
    "ht1 = netAnalysis_signalingRole_heatmap(object.list[[i]], pattern = \"all\", signaling = pathway.union, title = names(object.list)[i], width = 5, height = 25, color.use = palette, color.heatmap = \"YlOrRd\")\n",
    "ht2 = netAnalysis_signalingRole_heatmap(object.list[[i+1]], pattern = \"all\", signaling = pathway.union, title = names(object.list)[i+1], width = 5, height = 25, color.use = palette, color.heatmap = \"YlOrRd\")"
   ]
  },
  {
   "cell_type": "code",
   "execution_count": null,
   "id": "b44a98fe-f2b5-4f16-a803-6e410fe6f142",
   "metadata": {},
   "outputs": [],
   "source": [
    "grob_ht1 = grid.grabExpr(draw(ht1))\n",
    "grob_ht2 = grid.grabExpr(draw(ht2))\n",
    "\n",
    "grid_ht_LA <- plot_grid(grob_ht1, grob_ht2, ncol = 2)\n",
    "\n",
    "ggsave(\"CellChat/Plots/LA_netAnalysis_heatmap_ALL.svg\", plot = grid_ht_LA, units = \"cm\", dpi = 300, width = 15, height = 30)"
   ]
  },
  {
   "cell_type": "markdown",
   "id": "3ef55ba4-afc5-481c-a98f-76a538506160",
   "metadata": {},
   "source": [
    "## Part III: Identify the upgulated and down-regulated signaling ligand-receptor pairs\n"
   ]
  },
  {
   "cell_type": "markdown",
   "id": "93d47990-a38b-49b9-85e9-aba455dcb524",
   "metadata": {},
   "source": [
    "### Identify dysfunctional signaling by using differential expression analysis\n"
   ]
  },
  {
   "cell_type": "code",
   "execution_count": null,
   "id": "88c4881a-5ab6-47ab-bb1e-6b0a98a57f39",
   "metadata": {},
   "outputs": [],
   "source": [
    "# LA\n",
    "object.list <- list(LA_CTRL = cc_LA_CTRL, LA_ALDO = cc_LA_ALDO)\n",
    "cellchat <- mergeCellChat(object.list, add.names = names(object.list))"
   ]
  },
  {
   "cell_type": "code",
   "execution_count": null,
   "id": "3c516729-8644-4423-ada2-ca19357dbb3b",
   "metadata": {},
   "outputs": [],
   "source": [
    "# LA\n",
    "# define a positive dataset, i.e., the dataset with positive fold change against the other dataset\n",
    "pos.dataset = \"LA_ALDO\"\n",
    "# define a char name used for storing the results of differential expression analysis\n",
    "features.name = paste0(pos.dataset, \".merged\")\n",
    "\n",
    "# perform differential expression analysis\n",
    "cellchat <- identifyOverExpressedGenes(cellchat, group.dataset = \"datasets\", pos.dataset = pos.dataset, features.name = features.name, only.pos = FALSE, thresh.pc = 0.05, thresh.fc = 0.05, thresh.p = 0.1)\n",
    "# map the results of differential expression analysis onto the inferred cell-cell communications to easily manage/subset the ligand-receptor pairs of interest\n",
    "net_LA <- netMappingDEG(cellchat, features.name = features.name)"
   ]
  },
  {
   "cell_type": "code",
   "execution_count": null,
   "id": "93555809-3da6-48f1-99e0-555fe8bbfe5f",
   "metadata": {},
   "outputs": [],
   "source": [
    "# extract the ligand-receptor pairs with upregulated ligands in ALDO\n",
    "net.up_LA <- subsetCommunication(cellchat, net = net_LA, datasets = \"LA_ALDO\", ligand.logFC = 0.05, receptor.logFC = NULL)\n",
    "# extract the ligand-receptor pairs with upregulated ligands and upregulated recetptors in CTRL, i.e.,downregulated in ALDO\n",
    "net.down_LA <- subsetCommunication(cellchat, net = net_LA, datasets = \"LA_ALDO\", ligand.logFC = -0.05, receptor.logFC = NULL)"
   ]
  },
  {
   "cell_type": "code",
   "execution_count": null,
   "id": "1f6da608-790b-4747-b5d2-b506422ea436",
   "metadata": {},
   "outputs": [],
   "source": [
    "gene.up_LA <- extractGeneSubsetFromPair(net.up_LA, cellchat)\n",
    "gene.down_LA <- extractGeneSubsetFromPair(net.down_LA, cellchat)"
   ]
  },
  {
   "cell_type": "code",
   "execution_count": null,
   "id": "525216b8-b66a-4ec5-ba92-29537239dacc",
   "metadata": {
    "scrolled": true
   },
   "outputs": [],
   "source": [
    "# Get the unique cell groups from the metadata\n",
    "unique(object.list[[2]]@meta$Labels)  # Or 'ident' depending on the column name"
   ]
  },
  {
   "cell_type": "code",
   "execution_count": null,
   "id": "6e5ec874-199c-40bd-814a-986e24db2658",
   "metadata": {
    "scrolled": true
   },
   "outputs": [],
   "source": [
    "options(repr.plot.width = 5, repr.plot.height = 5, repr.plot.res = 300)\n",
    "#par(mfrow = c(1,2), xpd = TRUE)\n",
    "\n",
    "chord1 <- netVisual_chord_gene(object.list[[1]], sources.use = c(1), targets.use = c(3, 9), slot.name = \"net\", net = net.down_LA, lab.cex = 0.8, small.gap = 1, annotationTrackHeight = c(0.05), title.name = paste0(\"Down-regulated signaling in \", names(object.list)[2]), color.use = palette)\n",
    "chord2 <- netVisual_chord_gene(object.list[[2]], sources.use = c(1), targets.use = c(3, 9), slot.name = \"net\", net = net.up_LA, lab.cex = 0.8, small.gap = 1, annotationTrackHeight = c(0.05), title.name = paste0(\"Up-regulated signaling in \", names(object.list)[2]), color.use = palette)"
   ]
  },
  {
   "cell_type": "code",
   "execution_count": null,
   "id": "ac292765-23ef-46a4-9c72-7984f555316f",
   "metadata": {},
   "outputs": [],
   "source": [
    "options(repr.plot.width = 3, repr.plot.height = 3, repr.plot.res = 300)\n",
    "\n",
    "# Display the plot\n",
    "print(chord1)\n",
    "g <- recordPlot()\n",
    "\n",
    "svg(\"CellChat/Plots/LA_netVisual_chord_gene_plot_ALDO_Down.svg\", width = 4, height = 4)\n",
    "replayPlot(g)\n",
    "dev.off()"
   ]
  },
  {
   "cell_type": "code",
   "execution_count": null,
   "id": "a3c415e4-fb06-442a-b094-55bef9ad3976",
   "metadata": {},
   "outputs": [],
   "source": [
    "options(repr.plot.width = 3, repr.plot.height = 3, repr.plot.res = 300)\n",
    "\n",
    "# Display the plot\n",
    "print(chord2)\n",
    "g <- recordPlot()\n",
    "\n",
    "svg(\"CellChat/Plots/LA_netVisual_chord_gene_plot_ALDO_Up.svg\", width = 4, height = 4)\n",
    "replayPlot(g)\n",
    "dev.off()"
   ]
  },
  {
   "cell_type": "markdown",
   "id": "9b43157b-a7be-4893-857d-efe841d3e36a",
   "metadata": {},
   "source": [
    "## netVisual_bubble CM, FB, TC "
   ]
  },
  {
   "cell_type": "code",
   "execution_count": null,
   "id": "a1d763e6-0943-4aa9-9c65-a6b6d15dd82d",
   "metadata": {},
   "outputs": [],
   "source": [
    "options(repr.plot.width = 4, repr.plot.height = 8, repr.plot.res = 300)\n",
    "\n",
    "palette.bubble <- c( \n",
    "    \"#000000\", #CTRL\n",
    "    \"#AF0000\" #ALDO   \n",
    ")\n",
    "\n",
    "gg1 <- netVisual_bubble(cellchat, sources.use = c(1, 9), targets.use = c(3, 9),  comparison = c(1, 2), max.dataset = 2, title.name = \"Increased signaling in ALDO \", angle.x = 90, remove.isolate = TRUE, color.heatmap = \"viridis\", color.text = palette.bubble)\n",
    "\n",
    "\n",
    "gg1 <- gg1 + scale_fill_gradientn(colors = brewer.pal(9, \"OrRd\")) +\n",
    "      scale_color_gradientn(colors = brewer.pal(9, \"OrRd\"))\n",
    "\n",
    "ggsave(\"CellChat/Plots/LA_netVisual_bubble_CM_FB_TC.svg\", plot = gg1, units = \"cm\", dpi = 300, width = 9.8, height = 14)\n",
    "\n",
    "gg1"
   ]
  },
  {
   "cell_type": "code",
   "execution_count": null,
   "id": "ea29d973-a106-4b99-bc73-80ffad03fbc8",
   "metadata": {},
   "outputs": [],
   "source": [
    "options(repr.plot.width = 8, repr.plot.height = 8, repr.plot.res = 300)\n",
    "\n",
    "netVisual_bubble(cellchat, sources.use = c(1, 9), targets.use = c(3, 9),  comparison = c(1, 2), max.dataset = 2, title.name = \"Increased signaling in ALDO \", angle.x = 90, remove.isolate = TRUE, color.heatmap = \"viridis\", color.text = palette.bubble)|\n",
    "netVisual_bubble(cellchat, sources.use = c(1, 9), targets.use = c(3, 9),  comparison = c(2, 1), max.dataset = 2, title.name = \"Increased signaling in ALDO \", angle.x = 90, remove.isolate = TRUE, color.heatmap = \"viridis\", color.text = palette.bubble)"
   ]
  },
  {
   "cell_type": "code",
   "execution_count": 2,
   "id": "231fa6cd-7170-4be7-9b79-2b776d2effdf",
   "metadata": {},
   "outputs": [
    {
     "data": {
      "text/plain": [
       "R version 4.2.2 (2022-10-31)\n",
       "Platform: x86_64-conda-linux-gnu (64-bit)\n",
       "Running under: Ubuntu 24.04.1 LTS\n",
       "\n",
       "Matrix products: default\n",
       "BLAS/LAPACK: /media/daten/dmeral/micromamba/envs/user_R/lib/libopenblasp-r0.3.26.so\n",
       "\n",
       "locale:\n",
       " [1] LC_CTYPE=C.UTF-8       LC_NUMERIC=C           LC_TIME=C.UTF-8       \n",
       " [4] LC_COLLATE=C.UTF-8     LC_MONETARY=C.UTF-8    LC_MESSAGES=C.UTF-8   \n",
       " [7] LC_PAPER=C.UTF-8       LC_NAME=C              LC_ADDRESS=C          \n",
       "[10] LC_TELEPHONE=C         LC_MEASUREMENT=C.UTF-8 LC_IDENTIFICATION=C   \n",
       "\n",
       "attached base packages:\n",
       "[1] grid      stats4    stats     graphics  grDevices utils     datasets \n",
       "[8] methods   base     \n",
       "\n",
       "other attached packages:\n",
       " [1] RColorBrewer_1.1-3          pals_1.8                   \n",
       " [3] gridExtra_2.3               cowplot_1.1.3              \n",
       " [5] reticulate_1.35.0           patchwork_1.3.0            \n",
       " [7] CellChat_1.6.1              igraph_2.1.4               \n",
       " [9] circlize_0.4.16             ComplexHeatmap_2.14.0      \n",
       "[11] viridis_0.6.5               viridisLite_0.4.2          \n",
       "[13] svglite_2.1.3               Rsamtools_2.14.0           \n",
       "[15] Biostrings_2.66.0           XVector_0.38.0             \n",
       "[17] DESeq2_1.38.3               SummarizedExperiment_1.28.0\n",
       "[19] Biobase_2.58.0              MatrixGenerics_1.10.0      \n",
       "[21] matrixStats_1.5.0           GenomicRanges_1.50.2       \n",
       "[23] GenomeInfoDb_1.34.9         IRanges_2.32.0             \n",
       "[25] S4Vectors_0.36.2            BiocGenerics_0.44.0        \n",
       "[27] SeuratDisk_0.0.0.9021       harmony_1.2.0              \n",
       "[29] Rcpp_1.0.14                 lubridate_1.9.3            \n",
       "[31] forcats_1.0.0               stringr_1.5.1              \n",
       "[33] dplyr_1.1.4                 purrr_1.0.4                \n",
       "[35] readr_2.1.5                 tidyr_1.3.1                \n",
       "[37] tibble_3.2.1                tidyverse_2.0.0            \n",
       "[39] ggplot2_3.5.2               SeuratObject_5.0.1         \n",
       "[41] Seurat_4.4.0               \n",
       "\n",
       "loaded via a namespace (and not attached):\n",
       "  [1] spatstat.explore_3.3-2 tidyselect_1.2.1       RSQLite_2.3.4         \n",
       "  [4] AnnotationDbi_1.60.2   htmlwidgets_1.6.4      BiocParallel_1.32.5   \n",
       "  [7] Rtsne_0.17             codetools_0.2-19       ica_1.0-3             \n",
       " [10] pbdZMQ_0.3-11          future_1.34.0          miniUI_0.1.1.1        \n",
       " [13] withr_3.0.2            spatstat.random_3.3-2  colorspace_2.1-1      \n",
       " [16] progressr_0.14.0       ggalluvial_0.12.5      uuid_1.2-0            \n",
       " [19] ROCR_1.0-11            ggsignif_0.6.4         tensor_1.5            \n",
       " [22] NMF_0.27               listenv_0.9.1          repr_1.1.6            \n",
       " [25] GenomeInfoDbData_1.2.9 polyclip_1.10-6        bit64_4.6.0-1         \n",
       " [28] farver_2.1.2           coda_0.19-4.1          parallelly_1.42.0     \n",
       " [31] vctrs_0.6.5            generics_0.1.3         timechange_0.3.0      \n",
       " [34] R6_2.6.1               doParallel_1.0.17      clue_0.3-65           \n",
       " [37] locfit_1.5-9.9         spatstat.univar_3.0-1  hdf5r_1.3.8           \n",
       " [40] bitops_1.0-9           spatstat.utils_3.1-0   cachem_1.1.0          \n",
       " [43] DelayedArray_0.24.0    promises_1.2.1         scales_1.4.0          \n",
       " [46] gtable_0.3.6           globals_0.16.3         goftest_1.2-3         \n",
       " [49] spam_2.10-0            rlang_1.1.6            systemfonts_1.0.5     \n",
       " [52] GlobalOptions_0.1.2    splines_4.2.2          rstatix_0.7.2         \n",
       " [55] lazyeval_0.2.2         dichromat_2.0-0.1      broom_1.0.5           \n",
       " [58] spatstat.geom_3.3-3    reshape2_1.4.4         abind_1.4-8           \n",
       " [61] backports_1.4.1        ggnetwork_0.5.13       httpuv_1.6.14         \n",
       " [64] tools_4.2.2            gridBase_0.4-7         statnet.common_4.9.0  \n",
       " [67] ggridges_0.5.6         plyr_1.8.9             base64enc_0.1-3       \n",
       " [70] zlibbioc_1.44.0        RCurl_1.98-1.16        ggpubr_0.6.0          \n",
       " [73] deldir_2.0-4           pbapply_1.7-2          GetoptLong_1.0.5      \n",
       " [76] zoo_1.8-12             ggrepel_0.9.5          cluster_2.1.6         \n",
       " [79] magrittr_2.0.3         sna_2.7-2              RSpectra_0.16-1       \n",
       " [82] data.table_1.17.2      scattermore_1.2        lmtest_0.9-40         \n",
       " [85] RANN_2.6.2             fitdistrplus_1.2-1     hms_1.1.3             \n",
       " [88] mime_0.12              evaluate_1.0.3         xtable_1.8-4          \n",
       " [91] XML_3.99-0.14          shape_1.4.6.1          compiler_4.2.2        \n",
       " [94] maps_3.4.2             KernSmooth_2.23-22     crayon_1.5.3          \n",
       " [97] htmltools_0.5.8.1      later_1.3.2            tzdb_0.5.0            \n",
       "[100] geneplotter_1.76.0     DBI_1.2.3              MASS_7.3-60.0.1       \n",
       "[103] car_3.1-2              Matrix_1.6-5           cli_3.6.5             \n",
       "[106] parallel_4.2.2         dotCall64_1.2          pkgconfig_2.0.3       \n",
       "[109] registry_0.5-1         sp_2.2-0               IRdisplay_1.1         \n",
       "[112] plotly_4.10.4          spatstat.sparse_3.1-0  foreach_1.5.2         \n",
       "[115] annotate_1.76.0        rngtools_1.5.2         digest_0.6.37         \n",
       "[118] sctransform_0.4.1      RcppAnnoy_0.0.22       spatstat.data_3.1-2   \n",
       "[121] leiden_0.4.3.1         uwot_0.1.16            shiny_1.9.1           \n",
       "[124] rjson_0.2.21           lifecycle_1.0.4        nlme_3.1-164          \n",
       "[127] jsonlite_2.0.0         network_1.18.2         carData_3.0-5         \n",
       "[130] BiocNeighbors_1.16.0   mapproj_1.2.11         pillar_1.10.2         \n",
       "[133] lattice_0.22-6         KEGGREST_1.38.0        fastmap_1.2.0         \n",
       "[136] httr_1.4.7             survival_3.5-8         glue_1.8.0            \n",
       "[139] FNN_1.1.4.1            png_0.1-8              iterators_1.0.14      \n",
       "[142] bit_4.6.0              stringi_1.8.4          blob_1.2.4            \n",
       "[145] memoise_2.0.1          IRkernel_1.3.2         irlba_2.3.5.1         \n",
       "[148] future.apply_1.11.2   "
      ]
     },
     "metadata": {},
     "output_type": "display_data"
    }
   ],
   "source": [
    "sessionInfo()"
   ]
  }
 ],
 "metadata": {
  "kernelspec": {
   "display_name": "user_R",
   "language": "R",
   "name": "user_r"
  },
  "language_info": {
   "codemirror_mode": "r",
   "file_extension": ".r",
   "mimetype": "text/x-r-source",
   "name": "R",
   "pygments_lexer": "r",
   "version": "4.2.2"
  }
 },
 "nbformat": 4,
 "nbformat_minor": 5
}
