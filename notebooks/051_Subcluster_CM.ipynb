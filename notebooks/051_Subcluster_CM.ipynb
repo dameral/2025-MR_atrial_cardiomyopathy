{
 "cells": [
  {
   "cell_type": "markdown",
   "id": "6de49d5e-d725-45f6-92e1-6831e18d8891",
   "metadata": {},
   "source": [
    "# Load libraries and Themes"
   ]
  },
  {
   "cell_type": "code",
   "execution_count": 1,
   "id": "35d7dba7-aec1-4e24-9702-d0eb6d41a8e3",
   "metadata": {
    "tags": []
   },
   "outputs": [],
   "source": [
    "suppressPackageStartupMessages({\n",
    "    suppressWarnings({library(Seurat)\n",
    "        library(SeuratObject)\n",
    "        library(SeuratDisk)\n",
    "        library(ggplot2)\n",
    "        library(tidyverse)\n",
    "        library(harmony)\n",
    "        library(DESeq2)\n",
    "        library(EnhancedVolcano)\n",
    "        library(Rsamtools)\n",
    "        library(svglite)\n",
    "        library(viridis)\n",
    "        library(gridExtra)\n",
    "        library(scCustomize)\n",
    "        library(ggpubr)\n",
    "        library(pals)\n",
    "        library(patchwork)\n",
    "    })})"
   ]
  },
  {
   "cell_type": "code",
   "execution_count": null,
   "id": "39ea3e8b-4e9f-4694-a0dc-58f4c95dd9af",
   "metadata": {},
   "outputs": [],
   "source": [
    "#Color Palettes\n",
    "\n",
    "palette.doublets <- c(\n",
    "    \"#197278\",#turqu\n",
    "    \"#C1C1C1\"#grey\n",
    ")\n",
    "\n",
    "palette.2 <- c(\n",
    "    \"#990902\",\n",
    "    \"#0303a3\"\n",
    ")\n",
    "\n",
    "palette.4 <- DiscretePalette(4, palette = \"stepped\", shuffle = TRUE)\n",
    "\n",
    "palette.12 <- DiscretePalette(12, palette = \"stepped\", shuffle = TRUE)\n",
    "\n",
    "palette.15 <- DiscretePalette(12, palette = \"stepped\", shuffle = TRUE)\n",
    "\n",
    "palette <- c(\n",
    "    \"#990902\",#CM_0\n",
    "    \"#0303a3\",#EC-end\n",
    "    \"#ebe6c7\",#FB\n",
    "    \"#077a01\",#MΦ-M2\n",
    "    \"#05b1eb\",#EC-cap\n",
    "    \"#660202\",#PER\n",
    "    \"#4b048a\",#MESO\n",
    "    \"#7d0701\",#CM_1\n",
    "    \"#0FB602\",#TC\n",
    "    \"#0324fc\",#EC-lym\n",
    "    \"#FFD100\",#SC\n",
    "    \"#d90f04\",#CM_2\n",
    "    \"#aad902\"#BC\n",
    ")\n",
    "   \n",
    "palette.treatment <- c(\n",
    "    \"#AF0000\",#ALDO\n",
    "    \"#C1C1C1\"#CTRL\n",
    ")"
   ]
  },
  {
   "cell_type": "code",
   "execution_count": null,
   "id": "594f95d6-1f38-411c-aed5-ad8b70d5a04f",
   "metadata": {},
   "outputs": [],
   "source": [
    "umap_theme <- theme(\n",
    "  axis.line=element_blank(),\n",
    "  axis.text.x=element_blank(),\n",
    "  axis.text.y=element_blank(),\n",
    "  axis.ticks=element_blank(),\n",
    "  axis.title.x=element_blank(),\n",
    "  axis.title.y=element_blank(),\n",
    "  panel.background=element_blank(),\n",
    "  panel.border=element_blank(),\n",
    "  panel.grid.major=element_blank(),\n",
    "  panel.grid.minor=element_blank()\n",
    ")\n",
    "\n",
    "vln_theme_1 <- theme(\n",
    "  axis.text.x = element_blank(),\n",
    "  axis.text.y = element_blank(),\n",
    "  panel.background = element_blank(),\n",
    "  axis.title.x = element_blank(),\n",
    "  axis.title.y = element_blank(),\n",
    "  panel.border = element_blank(),\n",
    "  panel.grid.major = element_blank(),\n",
    "  panel.grid.minor = element_blank(),\n",
    "  text = element_text(size = 25)\n",
    ")\n",
    "\n",
    "vln_theme_2 <- theme(\n",
    "  panel.background = element_blank(),\n",
    "  panel.border = element_blank(),\n",
    "  panel.grid.major = element_blank(),\n",
    "  panel.grid.minor = element_blank(),\n",
    ")"
   ]
  },
  {
   "cell_type": "code",
   "execution_count": null,
   "id": "4c5dd502-239e-4284-a041-5e787e6f7d0f",
   "metadata": {
    "tags": []
   },
   "outputs": [],
   "source": [
    "setwd(\"/media/daten/dmeral/scseq_analysis/2024_LA_CTRL_ALDO\")"
   ]
  },
  {
   "cell_type": "code",
   "execution_count": null,
   "id": "796ce2ea-297a-45e0-ad95-5c4f94e00607",
   "metadata": {},
   "outputs": [],
   "source": [
    "set.seed(1234)"
   ]
  },
  {
   "cell_type": "markdown",
   "id": "c78ea220-91a5-47c1-866b-fd413116c47a",
   "metadata": {},
   "source": [
    "# Subcluster analysis"
   ]
  },
  {
   "cell_type": "code",
   "execution_count": null,
   "id": "aa729aa2-7b0c-4792-95bb-e2fd7a835fa7",
   "metadata": {
    "tags": []
   },
   "outputs": [],
   "source": [
    "obj_seu <- LoadH5Seurat(\"seurat_objects/obj_seu_merge_harmony_sgl_addmodule_downsample_rename.h5seurat\")"
   ]
  },
  {
   "cell_type": "code",
   "execution_count": null,
   "id": "8b835f46-b914-4a66-bec9-aaa980bbbb22",
   "metadata": {
    "scrolled": true,
    "tags": []
   },
   "outputs": [],
   "source": [
    "# Load after subcluster analysis is finished \n",
    "\n",
    "obj.subcluster_CM <- LoadH5Seurat(\"subcluster/Subcluster_CM_down.h5seurat\")"
   ]
  },
  {
   "cell_type": "markdown",
   "id": "eb3d08d1-2f4d-46f1-ae93-4ac3744edc32",
   "metadata": {},
   "source": [
    "## CM subcluster"
   ]
  },
  {
   "cell_type": "code",
   "execution_count": null,
   "id": "c824e386-84c4-449b-8f11-e9322cf8f366",
   "metadata": {
    "scrolled": true
   },
   "outputs": [],
   "source": [
    "obj_harmony_addmodule <- LoadH5Seurat(\"seurat_objects/obj_seu_merge_harmony_sgl_addmodule.h5seurat\")"
   ]
  },
  {
   "cell_type": "code",
   "execution_count": null,
   "id": "f637ef97-daa4-41e6-91fb-12ea83f80a76",
   "metadata": {},
   "outputs": [],
   "source": [
    "options(repr.plot.width = 8, repr.plot.height = 4, repr.plot.res = 300)\n",
    "\n",
    "DimPlot(obj_harmony_addmodule, group.by = \"seurat_clusters\", label = TRUE) |\n",
    "FeaturePlot(obj_harmony_addmodule, features = c(\"Zbtb16\"))"
   ]
  },
  {
   "cell_type": "code",
   "execution_count": null,
   "id": "99be40f8-a32f-4c7e-ae45-aaccc019cb52",
   "metadata": {},
   "outputs": [],
   "source": [
    "# Subset to CM clusters\n",
    "CM <- subset(x = obj_harmony_addmodule, subset = seurat_clusters %in% c(\"0\", \"10\", \"16\"))"
   ]
  },
  {
   "cell_type": "code",
   "execution_count": null,
   "id": "ba211367-33a3-435a-8053-e7b64940a39c",
   "metadata": {},
   "outputs": [],
   "source": [
    "# Get genes with non-zero counts\n",
    "\n",
    "counts <- GetAssayData(CM, layer = \"counts\")[,]\n",
    "nonzero <- as.data.frame(rowSums(counts) > 0)\n",
    "names(nonzero)[names(nonzero) == \"rowSums(counts) > 0\"] <- \"nonzerofeature\"\n",
    "nonzero <- filter(nonzero, nonzerofeature == TRUE)\n",
    "nonzero$names <- rownames(nonzero)\n",
    "nonzero$nonzerofeature <- NULL\n",
    "write.table(nonzero, \"nonzerocounts/nonzerocounts_CM.csv\", sep = \",\", quote = FALSE,  row.names = FALSE, col.names = FALSE)"
   ]
  },
  {
   "cell_type": "code",
   "execution_count": null,
   "id": "8ed3e9f8-a54b-463a-9b72-187ce26c3ed0",
   "metadata": {},
   "outputs": [],
   "source": [
    "tab <- table(CM@meta.data$sample_id)\n",
    "print(tab)"
   ]
  },
  {
   "cell_type": "code",
   "execution_count": null,
   "id": "0f76fe8c-1bb2-4c0a-9ee5-fbb107caa3db",
   "metadata": {},
   "outputs": [],
   "source": [
    "# Downsample to even cell numbers\n",
    "downsampled_list <- list()\n",
    "\n",
    "# Get unique sample IDs\n",
    "sample_ids <- unique(CM@meta.data$sample_id)\n",
    "\n",
    "# Loop through each sample ID\n",
    "for (sample_id in sample_ids) {\n",
    "  # Subset the object for the current sample_id\n",
    "  subset_obj <- subset(CM, subset = sample_id == !!sample_id)\n",
    "\n",
    "  # Downsample to a maximum of 7789 cells\n",
    "  if (ncol(subset_obj) > 2137) {\n",
    "    # Randomly select 7789 cells\n",
    "    cell_indices <- sample(colnames(subset_obj), 2137)\n",
    "    subset_obj <- subset(subset_obj, cells = cell_indices)\n",
    "  }\n",
    "  \n",
    "  # Store the downsampled object in the list\n",
    "  downsampled_list[[sample_id]] <- subset_obj\n",
    "}\n",
    "\n",
    "# Combine all downsampled objects back into one Seurat object\n",
    "CM_down <- merge(downsampled_list[[1]], y = downsampled_list[-1])\n",
    "\n",
    "# Check the counts of cells per sample_id\n",
    "tab <- table(CM_down@meta.data$sample_id)\n",
    "print(tab) "
   ]
  },
  {
   "cell_type": "code",
   "execution_count": null,
   "id": "0870945d-0bd3-41b9-8a73-de70fb30af1e",
   "metadata": {},
   "outputs": [],
   "source": [
    "obj <- FindVariableFeatures(object = CM_down, selection.method = \"vst\")\n",
    "obj <- ScaleData(object = obj, verbose = FALSE)\n",
    "obj <- NormalizeData(object = obj, verbose = FALSE)\n",
    "obj <- RunPCA(object = obj, verbose = FALSE)"
   ]
  },
  {
   "cell_type": "code",
   "execution_count": null,
   "id": "2baa158b-df65-474d-bc0f-2db00ea5997b",
   "metadata": {
    "scrolled": true
   },
   "outputs": [],
   "source": [
    "obj.subcluster_CM <- obj %>% \n",
    "  RunHarmony(group.by.vars = c(\"sex\"), max_iter = 7, early_stop = FALSE, plot_convergence = TRUE, assay.use = \"RNA\", verbose = FALSE)\n",
    "\n",
    "obj.subcluster_CM <- obj.subcluster_CM %>%\n",
    "  RunUMAP(reduction = \"harmony\", dims = 1:35, verbose = FALSE, min.dist = 0.1, spread = 1) %>%\n",
    "  FindNeighbors(reduction = \"harmony\", dims = 1:35, verbose = FALSE) %>%\n",
    "  FindClusters(resolution = 0.35)"
   ]
  },
  {
   "cell_type": "code",
   "execution_count": null,
   "id": "5600ce8c-9559-4bdc-a257-2d582e9aa080",
   "metadata": {},
   "outputs": [],
   "source": [
    "options(repr.plot.width = 8, repr.plot.height = 4, repr.plot.res = 300)\n",
    "\n",
    "DimPlot(obj.subcluster_CM, group.by = \"seurat_clusters\") |\n",
    "DimPlot(obj.subcluster_CM, group.by = \"treatment\")"
   ]
  },
  {
   "cell_type": "code",
   "execution_count": null,
   "id": "b5b1eedf-302a-4bc1-bdf0-9715febf4404",
   "metadata": {
    "scrolled": true
   },
   "outputs": [],
   "source": [
    "# Percentage of ALDO CMn in CM_0 and CM_1\n",
    "\n",
    "obj.subcluster_CM@meta.data"
   ]
  },
  {
   "cell_type": "code",
   "execution_count": null,
   "id": "a9f9a1ca-e0bc-4cca-a5f7-953fd33b6e94",
   "metadata": {},
   "outputs": [],
   "source": [
    "# Subset CM_0 and calculate percentage of ALDO CMn in CM_0\n",
    "subset_CM_0 <- subset(obj.subcluster_CM, cell_type_sub == \"CM_0\")\n",
    "aldo_CM_0 <- subset(subset_CM_0, treatment == \"ALDO\")\n",
    "percent_aldo_CM_0 <- (ncol(aldo_CM_0) / ncol(subset_CM_0)) * 100\n",
    "\n",
    "# Subset CM_1 and calculate percentage of ALDO CMn in CM_1\n",
    "subset_CM_1 <- subset(obj.subcluster_CM, cell_type_sub == \"CM_1\")\n",
    "aldo_CM_1 <- subset(subset_CM_1, treatment == \"ALDO\")\n",
    "percent_aldo_CM_1 <- (ncol(aldo_CM_1) / ncol(subset_CM_1)) * 100\n",
    "\n",
    "# Print the results\n",
    "cat(\"Percentage of ALDO CMn in CM_0:\", round(percent_aldo_CM_0, 2), \"%\\n\")\n",
    "cat(\"Percentage of ALDO CMn in CM_1:\", round(percent_aldo_CM_1, 2), \"%\\n\")"
   ]
  },
  {
   "cell_type": "code",
   "execution_count": null,
   "id": "54eb8a70-9696-47a3-9034-c7554b36d0c9",
   "metadata": {
    "scrolled": true
   },
   "outputs": [],
   "source": [
    "all.markers <- FindAllMarkers(obj.subcluster_CM, only.pos = TRUE, min.pct = 0.50, logfc.threshold = 0.25, test.use = \"wilcox\")\n",
    "all.markers %>%\n",
    "  group_by(\"seurat_clusters\") %>%\n",
    "  slice_max(n = 10, order_by = avg_log2FC)\n",
    "\n",
    "write.csv(all.markers, file = \"subcluster/DEGs/all.markers_CM.csv\")"
   ]
  },
  {
   "cell_type": "code",
   "execution_count": null,
   "id": "66ac1bae-8ac7-41f1-8f6c-97c237458909",
   "metadata": {},
   "outputs": [],
   "source": [
    "obj.subcluster_CM$cell_type <- Idents(obj.subcluster_CM)"
   ]
  },
  {
   "cell_type": "code",
   "execution_count": null,
   "id": "fd01c4a6-556e-4c3b-8f68-5274bf6b6485",
   "metadata": {
    "scrolled": true,
    "tags": []
   },
   "outputs": [],
   "source": [
    "cluster_annotations_CM <- c(\"CM_0\", \"CM_1\", \"CM_2\", \"CM_3\")\n",
    "names(cluster_annotations_CM) <- levels(obj.subcluster_CM)\n",
    "obj.subcluster_CM <- RenameIdents(obj.subcluster_CM, cluster_annotations_CM)\n",
    "obj.subcluster_CM$cell_type_sub <- Idents(obj.subcluster_CM)\n",
    "\n",
    "SaveH5Seurat(obj.subcluster_CM, \"subcluster/Subcluster_CM_down\")"
   ]
  },
  {
   "cell_type": "code",
   "execution_count": null,
   "id": "ed8d8e63-5634-4672-9d97-f491e7ce7b97",
   "metadata": {},
   "outputs": [],
   "source": [
    "# without subsampling\n",
    "\n",
    "obj <- FindVariableFeatures(object = CM, selection.method = \"vst\")\n",
    "obj <- ScaleData(object = obj, verbose = FALSE)\n",
    "obj <- NormalizeData(object = obj, verbose = FALSE)\n",
    "obj <- RunPCA(object = obj, verbose = FALSE)"
   ]
  },
  {
   "cell_type": "code",
   "execution_count": null,
   "id": "88c11acb-3f71-4ad3-85dc-c2abc4039fe7",
   "metadata": {},
   "outputs": [],
   "source": [
    "obj.subcluster_CM_full <- obj %>% \n",
    "  RunHarmony(group.by.vars = c(\"sex\"), max_iter = 7, early_stop = FALSE, plot_convergence = TRUE, assay.use = \"RNA\", verbose = FALSE)\n",
    "\n",
    "obj.subcluster_CM_full <- obj.subcluster_CM_full %>%\n",
    "  RunUMAP(reduction = \"harmony\", dims = 1:35, verbose = FALSE, min.dist = 0.1, spread = 1) %>%\n",
    "  FindNeighbors(reduction = \"harmony\", dims = 1:35, verbose = FALSE) %>%\n",
    "  FindClusters(resolution = 0.2)\n",
    "\n",
    "options(repr.plot.width = 8, repr.plot.height = 4, repr.plot.res = 300)\n",
    "\n",
    "DimPlot(obj.subcluster_CM_full, group.by = \"seurat_clusters\") |\n",
    "DimPlot(obj.subcluster_CM_full, group.by = \"treatment\")"
   ]
  },
  {
   "cell_type": "code",
   "execution_count": null,
   "id": "88c6217f-e280-4e76-ac98-7b62652e201e",
   "metadata": {},
   "outputs": [],
   "source": [
    "tab <- table(obj.subcluster_CM_full@meta.data$sample_id)\n",
    "print(tab)"
   ]
  },
  {
   "cell_type": "code",
   "execution_count": null,
   "id": "9a2e9f99-c77d-4a2d-b8b2-c99c6c9ffdf9",
   "metadata": {},
   "outputs": [],
   "source": [
    "cluster_annotations_CM <- c(\"CM_0\", \"CM_1\", \"CM_2\", \"CM_3\")\n",
    "names(cluster_annotations_CM) <- levels(obj.subcluster_CM_full)\n",
    "obj.subcluster_CM_full <- RenameIdents(obj.subcluster_CM_full, cluster_annotations_CM)\n",
    "obj.subcluster_CM_full$cell_type_sub <- Idents(obj.subcluster_CM_full)\n",
    "\n",
    "SaveH5Seurat(obj.subcluster_CM_full, \"subcluster/Subcluster_CM_full\")"
   ]
  },
  {
   "cell_type": "code",
   "execution_count": null,
   "id": "70ea3626-3516-48dc-b389-5f24d26aa44f",
   "metadata": {},
   "outputs": [],
   "source": [
    "DimPlot(obj.subcluster_CM_full, group.by = \"cell_type_sub\") "
   ]
  },
  {
   "cell_type": "code",
   "execution_count": null,
   "id": "24d5c811-1369-4f5e-ae8d-7cefe8532109",
   "metadata": {
    "tags": []
   },
   "outputs": [],
   "source": [
    "# Visualize downsampled obj.subcluster_CM\n",
    "\n",
    "options(repr.plot.width = 5, repr.plot.height = 2, repr.plot.res = 300) \n",
    "\n",
    "sex <- DimPlot(obj.subcluster_CM, pt.size = 0.5, group.by = \"sex\", shuffle = TRUE, cols = palette.2) + umap_theme & NoLegend()\n",
    "sample_id <- DimPlot(obj.subcluster_CM, pt.size = 0.5, group.by = \"sample_id\", shuffle = TRUE, cols = palette.4) + umap_theme & NoLegend()\n",
    "treatment <- DimPlot(obj.subcluster_CM, pt.size = 0.5, group.by = \"treatment\", shuffle = TRUE, cols = palette.treatment) + umap_theme & NoLegend()\n",
    "cell_type <- DimPlot(obj.subcluster_CM, group.by = \"cell_type\", pt.size = 0.5, label = TRUE, shuffle = TRUE, cols = palette.4, label.size = 10) + umap_theme & NoLegend()\n",
    "\n",
    "ggsave(\"subcluster/Plots/CM_sex.svg\", plot = sex, units = \"cm\", dpi = 300, width = 30, height = 20)\n",
    "ggsave(\"subcluster/Plots/CM_sample_id.svg\", plot = sample_id, units = \"cm\", dpi = 300, width = 30, height = 20)\n",
    "ggsave(\"subcluster/Plots/CM_treatment.svg\", plot = treatment, units = \"cm\", dpi = 300, width = 30, height = 20)\n",
    "ggsave(\"subcluster/Plots/CM_cell_type.svg\", plot = cell_type, units = \"cm\", dpi = 300, width = 30, height = 20)\n",
    "\n",
    "cell_type|treatment\n",
    "sample_id|sex\n",
    "\n",
    "wrap_CM <- wrap_plots(cell_type, treatment, ncol = 2)\n",
    "ggsave(\"subcluster/Plots/wrap_CM.svg\", plot = wrap_CM, units = \"cm\", dpi = 300, width = 30, height = 15)"
   ]
  },
  {
   "cell_type": "markdown",
   "id": "206cf470-73a9-4df2-b2d8-a6d1c89ee42f",
   "metadata": {},
   "source": [
    "## DEG for downsampled"
   ]
  },
  {
   "cell_type": "code",
   "execution_count": null,
   "id": "5c79b24e-e81b-4a9d-8149-fa2c9c7a42c4",
   "metadata": {},
   "outputs": [],
   "source": [
    "markers_CM_1vs0 <- FindMarkers(obj.subcluster_CM, ident.1 = \"CM_1\", ident.2 = \"CM_0\", assay = \"RNA\", test.use = \"wilcox\", logfc.threshold = 0.25)\n",
    "\n",
    "write.csv(markers_CM_1vs0, file = \"subcluster/DEGs/markers_CM_1vs0.csv\")"
   ]
  },
  {
   "cell_type": "code",
   "execution_count": null,
   "id": "5fd18db2-3430-4a2d-a7ac-0bad419b0f74",
   "metadata": {},
   "outputs": [],
   "source": [
    "# Subset the `sub_CM` object to include only cells with detectable Nr3c2 expression\n",
    "obj.subcluster_CM_Nr3c2 <- subset(x = obj.subcluster_CM, subset = Nr3c2 > 2)"
   ]
  },
  {
   "cell_type": "code",
   "execution_count": null,
   "id": "fb2a3372-d461-48ce-9c9e-1d8cf15fe395",
   "metadata": {},
   "outputs": [],
   "source": [
    "markers_CM_1vs0_onlyNr3c2pos <- FindMarkers(obj.subcluster_CM_Nr3c2, ident.1 = \"CM_1\", ident.2 = \"CM_0\", assay = \"RNA\", test.use = \"wilcox\", logfc.threshold = 0.25)\n",
    "\n",
    "write.csv(markers_CM_1vs0_onlyNr3c2pos, file = \"subcluster/DEGs/markers_CM_1vs0_onlyNr3c2pos.csv\")"
   ]
  },
  {
   "cell_type": "code",
   "execution_count": null,
   "id": "5b4c1ebe-a0a4-4cb7-b58d-63dca21e3cc0",
   "metadata": {},
   "outputs": [],
   "source": [
    "ls()"
   ]
  },
  {
   "cell_type": "markdown",
   "id": "3bc79f3c-3fd9-4b21-af1f-a2e6af203e2a",
   "metadata": {},
   "source": [
    "## Hcn4 positive cells"
   ]
  },
  {
   "cell_type": "code",
   "execution_count": null,
   "id": "c25c5141-f1d5-4b40-ba87-6ab4c0dff1fa",
   "metadata": {},
   "outputs": [],
   "source": [
    "# Define Hcn4-positive cells\n",
    "hcn4_positive <- obj.subcluster_CM@assays$RNA@data[\"Hcn4\", ] > 0"
   ]
  },
  {
   "cell_type": "code",
   "execution_count": null,
   "id": "cd24901c-9fe9-4438-a210-a9ab47c84b9e",
   "metadata": {},
   "outputs": [],
   "source": [
    "# Get cluster assignments\n",
    "cluster_info <- obj.subcluster_CM$cell_type_sub \n",
    "\n",
    "# Count total and Hcn4-positive cells per cluster\n",
    "table_total <- table(cluster_info)\n",
    "table_hcn4 <- table(cluster_info[hcn4_positive])\n",
    "\n",
    "# Extract counts for CM_0 and CM_1\n",
    "cm0_total <- table_total[\"CM_0\"]\n",
    "cm1_total <- table_total[\"CM_1\"]\n",
    "cm0_hcn4 <- table_hcn4[\"CM_0\"]\n",
    "cm1_hcn4 <- table_hcn4[\"CM_1\"]"
   ]
  },
  {
   "cell_type": "code",
   "execution_count": null,
   "id": "20c7de70-66f7-4e45-b3df-5bdfeaad12a3",
   "metadata": {},
   "outputs": [],
   "source": [
    "# Fraction of Hcn4-positive cells in each cluster\n",
    "frac_cm0_hcn4 <- cm0_hcn4 / cm0_total\n",
    "frac_cm1_hcn4 <- cm1_hcn4 / cm1_total\n",
    "\n",
    "# Ratio of Hcn4-positive cells in CM_0 vs. CM_1\n",
    "hcn4_ratio_cm0_cm1 <- frac_cm0_hcn4 / frac_cm1_hcn4\n",
    "\n",
    "# Absolute ratio of Hcn4-positive cells in CM_0 vs. CM_1\n",
    "hcn4_ratio_cm0_cm1_abs <- cm0_hcn4/cm1_hcn4\n",
    "# Print results\n",
    "cat(\"Fraction of Hcn4+ cells in CM_0:\", frac_cm0_hcn4, \"\\n\")\n",
    "cat(\"Fraction of Hcn4+ cells in CM_1:\", frac_cm1_hcn4, \"\\n\")\n",
    "cat(\"Hcn4+ ratio CM_0 vs CM_1:\", hcn4_ratio_cm0_cm1, \"\\n\")\n",
    "cat(\"Total Hcn4+ CM_0:\", cm0_hcn4, \"\\n\")\n",
    "cat(\"Total Hcn4+ CM_1:\", cm1_hcn4, \"\\n\")\n",
    "cat(\"Absolute Hcn4+ ratio CM_0 vs CM_1:\", hcn4_ratio_cm0_cm1_abs, \"\\n\")"
   ]
  },
  {
   "cell_type": "code",
   "execution_count": 2,
   "id": "5d4bfe86-33cc-4c24-b83a-ee40bfd8a99c",
   "metadata": {},
   "outputs": [
    {
     "data": {
      "text/plain": [
       "R version 4.3.3 (2024-02-29)\n",
       "Platform: x86_64-conda-linux-gnu (64-bit)\n",
       "Running under: Ubuntu 24.04.1 LTS\n",
       "\n",
       "Matrix products: default\n",
       "BLAS/LAPACK: /media/daten/dmeral/micromamba/envs/scrna_dm/lib/libopenblasp-r0.3.27.so;  LAPACK version 3.12.0\n",
       "\n",
       "locale:\n",
       " [1] LC_CTYPE=C.UTF-8       LC_NUMERIC=C           LC_TIME=C.UTF-8       \n",
       " [4] LC_COLLATE=C.UTF-8     LC_MONETARY=C.UTF-8    LC_MESSAGES=C.UTF-8   \n",
       " [7] LC_PAPER=C.UTF-8       LC_NAME=C              LC_ADDRESS=C          \n",
       "[10] LC_TELEPHONE=C         LC_MEASUREMENT=C.UTF-8 LC_IDENTIFICATION=C   \n",
       "\n",
       "time zone: Etc/UTC\n",
       "tzcode source: system (glibc)\n",
       "\n",
       "attached base packages:\n",
       "[1] stats4    stats     graphics  grDevices utils     datasets  methods  \n",
       "[8] base     \n",
       "\n",
       "other attached packages:\n",
       " [1] patchwork_1.3.0             pals_1.9                   \n",
       " [3] ggpubr_0.6.0                scCustomize_3.0.0          \n",
       " [5] gridExtra_2.3               viridis_0.6.5              \n",
       " [7] viridisLite_0.4.2           svglite_2.1.3              \n",
       " [9] Rsamtools_2.18.0            Biostrings_2.70.3          \n",
       "[11] XVector_0.42.0              EnhancedVolcano_1.20.0     \n",
       "[13] ggrepel_0.9.6               DESeq2_1.42.1              \n",
       "[15] SummarizedExperiment_1.32.0 Biobase_2.62.0             \n",
       "[17] MatrixGenerics_1.14.0       matrixStats_1.4.1          \n",
       "[19] GenomicRanges_1.54.1        GenomeInfoDb_1.38.8        \n",
       "[21] IRanges_2.36.0              S4Vectors_0.40.2           \n",
       "[23] BiocGenerics_0.48.1         harmony_1.2.3              \n",
       "[25] Rcpp_1.0.13-1               lubridate_1.9.4            \n",
       "[27] forcats_1.0.0               stringr_1.5.1              \n",
       "[29] dplyr_1.1.4                 purrr_1.0.2                \n",
       "[31] readr_2.1.5                 tidyr_1.3.1                \n",
       "[33] tibble_3.2.1                tidyverse_2.0.0            \n",
       "[35] ggplot2_3.5.1               SeuratDisk_0.0.0.9021      \n",
       "[37] Seurat_5.1.0                SeuratObject_5.0.2         \n",
       "[39] sp_2.1-4                   \n",
       "\n",
       "loaded via a namespace (and not attached):\n",
       "  [1] RcppAnnoy_0.0.22        splines_4.3.3           later_1.4.1            \n",
       "  [4] pbdZMQ_0.3-13           bitops_1.0-9            polyclip_1.10-7        \n",
       "  [7] janitor_2.2.0           fastDummies_1.7.4       lifecycle_1.0.4        \n",
       " [10] rstatix_0.7.2           globals_0.16.3          lattice_0.22-6         \n",
       " [13] hdf5r_1.3.11            MASS_7.3-60.0.1         backports_1.5.0        \n",
       " [16] magrittr_2.0.3          plotly_4.10.4           httpuv_1.6.15          \n",
       " [19] sctransform_0.4.1.9001  spam_2.11-0             spatstat.sparse_3.1-0  \n",
       " [22] reticulate_1.40.0       mapproj_1.2.11          cowplot_1.1.3          \n",
       " [25] pbapply_1.7-2           RColorBrewer_1.1-3      maps_3.4.2.1           \n",
       " [28] abind_1.4-8             zlibbioc_1.48.2         Rtsne_0.17             \n",
       " [31] RCurl_1.98-1.16         circlize_0.4.16         GenomeInfoDbData_1.2.11\n",
       " [34] irlba_2.3.5.1           listenv_0.9.1           spatstat.utils_3.1-1   \n",
       " [37] goftest_1.2-3           RSpectra_0.16-2         spatstat.random_3.3-2  \n",
       " [40] fitdistrplus_1.2-1      parallelly_1.40.1       leiden_0.4.3.1         \n",
       " [43] codetools_0.2-20        DelayedArray_0.28.0     shape_1.4.6.1          \n",
       " [46] tidyselect_1.2.1        farver_2.1.2            base64enc_0.1-3        \n",
       " [49] spatstat.explore_3.3-3  jsonlite_1.8.9          Formula_1.2-5          \n",
       " [52] progressr_0.15.1        ggridges_0.5.6          survival_3.7-0         \n",
       " [55] systemfonts_1.1.0       tools_4.3.3             ica_1.0-3              \n",
       " [58] glue_1.8.0              SparseArray_1.2.4       IRdisplay_1.1          \n",
       " [61] withr_3.0.2             fastmap_1.2.0           fansi_1.0.6            \n",
       " [64] digest_0.6.37           timechange_0.3.0        R6_2.5.1               \n",
       " [67] mime_0.12               ggprism_1.0.5           colorspace_2.1-1       \n",
       " [70] scattermore_1.2         tensor_1.5              dichromat_2.0-0.1      \n",
       " [73] spatstat.data_3.1-4     utf8_1.2.4              generics_0.1.3         \n",
       " [76] data.table_1.16.4       httr_1.4.7              htmlwidgets_1.6.4      \n",
       " [79] S4Arrays_1.2.1          uwot_0.2.2              pkgconfig_2.0.3        \n",
       " [82] gtable_0.3.6            lmtest_0.9-40           htmltools_0.5.8.1      \n",
       " [85] carData_3.0-5           dotCall64_1.2           scales_1.3.0           \n",
       " [88] png_0.1-8               snakecase_0.11.1        spatstat.univar_3.1-1  \n",
       " [91] tzdb_0.4.0              reshape2_1.4.4          uuid_1.2-1             \n",
       " [94] nlme_3.1-166            GlobalOptions_0.1.2     repr_1.1.7             \n",
       " [97] zoo_1.8-12              KernSmooth_2.23-24      vipor_0.4.7            \n",
       "[100] parallel_4.3.3          miniUI_0.1.1.1          ggrastr_1.0.2          \n",
       "[103] pillar_1.9.0            grid_4.3.3              vctrs_0.6.5            \n",
       "[106] RANN_2.6.2              promises_1.3.2          car_3.1-3              \n",
       "[109] xtable_1.8-4            cluster_2.1.7           paletteer_1.6.0        \n",
       "[112] beeswarm_0.4.0          evaluate_1.0.1          cli_3.6.3              \n",
       "[115] locfit_1.5-9.10         compiler_4.3.3          rlang_1.1.4            \n",
       "[118] crayon_1.5.3            ggsignif_0.6.4          future.apply_1.11.3    \n",
       "[121] rematch2_2.1.2          ggbeeswarm_0.7.2        plyr_1.8.9             \n",
       "[124] stringi_1.8.4           deldir_2.0-4            BiocParallel_1.36.0    \n",
       "[127] munsell_0.5.1           lazyeval_0.2.2          spatstat.geom_3.3-4    \n",
       "[130] Matrix_1.6-5            IRkernel_1.3.2          RcppHNSW_0.6.0         \n",
       "[133] hms_1.1.3               bit64_4.5.2             future_1.34.0          \n",
       "[136] shiny_1.9.1             ROCR_1.0-11             broom_1.0.7            \n",
       "[139] igraph_2.1.2            bit_4.5.0.1            "
      ]
     },
     "metadata": {},
     "output_type": "display_data"
    }
   ],
   "source": [
    "sessionInfo()"
   ]
  }
 ],
 "metadata": {
  "kernelspec": {
   "display_name": "scrna_dm",
   "language": "R",
   "name": "scrna_dm"
  },
  "language_info": {
   "codemirror_mode": "r",
   "file_extension": ".r",
   "mimetype": "text/x-r-source",
   "name": "R",
   "pygments_lexer": "r",
   "version": "4.3.3"
  }
 },
 "nbformat": 4,
 "nbformat_minor": 5
}
