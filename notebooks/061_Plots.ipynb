{
 "cells": [
  {
   "cell_type": "markdown",
   "id": "6de49d5e-d725-45f6-92e1-6831e18d8891",
   "metadata": {},
   "source": [
    "# Load libraries and Themes"
   ]
  },
  {
   "cell_type": "markdown",
   "id": "994378c4-f5d5-472c-9c6c-9cf745aebc9b",
   "metadata": {},
   "source": [
    "Run in user_R"
   ]
  },
  {
   "cell_type": "code",
   "execution_count": 3,
   "id": "35d7dba7-aec1-4e24-9702-d0eb6d41a8e3",
   "metadata": {
    "tags": []
   },
   "outputs": [],
   "source": [
    "suppressPackageStartupMessages({\n",
    "    suppressWarnings({library(Seurat)\n",
    "        library(SeuratObject)\n",
    "        library(SeuratDisk)\n",
    "        library(ggplot2)\n",
    "        library(tidyverse)\n",
    "        library(harmony)\n",
    "        library(DESeq2)\n",
    "        library(EnhancedVolcano)\n",
    "        library(Rsamtools)\n",
    "        library(svglite)\n",
    "        library(viridis)\n",
    "        library(gridExtra)\n",
    "        library(scCustomize)\n",
    "        library(ggpubr)\n",
    "        library(pals)\n",
    "        library(patchwork)\n",
    "        library(ComplexUpset)\n",
    "    })})"
   ]
  },
  {
   "cell_type": "code",
   "execution_count": null,
   "id": "39ea3e8b-4e9f-4694-a0dc-58f4c95dd9af",
   "metadata": {},
   "outputs": [],
   "source": [
    "#Color Palettes\n",
    "\n",
    "palette.doublets <- c(\n",
    "    '#197278',#turqu\n",
    "    '#C1C1C1'#grey\n",
    ")\n",
    "\n",
    "palette.2 <- c(\n",
    "    \"#990902\",\n",
    "    \"#0303a3\"\n",
    ")\n",
    "\n",
    "palette.4 <- DiscretePalette(4, palette = \"stepped\", shuffle = TRUE)\n",
    "\n",
    "palette.12 <- DiscretePalette(12, palette = \"stepped\", shuffle = TRUE)\n",
    "\n",
    "palette.15 <- DiscretePalette(12, palette = \"stepped\", shuffle = TRUE)\n",
    "\n",
    "palette <- c(\n",
    "    \"#990902\",#CM_0\n",
    "    \"#0303a3\",#EC-end\n",
    "    \"#ebe6c7\",#FB\n",
    "    \"#077a01\",#MΦ-M2\n",
    "    \"#05b1eb\",#EC-cap\n",
    "    \"#660202\",#PER\n",
    "    \"#4b048a\",#MESO\n",
    "    \"#7d0701\",#CM_1\n",
    "    \"#0FB602\",#TC\n",
    "    \"#0324fc\",#EC-lym\n",
    "    \"#FFD100\",#SC\n",
    "    \"#d90f04\",#CM_2\n",
    "    \"#aad902\"#BC\n",
    ")\n",
    "\n",
    "palette.CM <- c(\n",
    "    \"#AF0000\",#CM\n",
    "    \"#0303a3\",#EC-end\n",
    "    \"#ebe6c7\",#FB\n",
    "    \"#077a01\",#MΦ-M2\n",
    "    \"#05b1eb\",#EC-cap\n",
    "    \"#660202\",#PER\n",
    "    \"#4b048a\",#MESO\n",
    "    \"#0FB602\",#TC\n",
    "    \"#0324fc\",#EC-lym\n",
    "    \"#FFD100\",#SC\n",
    "    \"#aad902\"#BC\n",
    ")\n",
    " \n",
    "palette.treatment <- c(\n",
    "    '#AF0000',#ALDO\n",
    "    '#C1C1C1'#CTRL\n",
    ")"
   ]
  },
  {
   "cell_type": "code",
   "execution_count": null,
   "id": "594f95d6-1f38-411c-aed5-ad8b70d5a04f",
   "metadata": {},
   "outputs": [],
   "source": [
    "umap_theme <- theme(\n",
    "  axis.line=element_blank(),\n",
    "  axis.text.x=element_blank(),\n",
    "  axis.text.y=element_blank(),\n",
    "  axis.ticks=element_blank(),\n",
    "  axis.title.x=element_blank(),\n",
    "  axis.title.y=element_blank(),\n",
    "  panel.background=element_blank(),\n",
    "  panel.border=element_blank(),\n",
    "  panel.grid.major=element_blank(),\n",
    "  panel.grid.minor=element_blank()\n",
    ")\n",
    "\n",
    "vln_theme_1 <- theme(\n",
    "  axis.text.x = element_blank(),\n",
    "  axis.text.y = element_blank(),\n",
    "  panel.background = element_blank(),\n",
    "  axis.title.x = element_blank(),\n",
    "  axis.title.y = element_blank(),\n",
    "  panel.border = element_blank(),\n",
    "  panel.grid.major = element_blank(),\n",
    "  panel.grid.minor = element_blank(),\n",
    "  text = element_text(size = 25)\n",
    ")\n",
    "\n",
    "vln_theme_2 <- theme(\n",
    "  panel.background = element_blank(),\n",
    "  panel.border = element_blank(),\n",
    "  panel.grid.major = element_blank(),\n",
    "  panel.grid.minor = element_blank(),\n",
    ")"
   ]
  },
  {
   "cell_type": "code",
   "execution_count": null,
   "id": "4c5dd502-239e-4284-a041-5e787e6f7d0f",
   "metadata": {
    "tags": []
   },
   "outputs": [],
   "source": [
    "setwd(\"/media/daten/dmeral/scseq_analysis/2024_LA_CTRL_ALDO\")"
   ]
  },
  {
   "cell_type": "code",
   "execution_count": null,
   "id": "796ce2ea-297a-45e0-ad95-5c4f94e00607",
   "metadata": {},
   "outputs": [],
   "source": [
    "set.seed(1234)"
   ]
  },
  {
   "cell_type": "markdown",
   "id": "c78ea220-91a5-47c1-866b-fd413116c47a",
   "metadata": {},
   "source": [
    "# UMAPs"
   ]
  },
  {
   "cell_type": "code",
   "execution_count": null,
   "id": "8b835f46-b914-4a66-bec9-aaa980bbbb22",
   "metadata": {
    "tags": []
   },
   "outputs": [],
   "source": [
    "# Load after subcluster analysis is finished \n",
    "obj.subcluster_CM <- LoadH5Seurat(\"subcluster/Subcluster_CM_down.h5seurat\")"
   ]
  },
  {
   "cell_type": "code",
   "execution_count": null,
   "id": "fb4d060e-68bb-4c8c-a585-24fdcb69e485",
   "metadata": {},
   "outputs": [],
   "source": [
    "# Subset to CM clusters\n",
    "sub_CM <- subset(x = obj.subcluster_CM, subset = seurat_clusters %in% c(\"0\", \"1\"))"
   ]
  },
  {
   "cell_type": "code",
   "execution_count": null,
   "id": "c0bdc9e6-8b8b-4520-9145-0545f8be82e7",
   "metadata": {},
   "outputs": [],
   "source": [
    "# Subset the `sub_CM` object to include only cells with detectable Fkbb5 expression\n",
    "sub_CM_expressionsub <- subset(x = sub_CM, subset = Nr3c2 > 0)"
   ]
  },
  {
   "cell_type": "code",
   "execution_count": null,
   "id": "5e7b6889-2ee7-4e2d-94ca-627336ab5c0e",
   "metadata": {
    "scrolled": true
   },
   "outputs": [],
   "source": [
    "# Load full seurat obj\n",
    "obj.full <- LoadH5Seurat(\"seurat_objects/obj_seu_merge_harmony_sgl_addmodule_downsample_rename.h5seurat\")"
   ]
  },
  {
   "cell_type": "code",
   "execution_count": null,
   "id": "0ed4db48-e19e-4a13-a65d-85e7b185e555",
   "metadata": {},
   "outputs": [],
   "source": [
    "# Number of nuclei (or cells) in the Seurat object\n",
    "num_nuclei <- ncol(obj.full)\n",
    "cat(\"Number of nuclei:\", num_nuclei, \"\\n\")\n",
    "\n",
    "# Median number of genes per nucleus\n",
    "# This uses the 'nFeature_RNA' column in the metadata, which stores the number of genes detected per cell\n",
    "median_genes <- median(obj.full@meta.data$nFeature_RNA)\n",
    "cat(\"Median number of genes per nucleus:\", median_genes, \"\\n\")\n"
   ]
  },
  {
   "cell_type": "code",
   "execution_count": null,
   "id": "220084f4-d1e2-4937-8d36-e22fa18992f6",
   "metadata": {},
   "outputs": [],
   "source": [
    "sub_full <- subset(x = obj.full, subset = cell_type %in% c(\"CM_0\", \"MΦ\", \"FB\", \"PER\", \"EC-end\", \"EC-cap\", \"CM_2\", \"CM_1\", \"MESO\"))"
   ]
  },
  {
   "cell_type": "code",
   "execution_count": null,
   "id": "38a0dc4b-54d2-4a40-9826-e4b2411c4d8b",
   "metadata": {},
   "outputs": [],
   "source": [
    "# Split the Seurat object by treatment\n",
    "seurat_list_full <- SplitObject(obj.full, split.by = \"treatment\")"
   ]
  },
  {
   "cell_type": "markdown",
   "id": "e27d2c95-5d89-42ea-a482-4694916d178f",
   "metadata": {},
   "source": [
    "## MR expression"
   ]
  },
  {
   "cell_type": "code",
   "execution_count": null,
   "id": "2915f1e3-baa6-46c6-b3ab-c1ac3f9b9efb",
   "metadata": {},
   "outputs": [],
   "source": [
    "options(repr.plot.width = 5, repr.plot.height = 4, repr.plot.res = 300)\n",
    "\n",
    "# Generate the UMAP plots for Zbtb16 with split by treatment\n",
    "UMAP_MR <- FeaturePlot(obj.full, features = \"Nr3c2\",\n",
    "                                pt.size = 0.1, order = TRUE, cols = viridis(258)) + umap_theme\n",
    "\n",
    "\n",
    "\n",
    "# Save the plot\n",
    "ggsave(\"Plots/UMAP_MR.svg\", UMAP_MR, units = \"cm\", dpi = 300, width = 15, height = 10)\n",
    "\n",
    "UMAP_MR"
   ]
  },
  {
   "cell_type": "code",
   "execution_count": null,
   "id": "99b8361a-ab9e-454e-9776-9106deeeb304",
   "metadata": {
    "scrolled": true
   },
   "outputs": [],
   "source": [
    "# Combine CM clusters \n",
    "cluster_annotations_CMcomb <- list(\n",
    "    \"0\" = \"CM\",\n",
    "    \"1\" = \"EC-end\",\n",
    "    \"2\" = \"FB\",\n",
    "    \"3\" = \"MΦ\",\n",
    "    \"4\" = \"EC-cap\",\n",
    "    \"5\" = \"PER\",\n",
    "    \"6\" = \"MESO\",\n",
    "    \"7\" = \"CM\",\n",
    "    \"8\" = \"TC\",\n",
    "    \"9\" = \"EC-lym\",\n",
    "    \"10\" = \"SC\",\n",
    "    \"11\" = \"CM\",\n",
    "    \"12\" = \"BC\")"
   ]
  },
  {
   "cell_type": "code",
   "execution_count": null,
   "id": "0b19dbe5-d046-46c1-8b73-a8cb0584a4e6",
   "metadata": {},
   "outputs": [],
   "source": [
    "names(cluster_annotations_CMcomb) <- levels(obj.full)\n",
    "obj.full <- RenameIdents(obj.full, cluster_annotations_CMcomb)\n",
    "\n",
    "obj.full$\"cell_type_CMcomb\" <- Idents(obj.full)"
   ]
  },
  {
   "cell_type": "code",
   "execution_count": null,
   "id": "b965fad3-b33e-4d91-911f-1cb7f71ab1e8",
   "metadata": {},
   "outputs": [],
   "source": [
    "options(repr.plot.width = 5, repr.plot.height = 4, repr.plot.res = 300)\n",
    "\n",
    "DimPlot(obj.full, label = TRUE)"
   ]
  },
  {
   "cell_type": "code",
   "execution_count": null,
   "id": "d1c05afa-0361-4d26-9023-9c041c50bf11",
   "metadata": {},
   "outputs": [],
   "source": [
    "options(repr.plot.width = 3, repr.plot.height = 4, repr.plot.res = 300)\n",
    "\n",
    "# Create DotPlot for each treatment\n",
    "DOT_MR <- DotPlot(\n",
    "  obj.full,\n",
    "  features = c(\"Nr3c2\")) + \n",
    "  geom_point(aes(size = pct.exp), shape = 21, colour = \"black\", stroke = 0.5) +  \n",
    "  guides(\n",
    "    size = guide_legend(override.aes = list(shape = 21, colour = \"black\", fill = \"white\")),  \n",
    "    colour = guide_colorbar(frame.colour = \"black\", ticks.colour = \"black\")  \n",
    "  ) +\n",
    "  theme(axis.text.x = element_text(angle = 90, hjust = 1)) +\n",
    "  theme(panel.border = element_rect(color = \"black\", linewidth = 0.5)) +\n",
    "  scale_colour_distiller(palette = \"OrRd\", direction = 0) +\n",
    "  scale_y_discrete(limits = rev) +\n",
    "  labs(x = NULL, y = NULL) +  # Removes axis labels\n",
    "  ggtitle(\"MR expression\")\n",
    "\n",
    "# Suppress warnings and print the combined plot\n",
    "DOT_MR\n",
    "\n",
    "# Save the combined plot to a file\n",
    "ggsave(\"Plots/DOT_MR_expression.svg\", DOT_MR, units = \"cm\", width = 7.5, height = 10, dpi = 300)"
   ]
  },
  {
   "cell_type": "code",
   "execution_count": null,
   "id": "c97d8204-1839-4861-b160-f56373fdf8b9",
   "metadata": {},
   "outputs": [],
   "source": [
    "# Define the gene of interest\n",
    "gene_of_interest <- \"Nr3c2\"  # Adjust if using a different gene name\n",
    "\n",
    "# Extract expression data\n",
    "expr_data <- FetchData(obj.full, vars = gene_of_interest)\n",
    "\n",
    "# Add metadata (cell types)\n",
    "expr_data$cell_type_CMcomb <- obj.full$cell_type_CMcomb\n",
    "\n",
    "# Subset to T cells only\n",
    "tcell_expr <- expr_data %>% filter(cell_type_CMcomb == \"TC\")\n",
    "\n",
    "# Check summary statistics\n",
    "summary(tcell_expr[, gene_of_interest])\n"
   ]
  },
  {
   "cell_type": "code",
   "execution_count": null,
   "id": "6c598f6a-d42c-4ca6-93e8-47b92e2bd631",
   "metadata": {},
   "outputs": [],
   "source": [
    "# Non zero MR expresson TC\n",
    "obj_Tcells <- subset(obj.full, cell_type_CMcomb == \"TC\")\n",
    "\n",
    "# Extract MR expression values for T cells\n",
    "mr_expr_TC <- FetchData(obj_Tcells, vars = \"Nr3c2\")\n",
    "\n",
    "# Count how many T cells have nonzero MR expression\n",
    "num_mr_positive_TC <- sum(mr_expr_TC$Nr3c2 > 0)\n",
    "\n",
    "# Total number of T cells\n",
    "total_Tcells <- nrow(mr_expr_TC)\n",
    "\n",
    "# Percentage of MR+ T cells\n",
    "percent_mr_positive_TC <- (num_mr_positive_TC / total_Tcells) * 100\n",
    "\n",
    "# Print results\n",
    "num_mr_positive_TC\n",
    "percent_mr_positive_TC"
   ]
  },
  {
   "cell_type": "code",
   "execution_count": null,
   "id": "4e9c752b-086c-4f0c-879c-f140cd6da339",
   "metadata": {},
   "outputs": [],
   "source": [
    "VlnPlot(obj.full, features = \"Nr3c2\", group.by = \"cell_type_CMcomb\", pt.size = FALSE, cols = palette.CM) + \n",
    "  ggtitle(\"MR (Nr3c2) Expression\")"
   ]
  },
  {
   "cell_type": "markdown",
   "id": "eb3d08d1-2f4d-46f1-ae93-4ac3744edc32",
   "metadata": {},
   "source": [
    "## CM subcluster"
   ]
  },
  {
   "cell_type": "code",
   "execution_count": null,
   "id": "bad12208-572f-4760-9882-ec2e12ae0c72",
   "metadata": {},
   "outputs": [],
   "source": [
    "sub_CM <- subset(x = obj.subcluster_CM, subset = seurat_clusters %in% c(\"0\", \"1\"))"
   ]
  },
  {
   "cell_type": "code",
   "execution_count": null,
   "id": "ed9ff718-077a-42f6-95cf-f9c11181b8e2",
   "metadata": {},
   "outputs": [],
   "source": [
    "palette.treatment"
   ]
  },
  {
   "cell_type": "code",
   "execution_count": null,
   "id": "6248da7b-a0bb-4690-9b42-2f52c718ceb0",
   "metadata": {},
   "outputs": [],
   "source": [
    "options(repr.plot.width = 20, repr.plot.height = 5, repr.plot.res = 300) \n",
    "\n",
    "VlnGOI <- VlnPlot(sub_CM, group.by = \"cell_type_sub\", \n",
    "                      features = c(\"Nppb\", \"Ctgf\", \"Zbtb16\", \"Hlf\"), pt.size = 0, raster = TRUE, ncol = 4, cols = rev(palette.treatment))\n",
    "\n",
    "\n",
    "ggsave(\"subcluster/Plots/VlnPlot_NppbCtgfZbtb16Hlf.svg\", VlnGOI, units = \"cm\", dpi = 300, width = 18, height = 7.5)\n",
    "\n",
    "VlnGOI"
   ]
  },
  {
   "cell_type": "code",
   "execution_count": null,
   "id": "90770238-2aff-4a2e-a0b6-cef33458bc4e",
   "metadata": {},
   "outputs": [],
   "source": [
    "options(repr.plot.width = 5, repr.plot.height = 4, repr.plot.res = 300)\n",
    "\n",
    "# Generate the UMAP plots for Zbtb16 with split by treatment\n",
    "UMAP_Hcn4 <- FeaturePlot(obj.subcluster_CM, features = \"Hcn4\",\n",
    "                                pt.size = 0.1, order = TRUE, cols = viridis(258)) + umap_theme\n",
    "\n",
    "\n",
    "\n",
    "# Save the plot\n",
    "ggsave(\"subcluster/Plots/UMAP_Hcn4.svg\", UMAP_Hcn4, units = \"cm\", dpi = 300, width = 10, height = 8)\n",
    "\n",
    "UMAP_Hcn4"
   ]
  },
  {
   "cell_type": "markdown",
   "id": "06de923c-e044-4f2f-979a-626506649cbc",
   "metadata": {},
   "source": [
    "# MR target Dot plot"
   ]
  },
  {
   "cell_type": "code",
   "execution_count": null,
   "id": "c19664d2-ad61-4098-b286-975242d9c26f",
   "metadata": {},
   "outputs": [],
   "source": [
    "MR_tragets_GOI <- list(c(\n",
    "\"Fkbp5\",\n",
    "\"Klf9\",\n",
    "\"Per1\",\n",
    "\"Per2\",\n",
    "\"Tsc22d3\",\n",
    "\"Clock\",\n",
    "\"Egfr\",\n",
    "\"Kdr\",\n",
    "\"Zfp346\",\n",
    "\"Xdh\",\n",
    "\"Ace\",\n",
    "\"Zbtb16\",\n",
    "\"Txnip\"\n",
    "))"
   ]
  },
  {
   "cell_type": "code",
   "execution_count": null,
   "id": "b3c57096-0f2a-467c-8a33-78e77b07de22",
   "metadata": {},
   "outputs": [],
   "source": [
    "options(repr.plot.width = 15, repr.plot.height = 10, repr.plot.res = 300)\n",
    "\n",
    "cluster_annotations_sgl <- list(\n",
    "    \"0\" = \"CM\",\n",
    "    \"1\" = \"EC-end\",\n",
    "    \"2\" = \"FB\",\n",
    "    \"3\" = \"MΦ\",\n",
    "    \"4\" = \"EC-cap\",\n",
    "    \"5\" = \"PER\",\n",
    "    \"6\" = \"MESO\",\n",
    "    \"9\" = \"CM\",\n",
    "    \"10\" = \"TC\",\n",
    "    \"11\" = \"EC-lym\",\n",
    "    \"12\" = \"SC\",\n",
    "    \"13\" = \"CM\",\n",
    "    \"14\" = \"BC\"\n",
    ")\n",
    "\n",
    "names(cluster_annotations_sgl) <- levels(obj.full)\n",
    "obj.full <- RenameIdents(obj.full, cluster_annotations_sgl)\n",
    "\n",
    "# Split the Seurat object by treatment\n",
    "seurat_list <- SplitObject(obj.full, split.by = \"treatment\")\n",
    "\n",
    "Idents(obj.full) <- obj.full@meta.data$\"Ident_numerical\"\n",
    "\n",
    "# Create DotPlot for each treatment\n",
    "DOT_GOI_Aldosterone <- DotPlot(\n",
    "  seurat_list$ALDO,\n",
    "  features = unlist(MR_tragets_GOI, use.names = FALSE)) + \n",
    "  geom_point(aes(size = pct.exp), shape = 21, colour = \"black\", stroke = 0.5) +  \n",
    "  guides(\n",
    "    size = guide_legend(override.aes = list(shape = 21, colour = \"black\", fill = \"white\")),  \n",
    "    colour = guide_colorbar(frame.colour = \"black\", ticks.colour = \"black\")  \n",
    "  ) +\n",
    "  theme(axis.text.x = element_text(angle = 90, hjust = 1)) +\n",
    "  theme(panel.border = element_rect(color = \"black\", linewidth = 0.5)) +\n",
    "  scale_colour_distiller(palette = \"OrRd\", direction = 0) +\n",
    "  scale_y_discrete(limits = rev) +\n",
    "  labs(x = NULL, y = NULL) +  # Removes axis labels\n",
    "  ggtitle(\"Aldosterone\")\n",
    "\n",
    "DOT_GOI_Control <- DotPlot(\n",
    "  seurat_list$CTRL,\n",
    "  features = unlist(MR_tragets_GOI, use.names = FALSE)) + \n",
    "  geom_point(aes(size = pct.exp), shape = 21, colour = \"black\", stroke = 0.5) +  \n",
    "  guides(\n",
    "    size = guide_legend(override.aes = list(shape = 21, colour = \"black\", fill = \"white\")),  \n",
    "    colour = guide_colorbar(frame.colour = \"black\", ticks.colour = \"black\")  \n",
    "  ) +\n",
    "  theme(axis.text.x = element_text(angle = 90, hjust = 1)) +\n",
    "  theme(panel.border = element_rect(color = \"black\", linewidth = 0.5)) +\n",
    "  scale_colour_distiller(palette = \"OrRd\", direction = 0) +\n",
    "  scale_y_discrete(limits = rev) +\n",
    "  labs(x = NULL, y = NULL) +  # Removes axis labels\n",
    "  ggtitle(\"Control\")\n",
    "\n",
    "# Combine the two plots vertically using patchwork\n",
    "combined_plot <- DOT_GOI_Aldosterone / DOT_GOI_Control\n",
    "\n",
    "# Suppress warnings and print the combined plot\n",
    "suppressWarnings(print(combined_plot))\n",
    "\n",
    "# Save the combined plot to a file\n",
    "ggsave(\"Plots/DOT_MR_targets_GOI.svg\", combined_plot, units = \"cm\", width = 16, height = 18, dpi = 300)"
   ]
  },
  {
   "cell_type": "code",
   "execution_count": 4,
   "id": "c0159f07-03d8-4371-94ea-283f0c27b7c4",
   "metadata": {},
   "outputs": [
    {
     "data": {
      "text/plain": [
       "R version 4.2.2 (2022-10-31)\n",
       "Platform: x86_64-conda-linux-gnu (64-bit)\n",
       "Running under: Ubuntu 24.04.1 LTS\n",
       "\n",
       "Matrix products: default\n",
       "BLAS/LAPACK: /media/daten/dmeral/micromamba/envs/user_R/lib/libopenblasp-r0.3.26.so\n",
       "\n",
       "locale:\n",
       " [1] LC_CTYPE=C.UTF-8       LC_NUMERIC=C           LC_TIME=C.UTF-8       \n",
       " [4] LC_COLLATE=C.UTF-8     LC_MONETARY=C.UTF-8    LC_MESSAGES=C.UTF-8   \n",
       " [7] LC_PAPER=C.UTF-8       LC_NAME=C              LC_ADDRESS=C          \n",
       "[10] LC_TELEPHONE=C         LC_MEASUREMENT=C.UTF-8 LC_IDENTIFICATION=C   \n",
       "\n",
       "attached base packages:\n",
       "[1] stats4    stats     graphics  grDevices utils     datasets  methods  \n",
       "[8] base     \n",
       "\n",
       "other attached packages:\n",
       " [1] ComplexUpset_1.3.3          UpSetR_1.4.0               \n",
       " [3] patchwork_1.3.0             pals_1.8                   \n",
       " [5] ggpubr_0.6.0                scCustomize_2.1.2          \n",
       " [7] gridExtra_2.3               viridis_0.6.5              \n",
       " [9] viridisLite_0.4.2           svglite_2.1.3              \n",
       "[11] Rsamtools_2.14.0            Biostrings_2.66.0          \n",
       "[13] XVector_0.38.0              EnhancedVolcano_1.16.0     \n",
       "[15] ggrepel_0.9.5               DESeq2_1.38.3              \n",
       "[17] SummarizedExperiment_1.28.0 Biobase_2.58.0             \n",
       "[19] MatrixGenerics_1.10.0       matrixStats_1.5.0          \n",
       "[21] GenomicRanges_1.50.2        GenomeInfoDb_1.34.9        \n",
       "[23] IRanges_2.32.0              S4Vectors_0.36.2           \n",
       "[25] BiocGenerics_0.44.0         harmony_1.2.0              \n",
       "[27] Rcpp_1.0.14                 lubridate_1.9.3            \n",
       "[29] forcats_1.0.0               stringr_1.5.1              \n",
       "[31] dplyr_1.1.4                 purrr_1.0.4                \n",
       "[33] readr_2.1.5                 tidyr_1.3.1                \n",
       "[35] tibble_3.2.1                tidyverse_2.0.0            \n",
       "[37] ggplot2_3.5.2               SeuratDisk_0.0.0.9021      \n",
       "[39] SeuratObject_5.0.1          Seurat_4.4.0               \n",
       "\n",
       "loaded via a namespace (and not attached):\n",
       "  [1] spatstat.explore_3.3-2 reticulate_1.35.0      tidyselect_1.2.1      \n",
       "  [4] RSQLite_2.3.4          AnnotationDbi_1.60.2   htmlwidgets_1.6.4     \n",
       "  [7] grid_4.2.2             BiocParallel_1.32.5    Rtsne_0.17            \n",
       " [10] codetools_0.2-19       ica_1.0-3              pbdZMQ_0.3-11         \n",
       " [13] future_1.34.0          miniUI_0.1.1.1         withr_3.0.2           \n",
       " [16] spatstat.random_3.3-2  colorspace_2.1-1       progressr_0.14.0      \n",
       " [19] uuid_1.2-0             ROCR_1.0-11            ggsignif_0.6.4        \n",
       " [22] tensor_1.5             listenv_0.9.1          repr_1.1.6            \n",
       " [25] GenomeInfoDbData_1.2.9 polyclip_1.10-6        bit64_4.6.0-1         \n",
       " [28] farver_2.1.2           parallelly_1.42.0      vctrs_0.6.5           \n",
       " [31] generics_0.1.3         timechange_0.3.0       R6_2.6.1              \n",
       " [34] ggbeeswarm_0.7.2       locfit_1.5-9.9         spatstat.univar_3.0-1 \n",
       " [37] hdf5r_1.3.8            bitops_1.0-9           spatstat.utils_3.1-0  \n",
       " [40] cachem_1.1.0           DelayedArray_0.24.0    promises_1.2.1        \n",
       " [43] scales_1.4.0           beeswarm_0.4.0         gtable_0.3.6          \n",
       " [46] globals_0.16.3         goftest_1.2-3          spam_2.10-0           \n",
       " [49] rlang_1.1.6            systemfonts_1.0.5      GlobalOptions_0.1.2   \n",
       " [52] splines_4.2.2          rstatix_0.7.2          lazyeval_0.2.2        \n",
       " [55] dichromat_2.0-0.1      broom_1.0.5            spatstat.geom_3.3-3   \n",
       " [58] reshape2_1.4.4         abind_1.4-8            backports_1.4.1       \n",
       " [61] httpuv_1.6.14          tools_4.2.2            RColorBrewer_1.1-3    \n",
       " [64] ggridges_0.5.6         plyr_1.8.9             base64enc_0.1-3       \n",
       " [67] zlibbioc_1.44.0        RCurl_1.98-1.16        deldir_2.0-4          \n",
       " [70] pbapply_1.7-2          cowplot_1.1.3          zoo_1.8-12            \n",
       " [73] cluster_2.1.6          magrittr_2.0.3         data.table_1.17.2     \n",
       " [76] scattermore_1.2        circlize_0.4.16        lmtest_0.9-40         \n",
       " [79] RANN_2.6.2             fitdistrplus_1.2-1     hms_1.1.3             \n",
       " [82] mime_0.12              evaluate_1.0.3         xtable_1.8-4          \n",
       " [85] XML_3.99-0.14          shape_1.4.6.1          compiler_4.2.2        \n",
       " [88] maps_3.4.2             KernSmooth_2.23-22     crayon_1.5.3          \n",
       " [91] htmltools_0.5.8.1      later_1.3.2            tzdb_0.5.0            \n",
       " [94] ggprism_1.0.4          geneplotter_1.76.0     DBI_1.2.3             \n",
       " [97] MASS_7.3-60.0.1        car_3.1-2              Matrix_1.6-5          \n",
       "[100] cli_3.6.5              parallel_4.2.2         dotCall64_1.2         \n",
       "[103] igraph_2.1.4           pkgconfig_2.0.3        sp_2.2-0              \n",
       "[106] IRdisplay_1.1          plotly_4.10.4          spatstat.sparse_3.1-0 \n",
       "[109] paletteer_1.6.0        annotate_1.76.0        vipor_0.4.7           \n",
       "[112] snakecase_0.11.1       digest_0.6.37          sctransform_0.4.1     \n",
       "[115] RcppAnnoy_0.0.22       janitor_2.2.0          spatstat.data_3.1-2   \n",
       "[118] leiden_0.4.3.1         uwot_0.1.16            shiny_1.9.1           \n",
       "[121] lifecycle_1.0.4        nlme_3.1-164           jsonlite_2.0.0        \n",
       "[124] carData_3.0-5          mapproj_1.2.11         pillar_1.10.2         \n",
       "[127] lattice_0.22-6         ggrastr_1.0.2          KEGGREST_1.38.0       \n",
       "[130] fastmap_1.2.0          httr_1.4.7             survival_3.5-8        \n",
       "[133] glue_1.8.0             png_0.1-8              bit_4.6.0             \n",
       "[136] stringi_1.8.4          rematch2_2.1.2         blob_1.2.4            \n",
       "[139] memoise_2.0.1          IRkernel_1.3.2         irlba_2.3.5.1         \n",
       "[142] future.apply_1.11.2   "
      ]
     },
     "metadata": {},
     "output_type": "display_data"
    }
   ],
   "source": [
    "sessionInfo()"
   ]
  }
 ],
 "metadata": {
  "kernelspec": {
   "display_name": "user_R",
   "language": "R",
   "name": "user_r"
  },
  "language_info": {
   "codemirror_mode": "r",
   "file_extension": ".r",
   "mimetype": "text/x-r-source",
   "name": "R",
   "pygments_lexer": "r",
   "version": "4.2.2"
  }
 },
 "nbformat": 4,
 "nbformat_minor": 5
}
