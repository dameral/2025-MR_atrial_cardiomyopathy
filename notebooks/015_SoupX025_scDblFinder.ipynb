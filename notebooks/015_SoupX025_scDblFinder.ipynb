{
 "cells": [
  {
   "cell_type": "markdown",
   "id": "6de49d5e-d725-45f6-92e1-6831e18d8891",
   "metadata": {},
   "source": [
    "# Load libraries and Themes"
   ]
  },
  {
   "cell_type": "code",
   "execution_count": 1,
   "id": "35d7dba7-aec1-4e24-9702-d0eb6d41a8e3",
   "metadata": {
    "scrolled": true,
    "tags": []
   },
   "outputs": [],
   "source": [
    "suppressPackageStartupMessages({\n",
    "        suppressWarnings({\n",
    "        library(Seurat)\n",
    "        library(SoupX)\n",
    "        library(ggplot2)\n",
    "        library(tidyverse)\n",
    "        library(scDblFinder)\n",
    "        library(harmony)\n",
    "        library(SeuratDisk)\n",
    "        library(SingleCellExperiment)\n",
    "        library(dplyr)\n",
    "        library(ggpubr)\n",
    "        library(pals)\n",
    "        library(viridis)\n",
    "        library(scCustomize)\n",
    "            })})"
   ]
  },
  {
   "cell_type": "code",
   "execution_count": null,
   "id": "4c5dd502-239e-4284-a041-5e787e6f7d0f",
   "metadata": {
    "tags": []
   },
   "outputs": [],
   "source": [
    "setwd(\"/media/daten/dmeral/scseq_analysis/2024_LA_CTRL_ALDO\")"
   ]
  },
  {
   "cell_type": "code",
   "execution_count": null,
   "id": "9b8f31dd-5166-42c9-b342-7e71132c5f66",
   "metadata": {},
   "outputs": [],
   "source": [
    "set.seed(1234)"
   ]
  },
  {
   "cell_type": "markdown",
   "id": "56a99257-81a8-4532-9567-dfc74db2280f",
   "metadata": {},
   "source": [
    "# SoupX (remove ambient signal)"
   ]
  },
  {
   "cell_type": "code",
   "execution_count": null,
   "id": "8387838a-b68d-492f-bb9c-4f90933d4d2c",
   "metadata": {},
   "outputs": [],
   "source": [
    "ContaminationFraction <- 0.25"
   ]
  },
  {
   "cell_type": "code",
   "execution_count": null,
   "id": "3ef3552c-6369-4fbf-87b3-9d76681d4bbe",
   "metadata": {},
   "outputs": [],
   "source": [
    "samples <- c(\"LA_2109\", \"LA_2111\", \"LA_2112\", \"LA_2115\")"
   ]
  },
  {
   "cell_type": "code",
   "execution_count": null,
   "id": "a4552655-6323-494c-ac0e-f0553dc2158f",
   "metadata": {},
   "outputs": [],
   "source": [
    "# Simple pre-process\n",
    "\n",
    "mad_outlier <- function(sobj, metric, nmads){\n",
    "  M <- sobj@meta.data[[metric]]\n",
    "  median_M <- median(M, na.rm = TRUE)\n",
    "  mad_M <- mad(M, na.rm = TRUE)\n",
    "  outlier <- (M < (median_M - nmads * mad_M)) | (M > (median_M + nmads * mad_M))\n",
    "  return(outlier)\n",
    "}\n",
    "\n",
    "    # Load in filtered cellranger outs\n",
    "filter_mad_outliers <- function(sample_id){\n",
    "  path <- paste0(\"/media/daten/dmeral/scseq/2024_LA_CTRL_ALDO/\", sample_id, \"/outs/filtered_feature_bc_matrix/\")\n",
    "  sobj <- Read10X(data.dir = path)\n",
    "  sobj <- CreateSeuratObject(counts = sobj, min.cells = 0, min.features = 200)\n",
    "  sobj$sample_id <- sample_id\n",
    "  \n",
    "  # add QC metrics\n",
    "  sobj$log1p_total_counts <- log1p(sobj@meta.data$nCount_RNA)\n",
    "  sobj$log1p_n_genes_by_counts <- log1p(sobj@meta.data$nFeature_RNA)\n",
    "  sobj[[\"percent.mt\"]] <- PercentageFeatureSet(sobj, pattern = \"^mt-\")\n",
    "  \n",
    "  # find outliers and subset\n",
    "  bool_vector <- !mad_outlier(sobj, \"log1p_total_counts\", 5) & !mad_outlier(sobj, \"log1p_n_genes_by_counts\", 5) & !mad_outlier(sobj, 'percent.mt', 5)\n",
    "  sobj <- subset(sobj, cells = which(bool_vector))\n",
    "  \n",
    "  return(sobj)\n",
    "}"
   ]
  },
  {
   "cell_type": "code",
   "execution_count": null,
   "id": "0fd242f2-9b3c-4c96-ba54-dd243d218e08",
   "metadata": {},
   "outputs": [],
   "source": [
    "data_list <- sapply(samples, filter_mad_outliers)"
   ]
  },
  {
   "cell_type": "code",
   "execution_count": null,
   "id": "221c8aff-76d7-4c6d-9a5d-4468acebbc83",
   "metadata": {},
   "outputs": [],
   "source": [
    "# Basic seurat normalization and clustering\n",
    "get_soup_groups <- function(sobj){\n",
    "  sobj <- NormalizeData(sobj, verbose = FALSE)\n",
    "  sobj <- FindVariableFeatures(object = sobj, nfeatures = 2000, verbose = FALSE, selection.method = \"vst\")\n",
    "  sobj <- ScaleData(sobj, verbose = FALSE)\n",
    "  sobj <- RunPCA(sobj, npcs = 35, verbose = FALSE)\n",
    "  sobj <- FindNeighbors(sobj, dims = 1:35, verbose = FALSE)\n",
    "  sobj <- FindClusters(sobj, resolution = 0.5, verbose = FALSE)\n",
    "  \n",
    "  return(sobj@meta.data[[\"seurat_clusters\"]])\n",
    "}"
   ]
  },
  {
   "cell_type": "code",
   "execution_count": null,
   "id": "2f98f1ec-2ac9-4588-bf86-c22457a3078f",
   "metadata": {
    "scrolled": true
   },
   "outputs": [],
   "source": [
    "add_soup_groups <- function(sobj){\n",
    "  sobj$soup_group <- get_soup_groups(sobj)\n",
    "  return(sobj)\n",
    "}\n",
    "\n",
    "data_list <- sapply(data_list, add_soup_groups)"
   ]
  },
  {
   "cell_type": "code",
   "execution_count": null,
   "id": "98cede43-315f-4bfc-9dc3-7b46c96e4f1d",
   "metadata": {},
   "outputs": [],
   "source": [
    "make_soup <- function(sobj){\n",
    "  sample_id <- as.character(sobj$sample_id[1])  # e.g., LA_2109\n",
    "  path <- paste0(\"/media/daten/dmeral/scseq/2024_LA_CTRL_ALDO/\", sample_id, \"/outs/raw_feature_bc_matrix/\")\n",
    "  raw <- Read10X(data.dir = path)\n",
    "\n",
    "  sc <- SoupChannel(raw, GetAssayData(sobj, layer = \"counts\"))\n",
    "  sc <- setClusters(sc, sobj$soup_group)\n",
    "  sc <- setContaminationFraction(sc, ContaminationFraction)\n",
    "  out <- adjustCounts(sc, roundToInt = TRUE)\n",
    "  \n",
    "  # Optional: keep original counts\n",
    "  sobj[[\"original.counts\"]] <- CreateAssayObject(counts = GetAssayData(sobj, layer = \"counts\"))\n",
    "  \n",
    "  # Set adjusted counts back to the RNA assay\n",
    "  sobj <- SetAssayData(sobj, layer = \"counts\", new.data = out)\n",
    "  \n",
    "  return(sobj)\n",
    "}"
   ]
  },
  {
   "cell_type": "code",
   "execution_count": null,
   "id": "a5fba168-9abc-4921-b350-b5d6a540bb91",
   "metadata": {
    "tags": []
   },
   "outputs": [],
   "source": [
    "suppressWarnings({\n",
    "    data_list <- sapply(data_list, make_soup)\n",
    "})"
   ]
  },
  {
   "cell_type": "code",
   "execution_count": null,
   "id": "003d02ef-3166-42d0-b95f-cef5aa234c03",
   "metadata": {},
   "outputs": [],
   "source": [
    "# Check if  correct number of reads were removed by SoupX\n",
    "# Create a data frame to store results\n",
    "results <- data.frame(Sample = samples, Counts_Before = NA, Counts_After = NA, Fraction_Left = NA)\n",
    "\n",
    "# Iterate through each sample\n",
    "for (i in seq_along(samples)) {\n",
    "  sample_name <- samples[i]\n",
    "  data_obj <- data_list[[i]] \n",
    "\n",
    "  # Check if the assay exists\n",
    "  if (\"original.counts\" %in% names(data_obj) && \"RNA\" %in% names(data_obj)) {\n",
    "    counts_before <- sum(GetAssayData(data_obj, assay = \"original.counts\", layer = \"counts\"))\n",
    "    counts_after <- sum(GetAssayData(data_obj, assay = \"RNA\", layer = \"counts\"))\n",
    "\n",
    "    # Store results in the data frame\n",
    "    results[i, \"Counts_Before\"] <- counts_before\n",
    "    results[i, \"Counts_After\"] <- counts_after\n",
    "    \n",
    "    # Calculate percent left if counts_before is not zero\n",
    "    if (!is.na(counts_before) && counts_before > 0) {\n",
    "      results[i, \"Fraction_Left\"] <- counts_after / counts_before\n",
    "    }\n",
    "  } else {\n",
    "    message(paste(\"Assay not found for sample:\", sample_name))\n",
    "  }\n",
    "}\n",
    "\n",
    "# Print \n",
    "print(results)"
   ]
  },
  {
   "cell_type": "markdown",
   "id": "149a35d8-bb6d-4c48-bcba-b4637b9fe364",
   "metadata": {},
   "source": [
    "# scDblFinder (remove doublets)"
   ]
  },
  {
   "cell_type": "code",
   "execution_count": null,
   "id": "3e5d05fa-def9-4889-99ae-e4a0b128991d",
   "metadata": {},
   "outputs": [],
   "source": [
    "saveRDS(data_list, paste0(\"seurat_objects/rds_data_list_\", ContaminationFraction, \".rds\"))"
   ]
  },
  {
   "cell_type": "code",
   "execution_count": null,
   "id": "47537dd5-d729-4307-a397-2f709f424b58",
   "metadata": {},
   "outputs": [],
   "source": [
    "data_list <- readRDS(paste0(\"seurat_objects/rds_data_list_\", ContaminationFraction, \".rds\"))"
   ]
  },
  {
   "cell_type": "code",
   "execution_count": null,
   "id": "a7c04436-00d3-421b-bed3-9f4931d3a49e",
   "metadata": {},
   "outputs": [],
   "source": [
    "#Normalize/ Center and Scale Matrix\n",
    "data_list_scale <- lapply(data_list, function(obj.seu) {\n",
    "   obj.seu <- NormalizeData(obj.seu, verbose = FALSE)\n",
    "   obj.seu <- ScaleData(obj.seu, verbose = FALSE)\n",
    "   return(obj.seu)\n",
    "})"
   ]
  },
  {
   "cell_type": "code",
   "execution_count": null,
   "id": "cf1898df-9d34-43ce-b411-d7906337e5b3",
   "metadata": {},
   "outputs": [],
   "source": [
    "# Convert to SingleCellExperiment\n",
    "obj_sce <- lapply(data_list_scale, function(obj.seu){\n",
    "    as.SingleCellExperiment(obj.seu, assay = \"RNA\")\n",
    "})"
   ]
  },
  {
   "cell_type": "code",
   "execution_count": null,
   "id": "3240e176-2750-46b2-a8f4-567a5f2432d1",
   "metadata": {
    "scrolled": true
   },
   "outputs": [],
   "source": [
    "#Run scDblFinder\n",
    "obj_scDblFinder <- lapply(obj_sce, function(expression_matrix){\n",
    "   scDblFinder(expression_matrix)\n",
    "})"
   ]
  },
  {
   "cell_type": "code",
   "execution_count": null,
   "id": "0d17dbe7-d0da-4663-9180-13d98edb4ed5",
   "metadata": {
    "tags": []
   },
   "outputs": [],
   "source": [
    "# Convert to Seurat objet\n",
    "obj_seu <- lapply(obj_scDblFinder, function(sce){\n",
    "    as.Seurat(x = sce, \n",
    "              counts = \"counts\", \n",
    "              data = \"logcounts\")\n",
    "})"
   ]
  },
  {
   "cell_type": "code",
   "execution_count": null,
   "id": "f9917c06-9b86-4475-85c2-f31735e87073",
   "metadata": {
    "scrolled": true,
    "tags": []
   },
   "outputs": [],
   "source": [
    "table_singlets <- lapply(obj_seu, function(obj){\n",
    "    table(obj$scDblFinder.class)\n",
    "})\n",
    "\n",
    "print(table_singlets)"
   ]
  },
  {
   "cell_type": "markdown",
   "id": "b86b4aa4-7a13-48e7-8c53-3de964558f76",
   "metadata": {},
   "source": [
    "# Add meta.data, filter singlets and merge"
   ]
  },
  {
   "cell_type": "code",
   "execution_count": null,
   "id": "d8274ba8-4a30-49bd-8f3d-8a146e38f14e",
   "metadata": {},
   "outputs": [],
   "source": [
    "meta.data_tab <- matrix(c(rep(1, each = 4), \n",
    "                          \"CTRL\", \"ALDO\", \"ALDO\", \"CTRL\",\n",
    "                          \"f\", \"f\", \"m\", \"m\",\n",
    "                          rep(1, each = 4), \n",
    "                          rep(\"LA\", each = 4), \n",
    "                          1:4, \n",
    "                          rep(ContaminationFraction, each = 4)),\n",
    "                          ncol = 4, byrow = TRUE)\n",
    "\n",
    "rownames(meta.data_tab) <- c(\"replicate\", \"treatment\", \"sex\", \"batch\", \"chamber\", \"unique\", \"ContaminationFraction\")\n",
    "colnames(meta.data_tab) <- samples\n",
    "\n",
    "meta.data_tab <- as.table(meta.data_tab)\n",
    "meta.data_tab"
   ]
  },
  {
   "cell_type": "code",
   "execution_count": null,
   "id": "66111205-2978-48b5-9126-b739c791fc94",
   "metadata": {},
   "outputs": [],
   "source": [
    "# Adding metadata to Seurat objects with alignment\n",
    "obj_seu_newmeta <- lapply(samples, function(nam) {\n",
    "    # Retrieve the Seurat object for the current sample\n",
    "    scobj <- obj_seu[[nam]]\n",
    "    \n",
    "    # Extract the corresponding metadata and convert it to a data frame\n",
    "    meta <- meta.data_tab[, nam]\n",
    "    \n",
    "    # Ensure the metadata is in the right format\n",
    "    meta_df <- as.data.frame(matrix(rep(meta, ncol(scobj)), nrow = ncol(scobj), byrow = TRUE))\n",
    "    colnames(meta_df) <- rownames(meta.data_tab)  # Set column names to match the metadata structure\n",
    "    \n",
    "    # Add metadata to the Seurat object\n",
    "    scobj <- AddMetaData(scobj, metadata = meta_df)\n",
    "    \n",
    "    return(scobj)  # Return the modified Seurat object\n",
    "})\n",
    "\n",
    "# Assign names to the new list\n",
    "names(obj_seu_newmeta) <- samples"
   ]
  },
  {
   "cell_type": "code",
   "execution_count": null,
   "id": "d744673a-e34e-4430-8683-d67c70c415fa",
   "metadata": {},
   "outputs": [],
   "source": [
    "# Merge in one object\n",
    "obj_seu_merge <- Merge_Seurat_List(obj_seu_newmeta, add.cell.ids = c(1:4),  merge.data = TRUE, project = \"LA_C57Bl6_Aldosterone\")"
   ]
  },
  {
   "cell_type": "code",
   "execution_count": null,
   "id": "a0aa0f7b-6580-487d-9d8e-a7062986f35b",
   "metadata": {},
   "outputs": [],
   "source": [
    "SaveH5Seurat(obj_seu_merge, paste0(\"seurat_objects/setContaminationFraction/setContaminationFraction_\", ContaminationFraction, \"_dbl\"))"
   ]
  },
  {
   "cell_type": "markdown",
   "id": "f0408e90-a90c-4411-95de-2782d61baa8d",
   "metadata": {},
   "source": [
    "# Harmony (integration)"
   ]
  },
  {
   "cell_type": "markdown",
   "id": "d0e71487-3cf7-462e-80e2-d53dae942965",
   "metadata": {},
   "source": [
    "**run Harmony, UMAP using Harmony embeddings instead of PCA and visualize**\n",
    "Resolution can dramatically effect your clustering. While the overall shape of your tSNE or UMAP will not change the number of clusterings will be altered. \n",
    "This is something you need to dynamically adjust and examine as it relates to your dataset. To high a resolution and you end up with ill defined clusters \n",
    "which lack unique markers. To low and you end up with clusters that are too large and you may miss meaningful info."
   ]
  },
  {
   "cell_type": "code",
   "execution_count": null,
   "id": "0e6b9158-7045-4151-8105-01ec95b0e998",
   "metadata": {},
   "outputs": [],
   "source": [
    "#Filter Singlets\n",
    "obj_seu_merge_singlet <- subset(obj_seu_merge, scDblFinder.class == \"singlet\")"
   ]
  },
  {
   "cell_type": "code",
   "execution_count": null,
   "id": "5f32b4be-7b0a-42d6-a5a1-d54f31f7cf87",
   "metadata": {},
   "outputs": [],
   "source": [
    "# switch default assay to RNA\n",
    "DefaultAssay(object = obj_seu_merge_singlet) <- \"RNA\""
   ]
  },
  {
   "cell_type": "code",
   "execution_count": null,
   "id": "11e336c2-4e60-47dd-b493-af21032e6f84",
   "metadata": {},
   "outputs": [],
   "source": [
    "obj <- subset(obj_seu_merge_singlet, subset = nFeature_RNA > 300 & nFeature_RNA < 5000 & \n",
    "                        nCount_RNA > 500 & nCount_RNA < 15000 &\n",
    "                        percent.mt < 5)\n",
    "\n",
    "obj <- NormalizeData(obj, verbose = FALSE)\n",
    "obj <- FindVariableFeatures(obj, verbose = FALSE)\n",
    "obj <- ScaleData(obj, verbose = FALSE)\n",
    "obj <- RunPCA(obj, verbose = FALSE)"
   ]
  },
  {
   "cell_type": "code",
   "execution_count": null,
   "id": "55917932-6e59-4573-b8f7-3e1f3e748ebd",
   "metadata": {},
   "outputs": [],
   "source": [
    "# Integrate \"sex\"\n",
    "obj <- obj %>%\n",
    "  RunHarmony(group.by.vars = c(\"sex\"), plot_convergence = FALSE, assay.use = \"RNA\", verbose = FALSE)\n",
    "\n",
    "obj_embed <- Embeddings(obj, \"harmony\")"
   ]
  },
  {
   "cell_type": "code",
   "execution_count": null,
   "id": "87bc5836-b42e-4a63-b0d1-26afeda0fe99",
   "metadata": {},
   "outputs": [],
   "source": [
    "obj_harmony <- obj %>%\n",
    "  RunUMAP(reduction = \"harmony\", dims = 1:35, verbose = FALSE) %>%\n",
    "  FindNeighbors(reduction = \"harmony\", dims = 1:35, verbose = FALSE) %>%\n",
    "  FindClusters(resolution = 0.15)"
   ]
  },
  {
   "cell_type": "code",
   "execution_count": null,
   "id": "ac22e0a6-458b-44b9-95d7-61a97d8df2d5",
   "metadata": {},
   "outputs": [],
   "source": [
    "SaveH5Seurat(obj_harmony, paste0(\"seurat_objects/setContaminationFraction/setContaminationFraction_\", ContaminationFraction, \"_harmony_sgl\"))"
   ]
  },
  {
   "cell_type": "markdown",
   "id": "2d962e8e-6370-4b43-ada5-a3274e666428",
   "metadata": {},
   "source": [
    "# FindAllMarkers"
   ]
  },
  {
   "cell_type": "code",
   "execution_count": null,
   "id": "49747ca8-9c6e-4b7c-a562-14c3eb2576cf",
   "metadata": {
    "scrolled": true
   },
   "outputs": [],
   "source": [
    "# used assay RNA\n",
    "all.markers <- FindAllMarkers(obj_harmony, only.pos = TRUE, min.pct = 0.50, logfc.threshold = 0.58)\n",
    "all.markers %>%\n",
    "  group_by(\"seurat_clusters\") %>%\n",
    "  slice_max(n= 10, order_by = avg_log2FC)\n",
    "\n",
    "write.csv(all.markers, paste0(\"setContaminationFraction/all.markers_wilcox_setContaminationFraction_\", ContaminationFraction, \"_harmony_sgl.csv\"))"
   ]
  },
  {
   "cell_type": "code",
   "execution_count": null,
   "id": "732bf3f5-c3fb-48f5-9285-8dea726be8f1",
   "metadata": {},
   "outputs": [],
   "source": [
    "# Initialize a list to store marker results for each sample\n",
    "marker_results <- list()\n",
    "\n",
    "for (sample in samples) {\n",
    "    obj_sample <- subset(obj_harmony, subset = sample_id == sample)\n",
    "    obj_sample <- subset(obj_sample, subset = seurat_clusters %in% 0:5)\n",
    "    all.markers <- FindAllMarkers(obj_sample, \n",
    "                                only.pos = TRUE, \n",
    "                                min.pct = 0.75, \n",
    "                                logfc.threshold = 0.58)\n",
    "\n",
    "    top.markers <- all.markers %>%\n",
    "    group_by(cluster) %>%\n",
    "    slice_max(n = 10, order_by = avg_log2FC)\n",
    "  \n",
    "  write.csv(top.markers, paste0(\"setContaminationFraction/all.markers_wilcox_setContaminationFraction_\", \n",
    "                                ContaminationFraction, \"_\", sample, \"_harmony_sgl.csv\"))\n",
    "  \n",
    "  marker_results[[sample]] <- top.markers\n",
    "}"
   ]
  }
 ],
 "metadata": {
  "kernelspec": {
   "display_name": "scrna_dm",
   "language": "R",
   "name": "scrna_dm"
  },
  "language_info": {
   "codemirror_mode": "r",
   "file_extension": ".r",
   "mimetype": "text/x-r-source",
   "name": "R",
   "pygments_lexer": "r",
   "version": "4.3.3"
  }
 },
 "nbformat": 4,
 "nbformat_minor": 5
}
